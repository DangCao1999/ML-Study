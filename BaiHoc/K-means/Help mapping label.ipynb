{
 "cells": [
  {
   "cell_type": "code",
   "execution_count": 8,
   "id": "cd3a9d92",
   "metadata": {},
   "outputs": [],
   "source": [
    "import pandas as pd\n",
    "import numpy as np"
   ]
  },
  {
   "cell_type": "markdown",
   "id": "58cc80fa",
   "metadata": {},
   "source": [
    "# Mapping label with value cluster"
   ]
  },
  {
   "cell_type": "markdown",
   "id": "cda09875",
   "metadata": {},
   "source": [
    "## Cách 1: Lặp và map"
   ]
  },
  {
   "cell_type": "code",
   "execution_count": 4,
   "id": "29cbe5f7",
   "metadata": {},
   "outputs": [
    {
     "name": "stdout",
     "output_type": "stream",
     "text": [
      "{0: 'a', 1: 'b', 2: 'c'}\n"
     ]
    }
   ],
   "source": [
    "\n",
    "pred = np.array([0,0,0,0,0,1,1,1,1,1,2,2,2,2,2])\n",
    "\n",
    "label = np.array([\"a\",\"a\",\"b\",\"c\",\"a\", \"b\", \"b\", \"b\", \"a\", \"b\", \"c\", \"b\", \"c\", \"c\", \"c\"])\n",
    "\n",
    "#create map\n",
    "dic = {0: {\"a\": 0, \"b\":0, \"c\":0}, \n",
    "    1: {\"a\": 0, \"b\":0, \"c\":0},\n",
    "    2: {\"a\": 0, \"b\":0, \"c\":0}\n",
    "}\n",
    "\n",
    "#count value in every type pred and add to dic map\n",
    "for index, value in enumerate(pred):\n",
    "    keyLabel = label[index]\n",
    "    dic[value][keyLabel] += 1\n",
    "\n",
    "diclast = {}\n",
    "\n",
    "#find max value and mapping it with every type\n",
    "for value in dic:\n",
    "    max = 0\n",
    "    key = 'a'\n",
    "    for valueDic in dic[value]:\n",
    "       if dic[value][valueDic] > max:\n",
    "           max = dic[value][valueDic]\n",
    "           key = valueDic\n",
    "    diclast[value] = key\n",
    "print(diclast)"
   ]
  },
  {
   "cell_type": "markdown",
   "id": "f93942f7",
   "metadata": {},
   "source": [
    "## Cách 2: Dùng data frame và mắt thường"
   ]
  },
  {
   "cell_type": "code",
   "execution_count": 6,
   "id": "c751a18d",
   "metadata": {},
   "outputs": [],
   "source": [
    "data = {'label': label, 'pred': pred}  "
   ]
  },
  {
   "cell_type": "code",
   "execution_count": 9,
   "id": "784b5b93",
   "metadata": {},
   "outputs": [],
   "source": [
    "df = pd.DataFrame(data)"
   ]
  },
  {
   "cell_type": "code",
   "execution_count": 14,
   "id": "062aa882",
   "metadata": {},
   "outputs": [
    {
     "name": "stdout",
     "output_type": "stream",
     "text": [
      "label  pred\n",
      "a      0       3\n",
      "b      0       1\n",
      "c      0       1\n",
      "dtype: int64\n"
     ]
    }
   ],
   "source": [
    "cluster0 = df[pred == 0]\n",
    "print(cluster0.value_counts())"
   ]
  },
  {
   "cell_type": "code",
   "execution_count": null,
   "id": "c3e8c3b6",
   "metadata": {},
   "outputs": [],
   "source": []
  }
 ],
 "metadata": {
  "kernelspec": {
   "display_name": "Python 3 (ipykernel)",
   "language": "python",
   "name": "python3"
  },
  "language_info": {
   "codemirror_mode": {
    "name": "ipython",
    "version": 3
   },
   "file_extension": ".py",
   "mimetype": "text/x-python",
   "name": "python",
   "nbconvert_exporter": "python",
   "pygments_lexer": "ipython3",
   "version": "3.9.6"
  }
 },
 "nbformat": 4,
 "nbformat_minor": 5
}
