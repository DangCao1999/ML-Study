{
 "cells": [
  {
   "cell_type": "code",
   "execution_count": 1,
   "id": "4a2b4329",
   "metadata": {},
   "outputs": [],
   "source": [
    "import matplotlib.pyplot as plt\n",
    "import numpy as np\n",
    "import sklearn\n",
    "from sklearn import neighbors"
   ]
  },
  {
   "cell_type": "code",
   "execution_count": 2,
   "id": "bfe57def",
   "metadata": {},
   "outputs": [],
   "source": [
    "# Câu 1"
   ]
  },
  {
   "cell_type": "code",
   "execution_count": 8,
   "id": "a18dd642",
   "metadata": {},
   "outputs": [
    {
     "name": "stderr",
     "output_type": "stream",
     "text": [
      "C:\\Users\\PC\\AppData\\Local\\Temp/ipykernel_3520/2129248906.py:1: VisibleDeprecationWarning: Creating an ndarray from ragged nested sequences (which is a list-or-tuple of lists-or-tuples-or ndarrays with different lengths or shapes) is deprecated. If you meant to do this, you must specify 'dtype=object' when creating the ndarray.\n",
      "  X = np.array([\n"
     ]
    }
   ],
   "source": [
    "X = np.array([[6.8, 3.2, 5.9, 2.3],\n",
    "[6.7, 3.3, 5.7, 2.5],\n",
    "[6.7, 3, 5.2, 2.3],\n",
    "[6.3, 2.5, 5, 1.9],\n",
    "[6.5,3,5.2, 2],\n",
    "[6.3,3.3,6,2.5],\n",
    "[5.8,2.7,5.1,1.9],\n",
    "[7.1,3,5.9,2.1],\n",
    "[6.3,2.9,5.6,1.8],\n",
    "[6.5,3,5.8,2.2],\n",
    "[6,2.9,4.5,1.5],\n",
    "[5.7,2.6,3.5,1],\n",
    "[5.5,2.4,3.8,1.1],\n",
    "[5.5,2.4,3.7,1],\n",
    "[5.8,2.7,3.9,1.2],\n",
    "[6,2.7,5.1,1.6],\n",
    "[5.4,3,4.5,1.5],\n",
    "[6,3.4,4.5,1.6],\n",
    "[6.7,3.1,4.7,1.5],\n",
    "[6.3,2.3,4.4,1.3],\n",
    "[5.6,3,4.1,1.3],\n",
    "[5.7,3.8,1.7,0.3],\n",
    "[5.1,3.8,1.5,0.3],\n",
    "[5.4,3.4,1.7,0,2],\n",
    "[5.1,3.7,1.5,0.4],\n",
    "[4.6,3.6,1,0.2],\n",
    "[5.1,3.3,1.7,0.5],\n",
    "[4.8,3.4,1.9,0.2],\n",
    "[5,3,1.6,0.2],\n",
    "[5,3.4,1.6,0.4],\n",
    "])\n",
    "\n"
   ]
  },
  {
   "cell_type": "code",
   "execution_count": null,
   "id": "18e4aad1",
   "metadata": {},
   "outputs": [],
   "source": [
    "\n",
    "Y = np.array([\n",
    "\n",
    "\"Iris-virginica\",\n",
    "\"Iris-virginica\",\n",
    "\"Iris-virginica\",\n",
    "\"Iris-virginica\",\n",
    "\"Iris-virginica\",\n",
    "\"Iris-virginica\",\n",
    "\"Iris-virginica\",\n",
    "\"Iris-virginica\",\n",
    "\"Iris-virginica\",\n",
    "\"Iris-virginica\",\n",
    "\"Iris-versicolor\",\n",
    "\"Iris-versicolor\",\n",
    "\"Iris-versicolor\",\n",
    "\"Iris-versicolor\",\n",
    "\"Iris-versicolor\",\n",
    "\"Iris-versicolor\",\n",
    "\"Iris-versicolor\",\n",
    "\"Iris-versicolor\",\n",
    "\"Iris-versicolor\",\n",
    "\"Iris-versicolor\",\n",
    "\"Iris-setosa\",\n",
    "\"Iris-setosa\",     \n",
    "\"Iris-setosa\",\n",
    "\"Iris-setosa\",\n",
    "\"Iris-setosa\",\n",
    "\"Iris-setosa\",\n",
    "\"Iris-setosa\",\n",
    "\"Iris-setosa\",\n",
    "\"Iris-setosa\",\n",
    "\"Iris-setosa\",\n",
    "])"
   ]
  },
  {
   "cell_type": "code",
   "execution_count": null,
   "id": "02c6ac11",
   "metadata": {},
   "outputs": [],
   "source": [
    "print(X.shape)\n",
    "print(Y.shape)"
   ]
  },
  {
   "cell_type": "code",
   "execution_count": null,
   "id": "51527897",
   "metadata": {},
   "outputs": [],
   "source": []
  }
 ],
 "metadata": {
  "kernelspec": {
   "display_name": "Python 3 (ipykernel)",
   "language": "python",
   "name": "python3"
  },
  "language_info": {
   "codemirror_mode": {
    "name": "ipython",
    "version": 3
   },
   "file_extension": ".py",
   "mimetype": "text/x-python",
   "name": "python",
   "nbconvert_exporter": "python",
   "pygments_lexer": "ipython3",
   "version": "3.9.6"
  }
 },
 "nbformat": 4,
 "nbformat_minor": 5
}
