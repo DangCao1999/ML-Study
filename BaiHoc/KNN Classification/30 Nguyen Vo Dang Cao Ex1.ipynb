{
 "cells": [
  {
   "cell_type": "code",
   "execution_count": 24,
   "id": "c341fde9",
   "metadata": {},
   "outputs": [],
   "source": [
    "import matplotlib.pyplot as plt\n",
    "import numpy as np\n",
    "import sklearn\n",
    "import sklearn.model_selection as ms\n",
    "from sklearn import neighbors"
   ]
  },
  {
   "cell_type": "code",
   "execution_count": 3,
   "id": "bb1e49c1",
   "metadata": {},
   "outputs": [],
   "source": [
    "# Câu 1"
   ]
  },
  {
   "cell_type": "code",
   "execution_count": 15,
   "id": "c060b7de",
   "metadata": {},
   "outputs": [],
   "source": [
    "X = np.array([[6.8, 3.2, 5.9, 2.3],\n",
    "[6.7, 3.3, 5.7, 2.5],\n",
    "[6.7, 3.0, 5.2, 2.3],\n",
    "[6.3, 2.5, 5.0, 1.9],\n",
    "[6.5,3,5.2, 2],\n",
    "[6.3,3.3,6,2.5],\n",
    "[5.8,2.7,5.1,1.9],\n",
    "[7.1,3,5.9,2.1],\n",
    "[6.3,2.9,5.6,1.8],\n",
    "[6.5,3,5.8,2.2],\n",
    "[6,2.9,4.5,1.5],\n",
    "[5.7,2.6,3.5,1],\n",
    "[5.5,2.4,3.8,1.1],\n",
    "[5.5,2.4,3.7,1],\n",
    "[5.8,2.7,3.9,1.2],\n",
    "[6,2.7,5.1,1.6],\n",
    "[5.4,3,4.5,1.5],\n",
    "[6,3.4,4.5,1.6],\n",
    "[6.7,3.1,4.7,1.5],\n",
    "[6.3,2.3,4.4,1.3],\n",
    "[5.6,3,4.1,1.3],\n",
    "[5.7,3.8,1.7,0.3],\n",
    "[5.1,3.8,1.5,0.3],\n",
    "[5.4,3.4,1.7,0.2],\n",
    "[5.1,3.7,1.5,0.4],\n",
    "[4.6,3.6,1,0.2],\n",
    "[5.1,3.3,1.7,0.5],\n",
    "[4.8,3.4,1.9,0.2],\n",
    "[5,3,1.6,0.2],\n",
    "[5,3.4,1.6,0.4],\n",
    "])\n",
    "\n"
   ]
  },
  {
   "cell_type": "code",
   "execution_count": 16,
   "id": "f8cd6cbc",
   "metadata": {},
   "outputs": [],
   "source": [
    "\n",
    "Y = np.array([\n",
    "\n",
    "\"Iris-virginica\",\n",
    "\"Iris-virginica\",\n",
    "\"Iris-virginica\",\n",
    "\"Iris-virginica\",\n",
    "\"Iris-virginica\",\n",
    "\"Iris-virginica\",\n",
    "\"Iris-virginica\",\n",
    "\"Iris-virginica\",\n",
    "\"Iris-virginica\",\n",
    "\"Iris-virginica\",\n",
    "\"Iris-versicolor\",\n",
    "\"Iris-versicolor\",\n",
    "\"Iris-versicolor\",\n",
    "\"Iris-versicolor\",\n",
    "\"Iris-versicolor\",\n",
    "\"Iris-versicolor\",\n",
    "\"Iris-versicolor\",\n",
    "\"Iris-versicolor\",\n",
    "\"Iris-versicolor\",\n",
    "\"Iris-versicolor\",\n",
    "\"Iris-setosa\",\n",
    "\"Iris-setosa\",     \n",
    "\"Iris-setosa\",\n",
    "\"Iris-setosa\",\n",
    "\"Iris-setosa\",\n",
    "\"Iris-setosa\",\n",
    "\"Iris-setosa\",\n",
    "\"Iris-setosa\",\n",
    "\"Iris-setosa\",\n",
    "\"Iris-setosa\",\n",
    "])"
   ]
  },
  {
   "cell_type": "code",
   "execution_count": 11,
   "id": "5761fdad",
   "metadata": {},
   "outputs": [
    {
     "name": "stdout",
     "output_type": "stream",
     "text": [
      "(30, 4)\n",
      "(30,)\n"
     ]
    }
   ],
   "source": [
    "print(X.shape)\n",
    "print(Y.shape)"
   ]
  },
  {
   "cell_type": "code",
   "execution_count": 26,
   "id": "f945113e",
   "metadata": {},
   "outputs": [],
   "source": [
    "# Câu 2"
   ]
  },
  {
   "cell_type": "code",
   "execution_count": 22,
   "id": "28149d27",
   "metadata": {},
   "outputs": [
    {
     "data": {
      "image/png": "[encoded data removed]",
      "text/plain": [
       "<Figure size 360x360 with 1 Axes>"
      ]
     },
     "metadata": {
      "needs_background": "light"
     },
     "output_type": "display_data"
    }
   ],
   "source": [
    "fig = plt.figure(figsize=(5,5))\n",
    "axes = fig.add_subplot(111)\n",
    "\n",
    "for i in range(10):\n",
    "    color = 'green'\n",
    "    axes.scatter(X[i][2], X[i][3], c=color)\n",
    "    color2 = 'red'\n",
    "    axes.scatter(X[i+10][2], X[i+10][3], c=color2)\n",
    "    color3= 'blue'\n",
    "    axes.scatter(X[i+20][2], X[i+20][3], c=color3)\n",
    "    "
   ]
  },
  {
   "cell_type": "code",
   "execution_count": 25,
   "id": "bfa913b5",
   "metadata": {},
   "outputs": [],
   "source": [
    "X_train, X_test, Y_train, Y_test = ms.train_test_split(X, Y, test_size=0.1, random_state=123)"
   ]
  },
  {
   "cell_type": "code",
   "execution_count": null,
   "id": "a530c712",
   "metadata": {},
   "outputs": [],
   "source": []
  }
 ],
 "metadata": {
  "kernelspec": {
   "display_name": "Python 3 (ipykernel)",
   "language": "python",
   "name": "python3"
  },
  "language_info": {
   "codemirror_mode": {
    "name": "ipython",
    "version": 3
   },
   "file_extension": ".py",
   "mimetype": "text/x-python",
   "name": "python",
   "nbconvert_exporter": "python",
   "pygments_lexer": "ipython3",
   "version": "3.9.6"
  }
 },
 "nbformat": 4,
 "nbformat_minor": 5
}
