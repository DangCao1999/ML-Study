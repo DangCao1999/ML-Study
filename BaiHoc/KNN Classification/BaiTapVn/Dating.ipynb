{
 "cells": [
  {
   "cell_type": "code",
   "execution_count": 1,
   "id": "4baab0e6",
   "metadata": {},
   "outputs": [],
   "source": [
    "import pandas as pd\n",
    "from sklearn.model_selection import train_test_split\n",
    "import numpy as np\n",
    "import matplotlib.pyplot as plt\n",
    "from IPython.display import Image"
   ]
  },
  {
   "cell_type": "markdown",
   "id": "201e7383",
   "metadata": {},
   "source": [
    "# Câu 1"
   ]
  },
  {
   "cell_type": "markdown",
   "id": "9c1a54d8",
   "metadata": {},
   "source": [
    "* Trước đó mình đã chuyển file text sang file csv bằng notepad++ replace dấu tab thành dấu ,\n",
    "* Để thuận tiện mình sẽ đẩy file này lên github cá nhân của mình rồi kéo về sau để qua máy khác cũng ko bị thiếu file data"
   ]
  },
  {
   "cell_type": "markdown",
   "id": "f0a79cd7",
   "metadata": {},
   "source": [
    "## Load data từ file csv"
   ]
  },
  {
   "cell_type": "code",
   "execution_count": 5,
   "id": "6f289d53",
   "metadata": {},
   "outputs": [],
   "source": [
    "data_read = pd.read_csv(\"https://raw.githubusercontent.com/DangCao1999/ML-Study/master/BaiHoc/KNN%20Classification/BaiTapVn/datingTestSet.csv\")"
   ]
  },
  {
   "cell_type": "code",
   "execution_count": 6,
   "id": "a7fe239d",
   "metadata": {},
   "outputs": [
    {
     "data": {
      "text/html": [
       "<div>\n",
       "<style scoped>\n",
       "    .dataframe tbody tr th:only-of-type {\n",
       "        vertical-align: middle;\n",
       "    }\n",
       "\n",
       "    .dataframe tbody tr th {\n",
       "        vertical-align: top;\n",
       "    }\n",
       "\n",
       "    .dataframe thead th {\n",
       "        text-align: right;\n",
       "    }\n",
       "</style>\n",
       "<table border=\"1\" class=\"dataframe\">\n",
       "  <thead>\n",
       "    <tr style=\"text-align: right;\">\n",
       "      <th></th>\n",
       "      <th>40920</th>\n",
       "      <th>8.326976</th>\n",
       "      <th>0.953952</th>\n",
       "      <th>largeDoses</th>\n",
       "    </tr>\n",
       "  </thead>\n",
       "  <tbody>\n",
       "    <tr>\n",
       "      <th>0</th>\n",
       "      <td>14488</td>\n",
       "      <td>7.153469</td>\n",
       "      <td>1.673904</td>\n",
       "      <td>smallDoses</td>\n",
       "    </tr>\n",
       "    <tr>\n",
       "      <th>1</th>\n",
       "      <td>26052</td>\n",
       "      <td>1.441871</td>\n",
       "      <td>0.805124</td>\n",
       "      <td>didntLike</td>\n",
       "    </tr>\n",
       "    <tr>\n",
       "      <th>2</th>\n",
       "      <td>75136</td>\n",
       "      <td>13.147394</td>\n",
       "      <td>0.428964</td>\n",
       "      <td>didntLike</td>\n",
       "    </tr>\n",
       "    <tr>\n",
       "      <th>3</th>\n",
       "      <td>38344</td>\n",
       "      <td>1.669788</td>\n",
       "      <td>0.134296</td>\n",
       "      <td>didntLike</td>\n",
       "    </tr>\n",
       "    <tr>\n",
       "      <th>4</th>\n",
       "      <td>72993</td>\n",
       "      <td>10.141740</td>\n",
       "      <td>1.032955</td>\n",
       "      <td>didntLike</td>\n",
       "    </tr>\n",
       "  </tbody>\n",
       "</table>\n",
       "</div>"
      ],
      "text/plain": [
       "   40920   8.326976  0.953952  largeDoses\n",
       "0  14488   7.153469  1.673904  smallDoses\n",
       "1  26052   1.441871  0.805124   didntLike\n",
       "2  75136  13.147394  0.428964   didntLike\n",
       "3  38344   1.669788  0.134296   didntLike\n",
       "4  72993  10.141740  1.032955   didntLike"
      ]
     },
     "execution_count": 6,
     "metadata": {},
     "output_type": "execute_result"
    }
   ],
   "source": [
    "data_read.head()"
   ]
  },
  {
   "cell_type": "code",
   "execution_count": null,
   "id": "2a13a6d0",
   "metadata": {},
   "outputs": [],
   "source": []
  }
 ],
 "metadata": {
  "kernelspec": {
   "display_name": "Python 3 (ipykernel)",
   "language": "python",
   "name": "python3"
  },
  "language_info": {
   "codemirror_mode": {
    "name": "ipython",
    "version": 3
   },
   "file_extension": ".py",
   "mimetype": "text/x-python",
   "name": "python",
   "nbconvert_exporter": "python",
   "pygments_lexer": "ipython3",
   "version": "3.9.6"
  }
 },
 "nbformat": 4,
 "nbformat_minor": 5
}
