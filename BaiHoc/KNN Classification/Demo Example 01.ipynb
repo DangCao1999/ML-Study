{
 "cells": [
  {
   "cell_type": "code",
   "execution_count": 9,
   "id": "4165ca46",
   "metadata": {},
   "outputs": [],
   "source": [
    "import matplotlib.pyplot as plt\n",
    "import numpy as np\n",
    "import sklearn\n",
    "from sklearn import neighbors"
   ]
  },
  {
   "cell_type": "markdown",
   "id": "bd5da8bf",
   "metadata": {},
   "source": [
    "# 1. Tạo data"
   ]
  },
  {
   "cell_type": "code",
   "execution_count": 31,
   "id": "1626cad0",
   "metadata": {},
   "outputs": [],
   "source": [
    "movies = np.array([[3,104],[2,100], [101,10], [99,5], [98,2], [1,81]])\n",
    "labels = np.array(['R', 'R', 'A', 'A', 'A', 'R'])"
   ]
  },
  {
   "cell_type": "markdown",
   "id": "2a7d609d",
   "metadata": {},
   "source": [
    "# 2. Vẽ đồ thị"
   ]
  },
  {
   "cell_type": "code",
   "execution_count": 37,
   "id": "5677fe2f",
   "metadata": {},
   "outputs": [
    {
     "data": {
      "image/png": "[encoded data removed]",
      "text/plain": [
       "<Figure size 360x360 with 1 Axes>"
      ]
     },
     "metadata": {
      "needs_background": "light"
     },
     "output_type": "display_data"
    }
   ],
   "source": [
    "unknown_movie = [20,80]\n",
    "\n",
    "fig = plt.figure(figsize=(5,5))\n",
    "axes = fig.add_subplot(111)\n",
    "\n",
    "for i in range(len(movies)):\n",
    "    color = 'green' if labels[i] == 'R' else 'yellow'\n",
    "    axes.scatter(movies[i][0], movies[i][1], c=color)\n",
    "    \n",
    "axes.scatter(unknown_movie[0], unknown_movie[1], c='red')\n",
    "axes.set_xlabel('Number of kicks')\n",
    "axes.set_ylabel('Number of kisses')\n",
    "axes.set_title(\"Classifying movies\")\n",
    "plt.show()"
   ]
  },
  {
   "cell_type": "markdown",
   "id": "49708006",
   "metadata": {},
   "source": [
    "# 3. Train và dự báo"
   ]
  },
  {
   "cell_type": "code",
   "execution_count": 38,
   "id": "fe11ddd5",
   "metadata": {},
   "outputs": [
    {
     "name": "stdout",
     "output_type": "stream",
     "text": [
      "['R']\n"
     ]
    }
   ],
   "source": [
    "\n",
    "knn5 = neighbors.KNeighborsClassifier(4)\n",
    "knn5.fit(movies, labels)\n",
    "\n",
    "labels_pred = knn5.predict([unknown_movie])\n",
    "print(labels_pred)"
   ]
  },
  {
   "cell_type": "code",
   "execution_count": null,
   "id": "0f80c714",
   "metadata": {},
   "outputs": [],
   "source": []
  },
  {
   "cell_type": "code",
   "execution_count": null,
   "id": "5fa18151",
   "metadata": {},
   "outputs": [],
   "source": []
  }
 ],
 "metadata": {
  "kernelspec": {
   "display_name": "Python 3 (ipykernel)",
   "language": "python",
   "name": "python3"
  },
  "language_info": {
   "codemirror_mode": {
    "name": "ipython",
    "version": 3
   },
   "file_extension": ".py",
   "mimetype": "text/x-python",
   "name": "python",
   "nbconvert_exporter": "python",
   "pygments_lexer": "ipython3",
   "version": "3.9.6"
  }
 },
 "nbformat": 4,
 "nbformat_minor": 5
}
