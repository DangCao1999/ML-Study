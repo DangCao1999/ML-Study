{
 "cells": [
  {
   "cell_type": "markdown",
   "id": "9e9c8a65",
   "metadata": {},
   "source": [
    "# Câu 1"
   ]
  },
  {
   "cell_type": "code",
   "execution_count": 129,
   "id": "51ccea7a",
   "metadata": {},
   "outputs": [],
   "source": [
    "import pandas as pd\n",
    "import numpy as np\n",
    "import matplotlib.pyplot as plt\n",
    "from matplotlib.pyplot import figure\n",
    "from sklearn.model_selection import train_test_split\n",
    "from sklearn.linear_model import LinearRegression \n",
    "from sklearn import metrics"
   ]
  },
  {
   "cell_type": "code",
   "execution_count": 3,
   "id": "fceee835",
   "metadata": {},
   "outputs": [
    {
     "data": {
      "text/html": [
       "<div>\n",
       "<style scoped>\n",
       "    .dataframe tbody tr th:only-of-type {\n",
       "        vertical-align: middle;\n",
       "    }\n",
       "\n",
       "    .dataframe tbody tr th {\n",
       "        vertical-align: top;\n",
       "    }\n",
       "\n",
       "    .dataframe thead th {\n",
       "        text-align: right;\n",
       "    }\n",
       "</style>\n",
       "<table border=\"1\" class=\"dataframe\">\n",
       "  <thead>\n",
       "    <tr style=\"text-align: right;\">\n",
       "      <th></th>\n",
       "      <th>name</th>\n",
       "      <th>gender</th>\n",
       "      <th>age</th>\n",
       "      <th>grade</th>\n",
       "      <th>absence</th>\n",
       "      <th>bloodtype</th>\n",
       "      <th>height</th>\n",
       "      <th>weight</th>\n",
       "    </tr>\n",
       "  </thead>\n",
       "  <tbody>\n",
       "    <tr>\n",
       "      <th>0</th>\n",
       "      <td>Jared Diamond</td>\n",
       "      <td>M</td>\n",
       "      <td>23</td>\n",
       "      <td>3</td>\n",
       "      <td>Y</td>\n",
       "      <td>O</td>\n",
       "      <td>165.3</td>\n",
       "      <td>68.2</td>\n",
       "    </tr>\n",
       "    <tr>\n",
       "      <th>1</th>\n",
       "      <td>Sarah O'Donnel</td>\n",
       "      <td>F</td>\n",
       "      <td>22</td>\n",
       "      <td>2</td>\n",
       "      <td>N</td>\n",
       "      <td>AB</td>\n",
       "      <td>170.1</td>\n",
       "      <td>53.0</td>\n",
       "    </tr>\n",
       "    <tr>\n",
       "      <th>2</th>\n",
       "      <td>Brian Martin</td>\n",
       "      <td>M</td>\n",
       "      <td>24</td>\n",
       "      <td>4</td>\n",
       "      <td>N</td>\n",
       "      <td>B</td>\n",
       "      <td>175.0</td>\n",
       "      <td>80.1</td>\n",
       "    </tr>\n",
       "    <tr>\n",
       "      <th>3</th>\n",
       "      <td>David Hassel</td>\n",
       "      <td>M</td>\n",
       "      <td>23</td>\n",
       "      <td>3</td>\n",
       "      <td>N</td>\n",
       "      <td>AB</td>\n",
       "      <td>182.1</td>\n",
       "      <td>85.7</td>\n",
       "    </tr>\n",
       "    <tr>\n",
       "      <th>4</th>\n",
       "      <td>Clara Rodriquez</td>\n",
       "      <td>F</td>\n",
       "      <td>20</td>\n",
       "      <td>1</td>\n",
       "      <td>Y</td>\n",
       "      <td>A</td>\n",
       "      <td>168.0</td>\n",
       "      <td>49.5</td>\n",
       "    </tr>\n",
       "  </tbody>\n",
       "</table>\n",
       "</div>"
      ],
      "text/plain": [
       "              name gender  age  grade absence bloodtype  height  weight\n",
       "0    Jared Diamond      M   23      3       Y         O   165.3    68.2\n",
       "1   Sarah O'Donnel      F   22      2       N        AB   170.1    53.0\n",
       "2     Brian Martin      M   24      4       N         B   175.0    80.1\n",
       "3     David Hassel      M   23      3       N        AB   182.1    85.7\n",
       "4  Clara Rodriquez      F   20      1       Y         A   168.0    49.5"
      ]
     },
     "execution_count": 3,
     "metadata": {},
     "output_type": "execute_result"
    }
   ],
   "source": [
    "data_read = pd.read_csv('data_studentlist.csv')\n",
    "data_read.head(5)"
   ]
  },
  {
   "cell_type": "code",
   "execution_count": 4,
   "id": "f4f3546c",
   "metadata": {},
   "outputs": [
    {
     "data": {
      "text/plain": [
       "(17, 8)"
      ]
     },
     "execution_count": 4,
     "metadata": {},
     "output_type": "execute_result"
    }
   ],
   "source": [
    "data_read.shape"
   ]
  },
  {
   "cell_type": "code",
   "execution_count": 6,
   "id": "e63a09fd",
   "metadata": {},
   "outputs": [
    {
     "data": {
      "text/html": [
       "<div>\n",
       "<style scoped>\n",
       "    .dataframe tbody tr th:only-of-type {\n",
       "        vertical-align: middle;\n",
       "    }\n",
       "\n",
       "    .dataframe tbody tr th {\n",
       "        vertical-align: top;\n",
       "    }\n",
       "\n",
       "    .dataframe thead th {\n",
       "        text-align: right;\n",
       "    }\n",
       "</style>\n",
       "<table border=\"1\" class=\"dataframe\">\n",
       "  <thead>\n",
       "    <tr style=\"text-align: right;\">\n",
       "      <th></th>\n",
       "      <th>height</th>\n",
       "      <th>weight</th>\n",
       "    </tr>\n",
       "  </thead>\n",
       "  <tbody>\n",
       "    <tr>\n",
       "      <th>0</th>\n",
       "      <td>165.3</td>\n",
       "      <td>68.2</td>\n",
       "    </tr>\n",
       "    <tr>\n",
       "      <th>1</th>\n",
       "      <td>170.1</td>\n",
       "      <td>53.0</td>\n",
       "    </tr>\n",
       "    <tr>\n",
       "      <th>2</th>\n",
       "      <td>175.0</td>\n",
       "      <td>80.1</td>\n",
       "    </tr>\n",
       "    <tr>\n",
       "      <th>3</th>\n",
       "      <td>182.1</td>\n",
       "      <td>85.7</td>\n",
       "    </tr>\n",
       "    <tr>\n",
       "      <th>4</th>\n",
       "      <td>168.0</td>\n",
       "      <td>49.5</td>\n",
       "    </tr>\n",
       "  </tbody>\n",
       "</table>\n",
       "</div>"
      ],
      "text/plain": [
       "   height  weight\n",
       "0   165.3    68.2\n",
       "1   170.1    53.0\n",
       "2   175.0    80.1\n",
       "3   182.1    85.7\n",
       "4   168.0    49.5"
      ]
     },
     "execution_count": 6,
     "metadata": {},
     "output_type": "execute_result"
    }
   ],
   "source": [
    "data_read_1 = data_read[['height', 'weight']]\n",
    "data_read_1.head()"
   ]
  },
  {
   "cell_type": "code",
   "execution_count": 41,
   "id": "99d2eaf4",
   "metadata": {},
   "outputs": [],
   "source": [
    "X = data_read.height.values.reshape(-1,1)\n",
    "y = data_read.weight.values.reshape(-1,1)"
   ]
  },
  {
   "cell_type": "code",
   "execution_count": 42,
   "id": "820cfc8c",
   "metadata": {},
   "outputs": [],
   "source": [
    "train_X, test_X, train_y, test_y = train_test_split(X, y, test_size = 0.3, random_state=2)"
   ]
  },
  {
   "cell_type": "code",
   "execution_count": 43,
   "id": "67c0d73e",
   "metadata": {},
   "outputs": [
    {
     "name": "stdout",
     "output_type": "stream",
     "text": [
      "[[170.1]\n",
      " [167.1]\n",
      " [176.9]\n",
      " [158.2]\n",
      " [175. ]\n",
      " [180. ]\n",
      " [155.2]\n",
      " [169.2]\n",
      " [176.1]\n",
      " [168.6]\n",
      " [178.5]]\n",
      "[[53. ]\n",
      " [62. ]\n",
      " [55. ]\n",
      " [45.2]\n",
      " [80.1]\n",
      " [75.8]\n",
      " [45.3]\n",
      " [62.2]\n",
      " [53.1]\n",
      " [70.2]\n",
      " [64.2]]\n"
     ]
    }
   ],
   "source": [
    "print(train_X)\n",
    "print(train_y)"
   ]
  },
  {
   "cell_type": "code",
   "execution_count": 44,
   "id": "dc227283",
   "metadata": {},
   "outputs": [],
   "source": [
    "lr = LinearRegression().fit(train_X, train_y)"
   ]
  },
  {
   "cell_type": "code",
   "execution_count": 45,
   "id": "bba2655b",
   "metadata": {},
   "outputs": [
    {
     "name": "stdout",
     "output_type": "stream",
     "text": [
      "[-92.92097616]\n"
     ]
    }
   ],
   "source": [
    "print(lr.intercept_)"
   ]
  },
  {
   "cell_type": "code",
   "execution_count": 46,
   "id": "0277c794",
   "metadata": {},
   "outputs": [
    {
     "name": "stdout",
     "output_type": "stream",
     "text": [
      "[[0.90043775]]\n"
     ]
    }
   ],
   "source": [
    "print(lr.coef_)"
   ]
  },
  {
   "cell_type": "code",
   "execution_count": 47,
   "id": "19a26180",
   "metadata": {},
   "outputs": [
    {
     "name": "stdout",
     "output_type": "stream",
     "text": [
      "[[53.13002691]\n",
      " [58.35256587]\n",
      " [52.94993936]\n",
      " [55.92138394]\n",
      " [65.64611164]\n",
      " [71.04873814]]\n"
     ]
    }
   ],
   "source": [
    "y_pre = lr.predict(test_X)\n",
    "print(y_pre)"
   ]
  },
  {
   "cell_type": "code",
   "execution_count": 48,
   "id": "d2969cfd",
   "metadata": {},
   "outputs": [],
   "source": [
    "data_read_male = data_read[data_read.gender == 'M']\n",
    "data_read_female = data_read[data_read.gender == 'F']"
   ]
  },
  {
   "cell_type": "code",
   "execution_count": 49,
   "id": "329c79fd",
   "metadata": {},
   "outputs": [
    {
     "data": {
      "image/png": "[encoded data removed]",
      "text/plain": [
       "<Figure size 432x288 with 1 Axes>"
      ]
     },
     "metadata": {
      "needs_background": "light"
     },
     "output_type": "display_data"
    }
   ],
   "source": [
    "plt.scatter(data_read_male.height, data_read_male.weight, color=\"green\", zorder=3)\n",
    "plt.scatter(data_read_female.height, data_read_female.weight, color=\"red\", zorder=3)\n",
    "plt.plot(test_X, y_pre)\n",
    "plt.show()"
   ]
  },
  {
   "cell_type": "markdown",
   "id": "48513c3b",
   "metadata": {},
   "source": [
    "# Câu 2"
   ]
  },
  {
   "cell_type": "code",
   "execution_count": 85,
   "id": "9a2d0fa1",
   "metadata": {},
   "outputs": [
    {
     "name": "stdout",
     "output_type": "stream",
     "text": [
      "[[165.3]\n",
      " [175. ]\n",
      " [182.1]\n",
      " [178.5]\n",
      " [176.1]\n",
      " [167.1]\n",
      " [180. ]\n",
      " [162.2]\n",
      " [168.6]\n",
      " [169.2]]\n"
     ]
    }
   ],
   "source": [
    "#Male\n",
    "X_male = data_read_male.height.values.reshape(-1,1)\n",
    "y_male = data_read_male.weight.values.reshape(-1,1)\n",
    "\n",
    "print(X_male)"
   ]
  },
  {
   "cell_type": "code",
   "execution_count": 86,
   "id": "fe507259",
   "metadata": {},
   "outputs": [],
   "source": [
    "\n",
    "train_X_male, test_X_male, train_y_male, test_y_male = train_test_split(X_male, y_male, test_size = 0.3, random_state=2)"
   ]
  },
  {
   "cell_type": "code",
   "execution_count": 87,
   "id": "460e7cb7",
   "metadata": {},
   "outputs": [],
   "source": [
    "lr_male = LinearRegression().fit(train_X_male, train_y_male)"
   ]
  },
  {
   "cell_type": "code",
   "execution_count": 88,
   "id": "1a7eba42",
   "metadata": {},
   "outputs": [],
   "source": [
    "y_pre_male = lr_male.predict(test_X_male)"
   ]
  },
  {
   "cell_type": "code",
   "execution_count": 89,
   "id": "fbba38af",
   "metadata": {},
   "outputs": [
    {
     "name": "stdout",
     "output_type": "stream",
     "text": [
      "[[165.3]\n",
      " [175. ]\n",
      " [182.1]\n",
      " [178.5]\n",
      " [176.1]\n",
      " [167.1]\n",
      " [180. ]\n",
      " [162.2]\n",
      " [168.6]\n",
      " [169.2]]\n"
     ]
    }
   ],
   "source": [
    "#Female\n",
    "X_female = data_read_female.height.values.reshape(-1,1)\n",
    "y_female = data_read_female.weight.values.reshape(-1,1)\n",
    "\n",
    "print(X_male)"
   ]
  },
  {
   "cell_type": "code",
   "execution_count": 90,
   "id": "b64b8c4d",
   "metadata": {},
   "outputs": [],
   "source": [
    "train_X_female, test_X_female, train_y_female, test_y_female = train_test_split(X_female, y_female, test_size = 0.3, random_state=2)"
   ]
  },
  {
   "cell_type": "code",
   "execution_count": 91,
   "id": "94c05036",
   "metadata": {},
   "outputs": [],
   "source": [
    "lr_female = LinearRegression().fit(train_X_female, train_y_female)"
   ]
  },
  {
   "cell_type": "code",
   "execution_count": 92,
   "id": "2b8daa17",
   "metadata": {},
   "outputs": [],
   "source": [
    "y_pre_female = lr_female.predict(test_X_female)"
   ]
  },
  {
   "cell_type": "code",
   "execution_count": 93,
   "id": "75882d42",
   "metadata": {},
   "outputs": [
    {
     "data": {
      "image/png": "[encoded data removed]",
      "text/plain": [
       "<Figure size 432x288 with 1 Axes>"
      ]
     },
     "metadata": {
      "needs_background": "light"
     },
     "output_type": "display_data"
    }
   ],
   "source": [
    "plt.scatter(data_read_male.height, data_read_male.weight, color=\"green\", zorder=3)\n",
    "plt.scatter(data_read_female.height, data_read_female.weight, color=\"red\", zorder=3)\n",
    "plt.plot(test_X_male, y_pre_male)\n",
    "plt.plot(test_X_female, y_pre_female)\n",
    "plt.show()"
   ]
  },
  {
   "cell_type": "markdown",
   "id": "39235f8e",
   "metadata": {},
   "source": [
    "# Câu 3\n"
   ]
  },
  {
   "cell_type": "code",
   "execution_count": 94,
   "id": "daca756d",
   "metadata": {},
   "outputs": [
    {
     "data": {
      "text/html": [
       "<div>\n",
       "<style scoped>\n",
       "    .dataframe tbody tr th:only-of-type {\n",
       "        vertical-align: middle;\n",
       "    }\n",
       "\n",
       "    .dataframe tbody tr th {\n",
       "        vertical-align: top;\n",
       "    }\n",
       "\n",
       "    .dataframe thead th {\n",
       "        text-align: right;\n",
       "    }\n",
       "</style>\n",
       "<table border=\"1\" class=\"dataframe\">\n",
       "  <thead>\n",
       "    <tr style=\"text-align: right;\">\n",
       "      <th></th>\n",
       "      <th>height</th>\n",
       "      <th>age</th>\n",
       "    </tr>\n",
       "  </thead>\n",
       "  <tbody>\n",
       "    <tr>\n",
       "      <th>0</th>\n",
       "      <td>165.3</td>\n",
       "      <td>23</td>\n",
       "    </tr>\n",
       "    <tr>\n",
       "      <th>1</th>\n",
       "      <td>170.1</td>\n",
       "      <td>22</td>\n",
       "    </tr>\n",
       "    <tr>\n",
       "      <th>2</th>\n",
       "      <td>175.0</td>\n",
       "      <td>24</td>\n",
       "    </tr>\n",
       "    <tr>\n",
       "      <th>3</th>\n",
       "      <td>182.1</td>\n",
       "      <td>23</td>\n",
       "    </tr>\n",
       "    <tr>\n",
       "      <th>4</th>\n",
       "      <td>168.0</td>\n",
       "      <td>20</td>\n",
       "    </tr>\n",
       "  </tbody>\n",
       "</table>\n",
       "</div>"
      ],
      "text/plain": [
       "   height  age\n",
       "0   165.3   23\n",
       "1   170.1   22\n",
       "2   175.0   24\n",
       "3   182.1   23\n",
       "4   168.0   20"
      ]
     },
     "execution_count": 94,
     "metadata": {},
     "output_type": "execute_result"
    }
   ],
   "source": [
    "data_read_height_age = data_read[['height', 'age']]\n",
    "data_read_height_age.head()"
   ]
  },
  {
   "cell_type": "code",
   "execution_count": 96,
   "id": "33c63a97",
   "metadata": {},
   "outputs": [
    {
     "data": {
      "text/plain": [
       "0    68.2\n",
       "1    53.0\n",
       "2    80.1\n",
       "3    85.7\n",
       "4    49.5\n",
       "Name: weight, dtype: float64"
      ]
     },
     "execution_count": 96,
     "metadata": {},
     "output_type": "execute_result"
    }
   ],
   "source": [
    "data_read_weight = data_read['weight']\n",
    "data_read_weight.head()"
   ]
  },
  {
   "cell_type": "code",
   "execution_count": 97,
   "id": "32d4a5e3",
   "metadata": {},
   "outputs": [],
   "source": [
    "train_X_height_age, test_X_height_age, train_y_weight, test_y_weight = train_test_split(data_read_height_age, data_read_weight , test_size = 0.3, random_state=2)"
   ]
  },
  {
   "cell_type": "code",
   "execution_count": 98,
   "id": "203e8f01",
   "metadata": {},
   "outputs": [],
   "source": [
    "lr_height_age = LinearRegression().fit(train_X_height_age, train_y_weight)"
   ]
  },
  {
   "cell_type": "code",
   "execution_count": 99,
   "id": "08c1147b",
   "metadata": {},
   "outputs": [
    {
     "name": "stdout",
     "output_type": "stream",
     "text": [
      "-151.55693768547022\n"
     ]
    }
   ],
   "source": [
    "print(lr_height_age.intercept_)"
   ]
  },
  {
   "cell_type": "code",
   "execution_count": 100,
   "id": "ff4cea08",
   "metadata": {},
   "outputs": [
    {
     "name": "stdout",
     "output_type": "stream",
     "text": [
      "[0.79615369 3.36207105]\n"
     ]
    }
   ],
   "source": [
    "print(lr_height_age.coef_)"
   ]
  },
  {
   "cell_type": "code",
   "execution_count": 110,
   "id": "aa6bfcf0",
   "metadata": {},
   "outputs": [
    {
     "name": "stdout",
     "output_type": "stream",
     "text": [
      "[48.18268276 49.43830311 48.02345203 57.37490131 62.61129009 70.75028328]\n",
      "12    162.2\n",
      "4     168.0\n",
      "5     162.0\n",
      "0     165.3\n",
      "9     176.1\n",
      "3     182.1\n",
      "Name: height, dtype: float64\n"
     ]
    }
   ],
   "source": [
    "y_pre_height_age = lr_height_age.predict(test_X_height_age)\n",
    "\n",
    "print(y_pre_height_age)\n",
    "print(test_X_height_age['height'])"
   ]
  },
  {
   "cell_type": "code",
   "execution_count": 132,
   "id": "446e533c",
   "metadata": {},
   "outputs": [
    {
     "data": {
      "image/png": "[encoded data removed]",
      "text/plain": [
       "<Figure size 432x288 with 1 Axes>"
      ]
     },
     "metadata": {
      "needs_background": "light"
     },
     "output_type": "display_data"
    }
   ],
   "source": [
    "\n",
    "plt.scatter(train_X_height_age['height'], train_y_weight, color=\"orange\")\n",
    "plt.scatter(train_X_height_age['age'], train_y_weight, color=\"red\")\n",
    "\n",
    "\n",
    "plt.scatter(test_X_height_age['age'],y_pre_height_age, color=\"green\")\n",
    "plt.scatter(test_X_height_age['height'],y_pre_height_age, color=\"green\")\n",
    "\n",
    "plt.show()"
   ]
  },
  {
   "cell_type": "code",
   "execution_count": 126,
   "id": "6f844431",
   "metadata": {},
   "outputs": [
    {
     "data": {
      "text/plain": [
       "0.5465875417259067"
      ]
     },
     "execution_count": 126,
     "metadata": {},
     "output_type": "execute_result"
    }
   ],
   "source": [
    "lr_height_age.score(test_X_height_age, test_y_weight)"
   ]
  },
  {
   "cell_type": "code",
   "execution_count": 127,
   "id": "611a4865",
   "metadata": {},
   "outputs": [
    {
     "data": {
      "text/plain": [
       "0.47429591900364676"
      ]
     },
     "execution_count": 127,
     "metadata": {},
     "output_type": "execute_result"
    }
   ],
   "source": [
    "lr_height_age.score(train_X_height_age, train_y_weight)"
   ]
  },
  {
   "cell_type": "code",
   "execution_count": 131,
   "id": "718a87f6",
   "metadata": {},
   "outputs": [
    {
     "data": {
      "text/plain": [
       "68.14486972887441"
      ]
     },
     "execution_count": 131,
     "metadata": {},
     "output_type": "execute_result"
    }
   ],
   "source": [
    "metrics.mean_squared_error(y_pre_height_age, test_y_weight)"
   ]
  },
  {
   "cell_type": "code",
   "execution_count": 134,
   "id": "f8689293",
   "metadata": {},
   "outputs": [],
   "source": [
    "y_pre_train_height_age = lr_height_age.predict(train_X_height_age)"
   ]
  },
  {
   "cell_type": "code",
   "execution_count": 135,
   "id": "93b364c3",
   "metadata": {},
   "outputs": [
    {
     "data": {
      "text/plain": [
       "63.922140519695404"
      ]
     },
     "execution_count": 135,
     "metadata": {},
     "output_type": "execute_result"
    }
   ],
   "source": [
    "metrics.mean_squared_error(y_pre_train_height_age, train_y_weight)"
   ]
  },
  {
   "cell_type": "code",
   "execution_count": null,
   "id": "464d774f",
   "metadata": {},
   "outputs": [],
   "source": []
  }
 ],
 "metadata": {
  "kernelspec": {
   "display_name": "Python 3 (ipykernel)",
   "language": "python",
   "name": "python3"
  },
  "language_info": {
   "codemirror_mode": {
    "name": "ipython",
    "version": 3
   },
   "file_extension": ".py",
   "mimetype": "text/x-python",
   "name": "python",
   "nbconvert_exporter": "python",
   "pygments_lexer": "ipython3",
   "version": "3.9.6"
  }
 },
 "nbformat": 4,
 "nbformat_minor": 5
}
