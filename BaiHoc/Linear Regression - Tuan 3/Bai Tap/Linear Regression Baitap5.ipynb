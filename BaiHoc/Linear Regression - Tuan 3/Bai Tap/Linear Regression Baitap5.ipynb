{
 "cells": [
  {
   "cell_type": "code",
   "execution_count": 1,
   "id": "e4119a3a",
   "metadata": {},
   "outputs": [],
   "source": [
    "import numpy as np \n",
    "import matplotlib.pyplot as plt\n",
    "from matplotlib.pyplot import figure\n",
    "from sklearn.linear_model import LinearRegression "
   ]
  },
  {
   "cell_type": "code",
   "execution_count": 2,
   "id": "f9ba0bc4",
   "metadata": {},
   "outputs": [
    {
     "name": "stdout",
     "output_type": "stream",
     "text": [
      "(13, 2)\n",
      "(13, 1)\n"
     ]
    }
   ],
   "source": [
    "x1 = np.array([[73.5, 75.0, 76.5, 79.0, 81.5, 82.5, 84.0, 85.0, 86.5, 87.5, 89.0, 90.0, 91.5]]).T #dientich\n",
    "x2 = np.array([[20,18,17,16,15,14,12,10,8,7,5,2,1]]).T #kc\n",
    "y = np.array([[1.49,1.50,1.51, 1.54, 1.58, 1.58, 1.60, 1.62,1.63,1.64, 1.66, 1.67, 1.68]]).T #gia\n",
    "\n",
    "X = np.concatenate([x1, x2], axis=1)\n",
    "print(X.shape)\n",
    "print(y.shape)"
   ]
  },
  {
   "cell_type": "code",
   "execution_count": 21,
   "id": "c81ebfa6",
   "metadata": {},
   "outputs": [
    {
     "name": "stdout",
     "output_type": "stream",
     "text": [
      "[0.61780153]\n",
      "[[0.01165487 0.00044028]]\n"
     ]
    }
   ],
   "source": [
    "lr = LinearRegression()\n",
    "lr.fit(X,y)\n",
    "inter = lr.intercept_\n",
    "coef = lr.coef_\n",
    "print(b0)\n",
    "print(b1)"
   ]
  },
  {
   "cell_type": "markdown",
   "id": "83172659",
   "metadata": {},
   "source": [
    "# Câu a"
   ]
  },
  {
   "cell_type": "code",
   "execution_count": 22,
   "id": "3bd11205",
   "metadata": {},
   "outputs": [
    {
     "name": "stdout",
     "output_type": "stream",
     "text": [
      "y = 0.011654867608696917 x1 + 0.0004402813587513836 x2 + 0.6178015295519489\n"
     ]
    }
   ],
   "source": [
    "# Phương trình đường thẳng là\n",
    "\n",
    "print('y =', coef[0][0],'x1 +', coef[0][1],'x2 +', inter[0])"
   ]
  },
  {
   "cell_type": "markdown",
   "id": "040973e1",
   "metadata": {},
   "source": [
    "# Câu b"
   ]
  },
  {
   "cell_type": "code",
   "execution_count": 17,
   "id": "3781772e",
   "metadata": {},
   "outputs": [
    {
     "name": "stdout",
     "output_type": "stream",
     "text": [
      "(1, 2)\n",
      "[[1.80089954]]\n"
     ]
    }
   ],
   "source": [
    "# dien tich 100\n",
    "# khoang cach 40\n",
    "x_pre = np.array([[100],[40]]).T\n",
    "print(x_pre.shape)\n",
    "\n",
    "y_pre = lr.predict(x_pre)\n",
    "print(y_pre)"
   ]
  },
  {
   "cell_type": "code",
   "execution_count": 18,
   "id": "ed8833f1",
   "metadata": {},
   "outputs": [
    {
     "data": {
      "image/png": "[encoded data removed]",
      "text/plain": [
       "<Figure size 432x288 with 1 Axes>"
      ]
     },
     "metadata": {
      "needs_background": "light"
     },
     "output_type": "display_data"
    }
   ],
   "source": [
    "# biểu diễn theo khoảng cách - gia\n",
    "\n",
    "plt.scatter(x_pre[0][1], y_pre)\n",
    "plt.plot(x2, y)\n",
    "plt.scatter(x2, y)\n",
    "plt.show()"
   ]
  },
  {
   "cell_type": "code",
   "execution_count": 19,
   "id": "d04d5a7d",
   "metadata": {},
   "outputs": [
    {
     "data": {
      "image/png": "[encoded data removed]",
      "text/plain": [
       "<Figure size 432x288 with 1 Axes>"
      ]
     },
     "metadata": {
      "needs_background": "light"
     },
     "output_type": "display_data"
    }
   ],
   "source": [
    "# biểu diễn theo diện tích - gia\n",
    "plt.scatter(x_pre[0][0], y_pre)\n",
    "plt.plot(x1, y)\n",
    "plt.scatter(x1, y)\n",
    "plt.show()"
   ]
  },
  {
   "cell_type": "code",
   "execution_count": null,
   "id": "4d683bb3",
   "metadata": {},
   "outputs": [],
   "source": []
  }
 ],
 "metadata": {
  "kernelspec": {
   "display_name": "Python 3 (ipykernel)",
   "language": "python",
   "name": "python3"
  },
  "language_info": {
   "codemirror_mode": {
    "name": "ipython",
    "version": 3
   },
   "file_extension": ".py",
   "mimetype": "text/x-python",
   "name": "python",
   "nbconvert_exporter": "python",
   "pygments_lexer": "ipython3",
   "version": "3.8.3"
  }
 },
 "nbformat": 4,
 "nbformat_minor": 5
}
