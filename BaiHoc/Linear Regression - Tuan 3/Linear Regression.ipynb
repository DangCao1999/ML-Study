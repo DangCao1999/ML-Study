{
 "cells": [
  {
   "cell_type": "code",
   "execution_count": 9,
   "id": "05154a75",
   "metadata": {},
   "outputs": [],
   "source": [
    "import numpy as np \n",
    "import matplotlib.pyplot as plt\n",
    "from sklearn.linear_model import LinearRegression "
   ]
  },
  {
   "cell_type": "code",
   "execution_count": 15,
   "id": "52e5492c",
   "metadata": {},
   "outputs": [],
   "source": [
    "X_true = np.array([[147], [150],[153], [158], [163], [165], [168], [170], [173], [178], [180], [183]])\n",
    "Y_true = np.array([[49,50,51,54,58,59,60,62,64,66,67,68]]).T"
   ]
  },
  {
   "cell_type": "code",
   "execution_count": 22,
   "id": "1a052042",
   "metadata": {},
   "outputs": [],
   "source": [
    "regr = LinearRegression()\n",
    "regr.fit(X_true, Y_true)\n",
    "b0 = regr.intercept_\n",
    "b1 = regr.coef_"
   ]
  },
  {
   "cell_type": "code",
   "execution_count": 24,
   "id": "010b5535",
   "metadata": {},
   "outputs": [
    {
     "name": "stdout",
     "output_type": "stream",
     "text": [
      "[-34.54668094]\n",
      "[[0.56466809]]\n",
      "-34.55\n"
     ]
    }
   ],
   "source": [
    "print(b0)\n",
    "print(b1)\n",
    "print(np.round(b0[0],2))"
   ]
  },
  {
   "cell_type": "code",
   "execution_count": 19,
   "id": "134796f6",
   "metadata": {},
   "outputs": [
    {
     "name": "stdout",
     "output_type": "stream",
     "text": [
      "[[48.45952891]\n",
      " [50.15353319]\n",
      " [51.84753747]\n",
      " [54.67087794]\n",
      " [57.49421842]\n",
      " [58.6235546 ]\n",
      " [60.31755889]\n",
      " [61.44689507]\n",
      " [63.14089936]\n",
      " [65.96423983]\n",
      " [67.09357602]\n",
      " [68.7875803 ]]\n"
     ]
    }
   ],
   "source": [
    "Y_pre = regr.predict(X_true)\n",
    "print(Y_pre)"
   ]
  },
  {
   "cell_type": "code",
   "execution_count": 20,
   "id": "f2226eb7",
   "metadata": {},
   "outputs": [
    {
     "data": {
      "text/plain": [
       "<matplotlib.collections.PathCollection at 0x2ebaf815760>"
      ]
     },
     "execution_count": 20,
     "metadata": {},
     "output_type": "execute_result"
    },
    {
     "data": {
      "image/png": "[encoded data removed]",
      "text/plain": [
       "<Figure size 432x288 with 1 Axes>"
      ]
     },
     "metadata": {
      "needs_background": "light"
     },
     "output_type": "display_data"
    }
   ],
   "source": [
    "plt.plot(X_true, Y_pre, color='red', linewidth=0.5)\n",
    "plt.scatter(X_true, Y_true)"
   ]
  },
  {
   "cell_type": "code",
   "execution_count": null,
   "id": "48c299d1",
   "metadata": {},
   "outputs": [],
   "source": []
  }
 ],
 "metadata": {
  "kernelspec": {
   "display_name": "Python 3 (ipykernel)",
   "language": "python",
   "name": "python3"
  },
  "language_info": {
   "codemirror_mode": {
    "name": "ipython",
    "version": 3
   },
   "file_extension": ".py",
   "mimetype": "text/x-python",
   "name": "python",
   "nbconvert_exporter": "python",
   "pygments_lexer": "ipython3",
   "version": "3.9.6"
  }
 },
 "nbformat": 4,
 "nbformat_minor": 5
}
