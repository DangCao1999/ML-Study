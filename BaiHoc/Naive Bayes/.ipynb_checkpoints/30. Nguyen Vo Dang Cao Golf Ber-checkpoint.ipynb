{
 "cells": [
  {
   "cell_type": "code",
   "execution_count": 1,
   "id": "3fec90ae",
   "metadata": {},
   "outputs": [],
   "source": [
    "import numpy as np\n",
    "import pandas as pd\n",
    "from scipy.sparse import coo_matrix\n",
    "from sklearn.naive_bayes import BernoulliNB\n",
    "from sklearn.metrics import accuracy_score\n",
    "from sklearn.model_selection import train_test_split"
   ]
  },
  {
   "cell_type": "markdown",
   "id": "4d9687c6",
   "metadata": {},
   "source": [
    "# 1. Loading data"
   ]
  },
  {
   "cell_type": "code",
   "execution_count": 17,
   "id": "5b4dc3be",
   "metadata": {},
   "outputs": [],
   "source": [
    "data_raw = pd.read_csv(\"https://raw.githubusercontent.com/DangCao1999/ML-Study/master/BaiHoc/Naive%20Bayes/Golf.csv\")\n",
    "#print(data_raw.head())"
   ]
  },
  {
   "cell_type": "code",
   "execution_count": 21,
   "id": "b8a0f9e1",
   "metadata": {},
   "outputs": [],
   "source": [
    "label_data = data_raw[\"golf\"]\n",
    "feature_data = data_raw.drop(\"golf\",axis=1)"
   ]
  },
  {
   "cell_type": "code",
   "execution_count": 37,
   "id": "f4049955",
   "metadata": {},
   "outputs": [],
   "source": [
    "train_feature, test_feature, train_label, test_label = train_test_split(feature_data, label_data, test_size = 0.05, random_state=13)"
   ]
  },
  {
   "cell_type": "markdown",
   "id": "1511155b",
   "metadata": {},
   "source": [
    "# 2. Train"
   ]
  },
  {
   "cell_type": "code",
   "execution_count": 45,
   "id": "79cf86c3",
   "metadata": {},
   "outputs": [
    {
     "data": {
      "text/plain": [
       "BernoulliNB()"
      ]
     },
     "execution_count": 45,
     "metadata": {},
     "output_type": "execute_result"
    }
   ],
   "source": [
    "ber = BernoulliNB()\n",
    "ber.fit(train_feature, train_label)"
   ]
  },
  {
   "cell_type": "markdown",
   "id": "f60eb843",
   "metadata": {},
   "source": [
    "# 3. Predict and evulation"
   ]
  },
  {
   "cell_type": "code",
   "execution_count": 46,
   "id": "faa6e435",
   "metadata": {},
   "outputs": [
    {
     "name": "stdout",
     "output_type": "stream",
     "text": [
      "[1]\n"
     ]
    }
   ],
   "source": [
    "predict_label = ber.predict(test_feature)\n",
    "print(predict_label)"
   ]
  },
  {
   "cell_type": "code",
   "execution_count": 47,
   "id": "8dbc9c26",
   "metadata": {},
   "outputs": [
    {
     "name": "stdout",
     "output_type": "stream",
     "text": [
      "Training size = 13, accuracy = 100.00%\n"
     ]
    }
   ],
   "source": [
    "print('Training size = %d, accuracy = %.2f%%' % \\\n",
    "      (train_feature.shape[0], accuracy_score(test_label, predict_label)*100))"
   ]
  }
 ],
 "metadata": {
  "kernelspec": {
   "display_name": "Python 3 (ipykernel)",
   "language": "python",
   "name": "python3"
  },
  "language_info": {
   "codemirror_mode": {
    "name": "ipython",
    "version": 3
   },
   "file_extension": ".py",
   "mimetype": "text/x-python",
   "name": "python",
   "nbconvert_exporter": "python",
   "pygments_lexer": "ipython3",
   "version": "3.9.6"
  }
 },
 "nbformat": 4,
 "nbformat_minor": 5
}
