{
 "cells": [
  {
   "cell_type": "code",
   "execution_count": 1,
   "id": "42ecc5c0",
   "metadata": {},
   "outputs": [],
   "source": [
    "import numpy as np\n",
    "import pandas as pd\n",
    "from scipy.sparse import coo_matrix\n",
    "from sklearn.naive_bayes import BernoulliNB\n",
    "from sklearn.metrics import accuracy_score\n",
    "from sklearn.model_selection import train_test_split"
   ]
  },
  {
   "cell_type": "markdown",
   "id": "612717a5",
   "metadata": {},
   "source": [
    "# 1. Loading data"
   ]
  },
  {
   "cell_type": "code",
   "execution_count": 17,
   "id": "9eed25eb",
   "metadata": {},
   "outputs": [],
   "source": [
    "data_raw = pd.read_csv(\"https://raw.githubusercontent.com/DangCao1999/ML-Study/master/BaiHoc/Naive%20Bayes/Golf.csv\")\n",
    "#print(data_raw.head())"
   ]
  },
  {
   "cell_type": "code",
   "execution_count": 21,
   "id": "5982b3f2",
   "metadata": {},
   "outputs": [],
   "source": [
    "label_data = data_raw[\"golf\"]\n",
    "feature_data = data_raw.drop(\"golf\",axis=1)"
   ]
  },
  {
   "cell_type": "code",
   "execution_count": 50,
   "id": "2ca11fa1",
   "metadata": {},
   "outputs": [],
   "source": [
    "train_feature, test_feature, train_label, test_label = train_test_split(feature_data, label_data, test_size = 0.05, random_state=13)"
   ]
  },
  {
   "cell_type": "markdown",
   "id": "d5d73af5",
   "metadata": {},
   "source": [
    "# 2. Train"
   ]
  },
  {
   "cell_type": "code",
   "execution_count": 45,
   "id": "3d30c200",
   "metadata": {},
   "outputs": [
    {
     "data": {
      "text/plain": [
       "BernoulliNB()"
      ]
     },
     "execution_count": 45,
     "metadata": {},
     "output_type": "execute_result"
    }
   ],
   "source": [
    "ber = BernoulliNB()\n",
    "ber.fit(train_feature, train_label)"
   ]
  },
  {
   "cell_type": "markdown",
   "id": "143a5406",
   "metadata": {},
   "source": [
    "# 3. Predict and evulation"
   ]
  },
  {
   "cell_type": "code",
   "execution_count": 46,
   "id": "71e59909",
   "metadata": {},
   "outputs": [
    {
     "name": "stdout",
     "output_type": "stream",
     "text": [
      "[1]\n"
     ]
    }
   ],
   "source": [
    "predict_label = ber.predict(test_feature)\n",
    "print(predict_label)"
   ]
  },
  {
   "cell_type": "code",
   "execution_count": 47,
   "id": "704f4814",
   "metadata": {},
   "outputs": [
    {
     "name": "stdout",
     "output_type": "stream",
     "text": [
      "Training size = 13, accuracy = 100.00%\n"
     ]
    }
   ],
   "source": [
    "print('Training size = %d, accuracy = %.2f%%' % \\\n",
    "      (train_feature.shape[0], accuracy_score(test_label, predict_label)*100))"
   ]
  }
 ],
 "metadata": {
  "kernelspec": {
   "display_name": "Python 3 (ipykernel)",
   "language": "python",
   "name": "python3"
  },
  "language_info": {
   "codemirror_mode": {
    "name": "ipython",
    "version": 3
   },
   "file_extension": ".py",
   "mimetype": "text/x-python",
   "name": "python",
   "nbconvert_exporter": "python",
   "pygments_lexer": "ipython3",
   "version": "3.9.6"
  }
 },
 "nbformat": 4,
 "nbformat_minor": 5
}
