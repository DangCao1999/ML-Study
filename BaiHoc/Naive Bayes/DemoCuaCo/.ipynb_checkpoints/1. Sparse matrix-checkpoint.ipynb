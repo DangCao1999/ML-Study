{
 "cells": [
  {
   "cell_type": "markdown",
   "id": "robust-polymer",
   "metadata": {},
   "source": [
    "### Sparse Matrix (Ma trận thưa)"
   ]
  },
  {
   "cell_type": "code",
   "execution_count": 2,
   "id": "imported-fireplace",
   "metadata": {},
   "outputs": [],
   "source": [
    "import numpy as np\n",
    "from scipy.sparse import coo_matrix\n",
    "# https://docs.scipy.org/doc/scipy/reference/generated/scipy.sparse.coo_matrix.html"
   ]
  },
  {
   "cell_type": "code",
   "execution_count": 3,
   "id": "possible-engagement",
   "metadata": {},
   "outputs": [
    {
     "name": "stdout",
     "output_type": "stream",
     "text": [
      "[[0 0 0 0]\n",
      " [0 0 0 0]\n",
      " [0 0 0 0]]\n",
      "<class 'numpy.ndarray'>\n"
     ]
    }
   ],
   "source": [
    "# Constructing an empty matrix with shape (M, N)\n",
    "# coo_matrix((M, N), [dtype]): dtype is optional, defaulting to dtype=’d’.\n",
    "m1 = coo_matrix((3, 4), dtype=np.int8).toarray()\n",
    "print(m1)\n",
    "print(type(m1))"
   ]
  },
  {
   "attachments": {
    "image.png": {
     "image/png": "[encoded data removed]"
    }
   },
   "cell_type": "markdown",
   "id": "worldwide-brazil",
   "metadata": {},
   "source": [
    "![image.png](attachment:image.png)"
   ]
  },
  {
   "cell_type": "code",
   "execution_count": 8,
   "id": "entire-specification",
   "metadata": {},
   "outputs": [
    {
     "name": "stdout",
     "output_type": "stream",
     "text": [
      "[[4 0 9 0]\n",
      " [0 7 0 0]\n",
      " [0 0 0 0]\n",
      " [0 0 0 5]]\n"
     ]
    }
   ],
   "source": [
    "# Constructing a matrix using ijv format\n",
    "# coo_matrix((data, (i, j)), [shape=(M, N)]): where A[i[k], j[k]] = data[k]. \n",
    "# When shape is not specified, it is inferred from the index arrays\n",
    "row  = np.array([0, 0, 0, 0,0,...,0,1,1,1,1,....,1,2,2,2,....,2.....,50,50]) # cột 1\n",
    "col  = np.array([564-1, 5-1 743-1, 1764-1,]) #cột 2\n",
    "data = np.array([1, 1, 1, 9,............................................,1]) # cột 3\n",
    "m2 = coo_matrix((data, (row, col)), shape=(4, 4)).toarray()\n",
    "print(m2)"
   ]
  },
  {
   "cell_type": "code",
   "execution_count": 11,
   "id": "confused-algebra",
   "metadata": {},
   "outputs": [
    {
     "name": "stdout",
     "output_type": "stream",
     "text": [
      "<class 'numpy.ndarray'>\n",
      "[[3 0 1 0]\n",
      " [0 2 0 0]\n",
      " [0 0 0 0]\n",
      " [0 0 0 1]]\n"
     ]
    },
    {
     "data": {
      "text/plain": [
       "(4, 4)"
      ]
     },
     "execution_count": 11,
     "metadata": {},
     "output_type": "execute_result"
    }
   ],
   "source": [
    "# Constructing a matrix with duplicate indices\n",
    "# Duplicate indices are maintained until implicitly or explicitly summed\n",
    "row  = np.array([0, 0, 1, 3, 1, 0, 0])\n",
    "col  = np.array([0, 2, 1, 3, 1, 0, 0])\n",
    "data = np.array([1, 1, 1, 1, 1, 1, 1])\n",
    "m3 = coo_matrix((data, (row, col)), shape=(4, 4)).toarray()\n",
    "print(m3)\n",
    "m3.shape"
   ]
  }
 ],
 "metadata": {
  "kernelspec": {
   "display_name": "Python 3 (ipykernel)",
   "language": "python",
   "name": "python3"
  },
  "language_info": {
   "codemirror_mode": {
    "name": "ipython",
    "version": 3
   },
   "file_extension": ".py",
   "mimetype": "text/x-python",
   "name": "python",
   "nbconvert_exporter": "python",
   "pygments_lexer": "ipython3",
   "version": "3.9.6"
  }
 },
 "nbformat": 4,
 "nbformat_minor": 5
}
