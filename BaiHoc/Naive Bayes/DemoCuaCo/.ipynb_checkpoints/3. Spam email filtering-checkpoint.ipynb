{
 "cells": [
  {
   "cell_type": "markdown",
   "id": "sublime-firmware",
   "metadata": {},
   "source": [
    "### Spam Email Filtering"
   ]
  },
  {
   "cell_type": "markdown",
   "id": "altered-magazine",
   "metadata": {},
   "source": [
    "I think they ***really*** let the quality of the DVD ***production*** get away from them. I rented this DVD from 2 ***movie*** stores and the second time I finally got it to play on the 3rd DVD player I tried.<br /><br />Anyone else have this issue? It's ***really*** hard to give the film an un-biased review after going ***through*** such a hassle to play it. For one, I've never seen a Finnish horror film before so I was sort of bummed that the ***movie*** was done in English. Also since it's never made clear what is wrong with Sarah, she just came off as retarded and therefore I really just hoped someone would shoot her in the ***face*** and make all the horrific happenings go away."
   ]
  },
  {
   "cell_type": "code",
   "execution_count": null,
   "id": "modern-deposit",
   "metadata": {},
   "outputs": [],
   "source": [
    "# E1 --> đếm 50 từ khác nhau\n",
    "# E2 --> 20 từ\n",
    "# .....\n",
    "# E100 \n",
    "#  ---> tất cả 200 từ"
   ]
  },
  {
   "cell_type": "code",
   "execution_count": null,
   "id": "reliable-jewelry",
   "metadata": {},
   "outputs": [],
   "source": [
    "BoW=['they1', 'think1', 'production', 'second1', 'really', 'through1', 'movie', 'wrong1', 'face'] # Bag Of Words --> 200 cột"
   ]
  },
  {
   "cell_type": "code",
   "execution_count": null,
   "id": "honest-surname",
   "metadata": {},
   "outputs": [],
   "source": [
    "E1=[0,0,1,0,2,0,2,0,1] \n",
    "E1=[1,6,1,.................,1,4,1,1,3,0,0,0,0,0] # --> 200 cột\n",
    "E1 = [3,0,1,0,..........................1,3,1,5,1,] # --> 2500 cột\n",
    "E50 = [0,0,2,,............1,..,1,..1,......,0,0,0,3,0,0,0]"
   ]
  },
  {
   "cell_type": "code",
   "execution_count": null,
   "id": "documented-vault",
   "metadata": {},
   "outputs": [],
   "source": [
    "50 200 4\n",
    "50 564 1"
   ]
  },
  {
   "cell_type": "code",
   "execution_count": 4,
   "id": "turned-discipline",
   "metadata": {},
   "outputs": [],
   "source": [
    "import numpy as np\n",
    "from scipy.sparse import coo_matrix # for sparse matrix\n",
    "from sklearn.naive_bayes import MultinomialNB, BernoulliNB\n",
    "from sklearn.metrics import accuracy_score # for evaluating results\n",
    "path = 'Spam email data/' # data path"
   ]
  },
  {
   "cell_type": "code",
   "execution_count": 22,
   "id": "agreed-direction",
   "metadata": {},
   "outputs": [
    {
     "name": "stdout",
     "output_type": "stream",
     "text": [
      "Content: <class 'list'> :\n",
      " ['0\\n', '0\\n', '0\\n', '0\\n', '0\\n', '0\\n', '0\\n', '0\\n', '0\\n', '0\\n', '0\\n', '0\\n', '0\\n', '0\\n', '0\\n', '0\\n', '0\\n', '0\\n', '0\\n', '0\\n', '0\\n', '0\\n', '0\\n', '0\\n', '0\\n', '1\\n', '1\\n', '1\\n', '1\\n', '1\\n', '1\\n', '1\\n', '1\\n', '1\\n', '1\\n', '1\\n', '1\\n', '1\\n', '1\\n', '1\\n', '1\\n', '1\\n', '1\\n', '1\\n', '1\\n', '1\\n', '1\\n', '1\\n', '1\\n', '1\\n']\n",
      "Label: <class 'list'> :\n",
      " [0, 0, 0, 0, 0, 0, 0, 0, 0, 0, 0, 0, 0, 0, 0, 0, 0, 0, 0, 0, 0, 0, 0, 0, 0, 1, 1, 1, 1, 1, 1, 1, 1, 1, 1, 1, 1, 1, 1, 1, 1, 1, 1, 1, 1, 1, 1, 1, 1, 1]\n"
     ]
    }
   ],
   "source": [
    "## read train label\n",
    "train_label=[]\n",
    "with open(path + 'train-labels-50.txt') as f:\n",
    "    content = f.readlines()\n",
    "print('Content:',type(content),':\\n', content)\n",
    "# strip() function will remove all white space characters, tabs, new lines\n",
    "for line in content:\n",
    "    train_label.append(int(line.strip()))\n",
    "print('Label:',type(content),':\\n', train_label)\n"
   ]
  },
  {
   "cell_type": "code",
   "execution_count": 23,
   "id": "attended-decimal",
   "metadata": {},
   "outputs": [
    {
     "name": "stdout",
     "output_type": "stream",
     "text": [
      "Content: ['1 564 1\\n', '1 50 1\\n', '1 743 1\\n', '1 1764 1\\n', '1 1868 1\\n']\n",
      "Remove new line: ['1 564 1', '1 50 1', '1 743 1', '1 1764 1', '1 1868 1']\n",
      "Train data: \n",
      " [[   1  564    1]\n",
      " [   1   50    1]\n",
      " [   1  743    1]\n",
      " [   1 1764    1]\n",
      " [   1 1868    1]]\n"
     ]
    }
   ],
   "source": [
    "## read train data (2500 words)\n",
    "data=[]\n",
    "with open(path + 'train-features-50.txt') as f:\n",
    "    content = f.readlines()\n",
    "# print('Content:',type(content),':\\n', content)\n",
    "print('Content:', content[:5])\n",
    "\n",
    "for line in content:\n",
    "    data.append(line.strip())\n",
    "print('Remove new line:', data[:5])\n",
    "\n",
    "train_data = np.zeros((len(data), 3), dtype = int)\n",
    "for i, line in enumerate(data):\n",
    "    a = line.split(' ')\n",
    "    train_data[i, :] = np.array([int(a[0]), int(a[1]), int(a[2])])\n",
    "print('Train data: \\n', train_data[:5])"
   ]
  },
  {
   "cell_type": "code",
   "execution_count": null,
   "id": "supported-philadelphia",
   "metadata": {},
   "outputs": [],
   "source": []
  },
  {
   "cell_type": "code",
   "execution_count": 33,
   "id": "suspended-movement",
   "metadata": {},
   "outputs": [
    {
     "name": "stdout",
     "output_type": "stream",
     "text": [
      "    0    0    0    0    0    0    0    0    0    0    0    0    0    0    0\n",
      "\n",
      "  563   49  742 1763 1867   84 1815   74  138  776 1276  199  351   44   18\n",
      "\n",
      "    1    1    1    1    1    1    1    1    1    1    1    1    1    1    2\n",
      "\n",
      "---------Feature vector:---------\n",
      "(50, 2500)\n",
      "[0 0 0 0 0 0 0 0 0 0 0 0 0 0 0 0 0 0 2 0 0 0 0 0 0 0 0 0 0 0 0 0 0 0 0 0 0\n",
      " 0 0 0 0 0 0 0 1 0 0 0 0 1 0 0 0 0 0 0 0 0 0 0 0 0 0 0 0 0 0 0 0 0 0 0 0 0\n",
      " 1 0 0 0 0 0 0 0 0 0 1 0 0 0 0 0 0 0 0 0 0 0 0 0 0 0]\n"
     ]
    }
   ],
   "source": [
    "# create a Sparse Matrix\n",
    "nwords = 2500 #vocabulary\n",
    "nemails = len(train_label)\n",
    "\n",
    "# coo_matrix((data, (i, j)), [shape=(M, N)])\n",
    "row = train_data[:, 0] - 1 # index of file start 1\n",
    "col = train_data[:, 1] - 1 # index of array start 0\n",
    "data = train_data[:, 2]\n",
    "coo_data = coo_matrix((data, (row, col)), shape=(nemails, nwords)).toarray()\n",
    "\n",
    "for i in range(15):\n",
    "    print('%5d'%row[i], end='')\n",
    "print('\\n')\n",
    "for i in range(15):\n",
    "    print('%5d'%col[i], end='')\n",
    "print('\\n')\n",
    "for i in range(15):\n",
    "    print('%5d'%data[i], end='')\n",
    "print('\\n')\n",
    "# print (row[:15])\n",
    "# print (col[:15])\n",
    "# print (data[:15])\n",
    "print('---------Feature vector:---------')\n",
    "print(coo_data.shape)\n",
    "print(coo_data[0][:100])\n"
   ]
  },
  {
   "cell_type": "code",
   "execution_count": 25,
   "id": "loaded-passing",
   "metadata": {},
   "outputs": [
    {
     "name": "stdout",
     "output_type": "stream",
     "text": [
      "Training size = 50, accuracy = 97.31%\n"
     ]
    }
   ],
   "source": [
    "# (train_data, train_label)  = read_data(train_data_fn, train_label_fn)\n",
    "# (test_data, test_label)  = read_data(test_data_fn, test_label_fn)\n",
    "\n",
    "MNB = MultinomialNB()\n",
    "MNB.fit(coo_data, train_label)\n",
    "\n",
    "y_pred = MNB.predict(test_data)\n",
    "print('Training size = %d, accuracy = %.2f%%' % \\\n",
    "      (coo_data.shape[0], accuracy_score(test_label, y_pred)*100))"
   ]
  },
  {
   "cell_type": "code",
   "execution_count": null,
   "id": "given-experiment",
   "metadata": {},
   "outputs": [],
   "source": [
    "# Bài tập 1: \n",
    "# - Từ data e1-->e10 tạo lại file train_data.txt/.csv\n",
    "# - Đọc file\n",
    "# - Tạo ma trận thưa\n",
    "# - Train - Test\n",
    "# - Dự báo Test\n",
    "# - Đánh giá độ chính xác\n",
    "\n",
    "# Bài tập 2:\n",
    "# - Từ bộ data email spam (mLearning), rút gọn có 10-20 email, nwords = 100\n",
    "# - Thực hiện bài toán MultinomialNB giống Bài tập 1\n"
   ]
  }
 ],
 "metadata": {
  "kernelspec": {
   "display_name": "Python 3 (ipykernel)",
   "language": "python",
   "name": "python3"
  },
  "language_info": {
   "codemirror_mode": {
    "name": "ipython",
    "version": 3
   },
   "file_extension": ".py",
   "mimetype": "text/x-python",
   "name": "python",
   "nbconvert_exporter": "python",
   "pygments_lexer": "ipython3",
   "version": "3.9.6"
  }
 },
 "nbformat": 4,
 "nbformat_minor": 5
}
