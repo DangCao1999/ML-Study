{
 "cells": [
  {
   "cell_type": "code",
   "execution_count": 1,
   "id": "historic-retention",
   "metadata": {},
   "outputs": [],
   "source": [
    "import json\n",
    "file_news = open(\"News_Category_Dataset_v2.json\",\"r\")\n",
    "data_jsons = [json.loads(line) for line in file_news.readlines()][:200000]"
   ]
  },
  {
   "cell_type": "code",
   "execution_count": 2,
   "id": "detected-lesson",
   "metadata": {},
   "outputs": [
    {
     "data": {
      "text/plain": [
       "list"
      ]
     },
     "execution_count": 2,
     "metadata": {},
     "output_type": "execute_result"
    }
   ],
   "source": [
    "type(data_jsons)"
   ]
  },
  {
   "cell_type": "code",
   "execution_count": 3,
   "id": "boolean-candle",
   "metadata": {},
   "outputs": [
    {
     "data": {
      "text/plain": [
       "(200000,)"
      ]
     },
     "execution_count": 3,
     "metadata": {},
     "output_type": "execute_result"
    }
   ],
   "source": [
    "import numpy as np\n",
    "np_data_jsons = np.array(data_jsons)\n",
    "np_data_jsons.shape"
   ]
  },
  {
   "cell_type": "code",
   "execution_count": 4,
   "id": "integrated-paragraph",
   "metadata": {},
   "outputs": [
    {
     "data": {
      "text/plain": [
       "{'category': 'ENTERTAINMENT',\n",
       " 'headline': 'Hugh Grant Marries For The First Time At Age 57',\n",
       " 'authors': 'Ron Dicker',\n",
       " 'link': 'https://www.huffingtonpost.com/entry/hugh-grant-marries_us_5b09212ce4b0568a880b9a8c',\n",
       " 'short_description': 'The actor and his longtime girlfriend Anna Eberstein tied the knot in a civil ceremony.',\n",
       " 'date': '2018-05-26'}"
      ]
     },
     "execution_count": 4,
     "metadata": {},
     "output_type": "execute_result"
    }
   ],
   "source": [
    "data_jsons[2]"
   ]
  },
  {
   "cell_type": "code",
   "execution_count": 12,
   "id": "guided-debate",
   "metadata": {},
   "outputs": [
    {
     "data": {
      "text/plain": [
       "dict"
      ]
     },
     "execution_count": 12,
     "metadata": {},
     "output_type": "execute_result"
    }
   ],
   "source": [
    "type(data_jsons[2])"
   ]
  },
  {
   "cell_type": "code",
   "execution_count": 14,
   "id": "assumed-population",
   "metadata": {},
   "outputs": [],
   "source": [
    "# data_jsons[2]['link']"
   ]
  },
  {
   "cell_type": "code",
   "execution_count": 6,
   "id": "stainless-resolution",
   "metadata": {},
   "outputs": [
    {
     "data": {
      "text/plain": [
       "'ENTERTAINMENT'"
      ]
     },
     "execution_count": 6,
     "metadata": {},
     "output_type": "execute_result"
    }
   ],
   "source": [
    "data_jsons[2]['category']"
   ]
  },
  {
   "cell_type": "code",
   "execution_count": 7,
   "id": "maritime-underwear",
   "metadata": {},
   "outputs": [
    {
     "data": {
      "text/plain": [
       "'She left her husband. He killed their children. Just another day in America.'"
      ]
     },
     "execution_count": 7,
     "metadata": {},
     "output_type": "execute_result"
    }
   ],
   "source": [
    "data_jsons[0]['short_description']"
   ]
  },
  {
   "cell_type": "code",
   "execution_count": 8,
   "id": "forward-senator",
   "metadata": {},
   "outputs": [
    {
     "name": "stdout",
     "output_type": "stream",
     "text": [
      "5\n",
      "199995\n"
     ]
    }
   ],
   "source": [
    "import random\n",
    "random.shuffle(data_jsons)\n",
    "train, test = data_jsons[:5], data_jsons[5:]\n",
    "print(len(train))\n",
    "print(len(test))"
   ]
  },
  {
   "cell_type": "code",
   "execution_count": 9,
   "id": "meaningful-general",
   "metadata": {},
   "outputs": [
    {
     "name": "stdout",
     "output_type": "stream",
     "text": [
      "POLITICS\tThen president pleads that \"we have to come together as a nation.\"\n",
      "SCIENCE\tThis close-up image of the lunar surface was relayed on Feb. 3, 1966 from the former Soviet Union’s Luna 9 lander in the\n",
      "BLACK VOICES\tOfficers Sharlton Wampler and Antonio Villegas killed Ezell Ford, 25, during a confrontation. They have not yet been charged, according to the Los Angeles Times. Ford was described by family attorneys as mentally challenged.\n",
      "POLITICS\t\n",
      "POLITICS\tDemocracy dies on vacation.\n"
     ]
    }
   ],
   "source": [
    "for item in train:\n",
    "    print(item['category']+'\\t'+item['short_description'])"
   ]
  },
  {
   "cell_type": "code",
   "execution_count": 10,
   "id": "black-ranch",
   "metadata": {},
   "outputs": [],
   "source": [
    "# import re\n",
    "def createBagOfWord(dataset):\n",
    "  bag = []\n",
    "  labels = []\n",
    "  for item in dataset:\n",
    "    labels.append(item['category'])\n",
    "    wordList = item['short_description'].split(' ')\n",
    "    for word in wordList:\n",
    "      word = word.lower()\n",
    "      if word != '' and word not in bag:\n",
    "        bag.append(word)\n",
    "  return bag, labels"
   ]
  },
  {
   "cell_type": "code",
   "execution_count": 11,
   "id": "affecting-enough",
   "metadata": {},
   "outputs": [
    {
     "name": "stdout",
     "output_type": "stream",
     "text": [
      "Size of bag: 64\n",
      "['then', 'president', 'pleads', 'that', '\"we', 'have', 'to', 'come', 'together', 'as', 'a', 'nation.\"', 'this', 'close-up', 'image', 'of', 'the', 'lunar', 'surface', 'was', 'relayed', 'on', 'feb.', '3,', '1966', 'from', 'former', 'soviet', 'union’s', 'luna', '9', 'lander', 'in', 'officers', 'sharlton', 'wampler', 'and', 'antonio', 'villegas', 'killed', 'ezell', 'ford,', '25,', 'during', 'confrontation.', 'they', 'not', 'yet', 'been', 'charged,', 'according', 'los', 'angeles', 'times.', 'ford', 'described', 'by', 'family', 'attorneys', 'mentally', 'challenged.', 'democracy', 'dies', 'vacation.']\n",
      "['POLITICS', 'SCIENCE', 'BLACK VOICES', 'POLITICS', 'POLITICS']\n"
     ]
    }
   ],
   "source": [
    "bagOfWord, labels = createBagOfWord(train)\n",
    "print(\"Size of bag: {}\".format(len(bagOfWord)))\n",
    "print(bagOfWord)\n",
    "print(labels)"
   ]
  }
 ],
 "metadata": {
  "kernelspec": {
   "display_name": "Python 3 (ipykernel)",
   "language": "python",
   "name": "python3"
  },
  "language_info": {
   "codemirror_mode": {
    "name": "ipython",
    "version": 3
   },
   "file_extension": ".py",
   "mimetype": "text/x-python",
   "name": "python",
   "nbconvert_exporter": "python",
   "pygments_lexer": "ipython3",
   "version": "3.9.6"
  }
 },
 "nbformat": 4,
 "nbformat_minor": 5
}
