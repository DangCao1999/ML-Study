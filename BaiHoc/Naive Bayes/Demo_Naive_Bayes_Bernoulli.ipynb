{
 "cells": [
  {
   "cell_type": "markdown",
   "id": "38e2298c",
   "metadata": {},
   "source": [
    "# Phân loại Email Spam hay Not Spam cơ bản "
   ]
  },
  {
   "cell_type": "code",
   "execution_count": 1,
   "id": "b019eea8",
   "metadata": {},
   "outputs": [],
   "source": [
    "from sklearn.naive_bayes import BernoulliNB\n",
    "import numpy as np"
   ]
  },
  {
   "cell_type": "markdown",
   "id": "d4bdfe07",
   "metadata": {},
   "source": [
    "# Dữ liệu Train "
   ]
  },
  {
   "cell_type": "code",
   "execution_count": 33,
   "id": "4e6cfeeb",
   "metadata": {},
   "outputs": [],
   "source": [
    "e1 = [1, 1, 0, 1, 0]\n",
    "e2 = [0, 1, 1, 0, 0]\n",
    "e3 = [1, 0, 1, 0, 1]\n",
    "e4 = [1, 1, 1, 1, 0]\n",
    "e5 = [0, 1, 0, 1, 0]\n",
    "e6 = [0, 0, 0, 1, 1]\n",
    "e7 = [0, 1, 0, 0, 0]\n",
    "e8 = [1, 1, 0, 1, 0]\n",
    "e9 = [0, 0, 1, 1, 1]\n",
    "e10 = [1, 0, 1, 0, 1]\n",
    "# e11 = [0, 0, 0, 0, 0]"
   ]
  },
  {
   "cell_type": "markdown",
   "id": "86106eca",
   "metadata": {},
   "source": [
    "# Gán mảng X_train và label"
   ]
  },
  {
   "cell_type": "code",
   "execution_count": 34,
   "id": "562e93a8",
   "metadata": {},
   "outputs": [],
   "source": [
    "X_train = np.array([e1, e2, e3, e4, e5, e6, e7, e8, e9, e10])\n",
    "label = np.array(['N', 'N', 'S', 'S', 'S', 'N', 'S', 'S', 'N', 'S'])\n",
    "#X_train\n"
   ]
  },
  {
   "cell_type": "markdown",
   "id": "5f3c2949",
   "metadata": {},
   "source": [
    "# dữ liệu test"
   ]
  },
  {
   "cell_type": "code",
   "execution_count": 38,
   "id": "aab38e3b",
   "metadata": {},
   "outputs": [],
   "source": [
    "e12 = np.array([[1, 0, 0, 1, 1]])\n",
    "# e11 = np.array([[0, 1, 0, 1, 1]]) // cho ra kết quả Not Spam(N)"
   ]
  },
  {
   "cell_type": "markdown",
   "id": "81e641b7",
   "metadata": {},
   "source": [
    "# Dùng BernoulliNB trong sklearn để cho máy học"
   ]
  },
  {
   "cell_type": "code",
   "execution_count": 39,
   "id": "ec494b32",
   "metadata": {},
   "outputs": [
    {
     "data": {
      "text/plain": [
       "BernoulliNB()"
      ]
     },
     "execution_count": 39,
     "metadata": {},
     "output_type": "execute_result"
    }
   ],
   "source": [
    "clf1 = BernoulliNB()\n",
    "clf1.fit(X_train, label)"
   ]
  },
  {
   "cell_type": "markdown",
   "id": "0ab1b892",
   "metadata": {},
   "source": [
    "# Tính xác suất và dự đoán "
   ]
  },
  {
   "cell_type": "code",
   "execution_count": 40,
   "id": "878cf657",
   "metadata": {},
   "outputs": [
    {
     "name": "stdout",
     "output_type": "stream",
     "text": [
      "Probability of e11 in each class: [[0.45734703 0.54265297]]\n",
      "Predicting class of e11: S\n"
     ]
    }
   ],
   "source": [
    "#predict_proba: trả về các ước lượng xác suất, ở đây là Not spam (N) và Spam (S)\n",
    "print('Probability of e11 in each class:', clf1.predict_proba(e12))\n",
    "#Phân loại E11 \n",
    "print('Predicting class of e11:', str(clf1.predict(e12)[0]))"
   ]
  },
  {
   "cell_type": "code",
   "execution_count": null,
   "id": "49caa484",
   "metadata": {},
   "outputs": [],
   "source": []
  }
 ],
 "metadata": {
  "kernelspec": {
   "display_name": "Python 3 (ipykernel)",
   "language": "python",
   "name": "python3"
  },
  "language_info": {
   "codemirror_mode": {
    "name": "ipython",
    "version": 3
   },
   "file_extension": ".py",
   "mimetype": "text/x-python",
   "name": "python",
   "nbconvert_exporter": "python",
   "pygments_lexer": "ipython3",
   "version": "3.9.6"
  }
 },
 "nbformat": 4,
 "nbformat_minor": 5
}
