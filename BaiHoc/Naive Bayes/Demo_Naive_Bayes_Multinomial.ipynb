{
 "cells": [
  {
   "cell_type": "markdown",
   "id": "71c8fe69",
   "metadata": {},
   "source": [
    "# khai báo thư viện sklearn.naive_bayes sử dụng mô hình Multinomial"
   ]
  },
  {
   "cell_type": "code",
   "execution_count": 1,
   "id": "18de470c",
   "metadata": {},
   "outputs": [],
   "source": [
    "from sklearn.naive_bayes import MultinomialNB\n",
    "import numpy as np"
   ]
  },
  {
   "cell_type": "markdown",
   "id": "0f0f3eeb",
   "metadata": {},
   "source": [
    "# Dữ liệu Train "
   ]
  },
  {
   "cell_type": "code",
   "execution_count": 2,
   "id": "40514cd8",
   "metadata": {},
   "outputs": [],
   "source": [
    "e1 = [1, 2, 1, 0, 1, 0, 0]\n",
    "e2 = [0, 2, 0, 0, 1, 1, 1]\n",
    "e3 = [1, 0, 1, 1, 0, 2, 0]"
   ]
  },
  {
   "cell_type": "markdown",
   "id": "85cea0c0",
   "metadata": {},
   "source": [
    "# Gán mảng X_train và label"
   ]
  },
  {
   "cell_type": "code",
   "execution_count": 3,
   "id": "03267b80",
   "metadata": {},
   "outputs": [],
   "source": [
    "X_train = np.array([e1, e2, e3])\n",
    "label = np.array(['N', 'N', 'S'])"
   ]
  },
  {
   "cell_type": "markdown",
   "id": "3dee3609",
   "metadata": {},
   "source": [
    "# dữ liệu test"
   ]
  },
  {
   "cell_type": "code",
   "execution_count": 4,
   "id": "6e919f85",
   "metadata": {},
   "outputs": [],
   "source": [
    "e4 = np.array([[3, 1, 2, 2, 2, 3, 2]])"
   ]
  },
  {
   "cell_type": "markdown",
   "id": "40090cf7",
   "metadata": {},
   "source": [
    "# Dùng MultinomialNB trong sklearn để cho máy học"
   ]
  },
  {
   "cell_type": "code",
   "execution_count": 5,
   "id": "c6ad7ea4",
   "metadata": {},
   "outputs": [
    {
     "data": {
      "text/plain": [
       "MultinomialNB(alpha=1)"
      ]
     },
     "execution_count": 5,
     "metadata": {},
     "output_type": "execute_result"
    }
   ],
   "source": [
    "\n",
    "mnb = MultinomialNB(alpha=1)\n",
    "\n",
    "mnb.fit(X_train, label)"
   ]
  },
  {
   "cell_type": "markdown",
   "id": "e534c790",
   "metadata": {},
   "source": [
    "# Tính xác suất và dự đoán "
   ]
  },
  {
   "cell_type": "code",
   "execution_count": 6,
   "id": "fd380bcc",
   "metadata": {},
   "outputs": [
    {
     "name": "stdout",
     "output_type": "stream",
     "text": [
      "Probability of e4 in each class: [[0.12551761 0.87448239]]\n",
      "Predicting class of e4: S\n"
     ]
    }
   ],
   "source": [
    "print('Probability of e4 in each class:', mnb.predict_proba(e4))\n",
    "print('Predicting class of e4:', str(mnb.predict(e4)[0]))"
   ]
  },
  {
   "cell_type": "code",
   "execution_count": null,
   "id": "90b1d7ed",
   "metadata": {},
   "outputs": [],
   "source": []
  }
 ],
 "metadata": {
  "kernelspec": {
   "display_name": "Python 3 (ipykernel)",
   "language": "python",
   "name": "python3"
  },
  "language_info": {
   "codemirror_mode": {
    "name": "ipython",
    "version": 3
   },
   "file_extension": ".py",
   "mimetype": "text/x-python",
   "name": "python",
   "nbconvert_exporter": "python",
   "pygments_lexer": "ipython3",
   "version": "3.9.6"
  }
 },
 "nbformat": 4,
 "nbformat_minor": 5
}
