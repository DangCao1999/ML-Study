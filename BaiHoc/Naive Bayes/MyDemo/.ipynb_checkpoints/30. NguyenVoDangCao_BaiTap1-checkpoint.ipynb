{
 "cells": [
  {
   "cell_type": "code",
   "execution_count": 62,
   "id": "53e663f7",
   "metadata": {},
   "outputs": [],
   "source": [
    "import numpy as np\n",
    "import pandas as pd\n",
    "from scipy.sparse import coo_matrix\n",
    "from sklearn.naive_bayes import MultinomialNB, BernoulliNB\n",
    "from sklearn.metrics import accuracy_score\n",
    "from sklearn.model_selection import train_test_split"
   ]
  },
  {
   "cell_type": "code",
   "execution_count": null,
   "id": "2d9ab24f",
   "metadata": {},
   "outputs": [],
   "source": []
  },
  {
   "cell_type": "markdown",
   "id": "4dc460f8",
   "metadata": {},
   "source": [
    "# 1. Read data txt"
   ]
  },
  {
   "cell_type": "markdown",
   "id": "238df0a0",
   "metadata": {},
   "source": [
    "## Read feature"
   ]
  },
  {
   "cell_type": "code",
   "execution_count": 67,
   "id": "731990dc",
   "metadata": {},
   "outputs": [
    {
     "name": "stdout",
     "output_type": "stream",
     "text": [
      "   0  1  2\n",
      "0  1  1  1\n",
      "1  1  2  1\n",
      "2  1  4  1\n",
      "3  2  2  1\n",
      "4  2  3  1\n"
     ]
    }
   ],
   "source": [
    "data_feature = []\n",
    "data_feature = pd.read_csv(\"https://raw.githubusercontent.com/DangCao1999/ML-Study/master/BaiHoc/Naive%20Bayes/MyDemo/DataBt1.txt\",  sep=\" \", header=None)\n",
    "print(data_feature.head())"
   ]
  },
  {
   "cell_type": "markdown",
   "id": "ffe516e7",
   "metadata": {},
   "source": [
    "## Read label"
   ]
  },
  {
   "cell_type": "code",
   "execution_count": 68,
   "id": "f8b91f0c",
   "metadata": {},
   "outputs": [],
   "source": [
    "data_label = []\n",
    "data_label = pd.read_csv(\"https://raw.githubusercontent.com/DangCao1999/ML-Study/master/BaiHoc/Naive%20Bayes/MyDemo/LabelBt1.txt\", sep=\" \", header=None)"
   ]
  },
  {
   "cell_type": "markdown",
   "id": "e5c6bb7c",
   "metadata": {},
   "source": [
    "# 2. Sparse matrix"
   ]
  },
  {
   "cell_type": "code",
   "execution_count": 69,
   "id": "82ff9166",
   "metadata": {},
   "outputs": [],
   "source": [
    "nwords = 5\n",
    "nemails = 10\n",
    "rows = data_feature[0] -1 \n",
    "cols = data_feature[1] -1 \n",
    "data = data_feature[2]\n",
    "coo_data = coo_matrix((data, (rows, cols)), shape=(nemails, nwords)).toarray()"
   ]
  },
  {
   "cell_type": "code",
   "execution_count": 70,
   "id": "907f90db",
   "metadata": {
    "scrolled": true
   },
   "outputs": [
    {
     "name": "stdout",
     "output_type": "stream",
     "text": [
      "[[1 1 0 1 0]\n",
      " [0 1 1 0 0]\n",
      " [1 0 1 0 1]\n",
      " [1 1 1 1 0]\n",
      " [0 1 0 1 0]\n",
      " [0 0 0 1 1]\n",
      " [0 1 0 0 0]\n",
      " [1 1 0 1 0]\n",
      " [0 0 1 1 1]\n",
      " [1 0 1 0 1]]\n"
     ]
    }
   ],
   "source": [
    "print(coo_data)"
   ]
  },
  {
   "cell_type": "markdown",
   "id": "84d5f86e",
   "metadata": {},
   "source": [
    "# 3. Train - Test"
   ]
  },
  {
   "cell_type": "code",
   "execution_count": 93,
   "id": "73702983",
   "metadata": {},
   "outputs": [],
   "source": [
    "train_feature, test_feature, train_label, test_label = train_test_split(coo_data, data_label, test_size = 0.3, random_state=1)"
   ]
  },
  {
   "cell_type": "code",
   "execution_count": 94,
   "id": "9a7d5281",
   "metadata": {},
   "outputs": [],
   "source": [
    "train_label = train_label.values.reshape(len(train_label)) # fix for warning shape(n_samples,)"
   ]
  },
  {
   "cell_type": "code",
   "execution_count": 95,
   "id": "50dc93de",
   "metadata": {},
   "outputs": [
    {
     "data": {
      "text/plain": [
       "MultinomialNB()"
      ]
     },
     "execution_count": 95,
     "metadata": {},
     "output_type": "execute_result"
    }
   ],
   "source": [
    "MNB = MultinomialNB()\n",
    "MNB.fit(train_feature, train_label)"
   ]
  },
  {
   "cell_type": "markdown",
   "id": "86bd205e",
   "metadata": {},
   "source": [
    "# 4. Predict - Evulation Accuracy"
   ]
  },
  {
   "cell_type": "code",
   "execution_count": 96,
   "id": "6ff4c2a3",
   "metadata": {},
   "outputs": [
    {
     "name": "stdout",
     "output_type": "stream",
     "text": [
      "['N' 'N' 'S']\n"
     ]
    }
   ],
   "source": [
    "predict_label = MNB.predict(test_feature)\n",
    "print(predict_label)"
   ]
  },
  {
   "cell_type": "code",
   "execution_count": 97,
   "id": "0327b788",
   "metadata": {},
   "outputs": [
    {
     "name": "stdout",
     "output_type": "stream",
     "text": [
      "Training size = 10, accuracy = 33.33%\n"
     ]
    }
   ],
   "source": [
    "print('Training size = %d, accuracy = %.2f%%' % \\\n",
    "      (coo_data.shape[0], accuracy_score(test_label, predict_label)*100))"
   ]
  }
 ],
 "metadata": {
  "kernelspec": {
   "display_name": "Python 3 (ipykernel)",
   "language": "python",
   "name": "python3"
  },
  "language_info": {
   "codemirror_mode": {
    "name": "ipython",
    "version": 3
   },
   "file_extension": ".py",
   "mimetype": "text/x-python",
   "name": "python",
   "nbconvert_exporter": "python",
   "pygments_lexer": "ipython3",
   "version": "3.9.6"
  }
 },
 "nbformat": 4,
 "nbformat_minor": 5
}
