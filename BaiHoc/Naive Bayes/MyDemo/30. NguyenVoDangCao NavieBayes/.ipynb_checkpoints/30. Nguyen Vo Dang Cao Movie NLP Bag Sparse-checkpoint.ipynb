{
 "cells": [
  {
   "cell_type": "code",
   "execution_count": 1,
   "id": "ed508864",
   "metadata": {},
   "outputs": [],
   "source": [
    "import numpy as np\n",
    "import pandas as pd\n",
    "from scipy.sparse import coo_matrix\n",
    "from sklearn.naive_bayes import MultinomialNB, BernoulliNB\n",
    "from sklearn.metrics import accuracy_score\n",
    "from sklearn.model_selection import train_test_split"
   ]
  },
  {
   "cell_type": "markdown",
   "id": "3ec82c0f",
   "metadata": {},
   "source": [
    "# Bài 2"
   ]
  },
  {
   "cell_type": "markdown",
   "id": "d3d21a94",
   "metadata": {},
   "source": [
    "## Load data"
   ]
  },
  {
   "cell_type": "code",
   "execution_count": 128,
   "id": "c91841a7",
   "metadata": {},
   "outputs": [],
   "source": [
    "data = pd.read_csv(\"https://raw.githubusercontent.com/DangCao1999/ML-Study/master/BaiHoc/Naive%20Bayes/Movie.csv\",sep=\";\")"
   ]
  },
  {
   "cell_type": "code",
   "execution_count": 129,
   "id": "fdcfef58",
   "metadata": {},
   "outputs": [
    {
     "data": {
      "text/html": [
       "<div>\n",
       "<style scoped>\n",
       "    .dataframe tbody tr th:only-of-type {\n",
       "        vertical-align: middle;\n",
       "    }\n",
       "\n",
       "    .dataframe tbody tr th {\n",
       "        vertical-align: top;\n",
       "    }\n",
       "\n",
       "    .dataframe thead th {\n",
       "        text-align: right;\n",
       "    }\n",
       "</style>\n",
       "<table border=\"1\" class=\"dataframe\">\n",
       "  <thead>\n",
       "    <tr style=\"text-align: right;\">\n",
       "      <th></th>\n",
       "      <th>Text</th>\n",
       "      <th>Reviews</th>\n",
       "    </tr>\n",
       "  </thead>\n",
       "  <tbody>\n",
       "    <tr>\n",
       "      <th>0</th>\n",
       "      <td>I liked the movie.</td>\n",
       "      <td>Positive</td>\n",
       "    </tr>\n",
       "    <tr>\n",
       "      <th>1</th>\n",
       "      <td>It's a good movie. Nice story</td>\n",
       "      <td>Positive</td>\n",
       "    </tr>\n",
       "    <tr>\n",
       "      <th>2</th>\n",
       "      <td>Nice songs. But sadly boring ending.</td>\n",
       "      <td>Negative</td>\n",
       "    </tr>\n",
       "    <tr>\n",
       "      <th>3</th>\n",
       "      <td>Hero's acting is bad but heroine looks good. O...</td>\n",
       "      <td>Positive</td>\n",
       "    </tr>\n",
       "    <tr>\n",
       "      <th>4</th>\n",
       "      <td>Sad boring movie.</td>\n",
       "      <td>Negative</td>\n",
       "    </tr>\n",
       "  </tbody>\n",
       "</table>\n",
       "</div>"
      ],
      "text/plain": [
       "                                                Text   Reviews\n",
       "0                                 I liked the movie.  Positive\n",
       "1                      It's a good movie. Nice story  Positive\n",
       "2               Nice songs. But sadly boring ending.  Negative\n",
       "3  Hero's acting is bad but heroine looks good. O...  Positive\n",
       "4                                  Sad boring movie.  Negative"
      ]
     },
     "execution_count": 129,
     "metadata": {},
     "output_type": "execute_result"
    }
   ],
   "source": [
    "data.head()"
   ]
  },
  {
   "cell_type": "markdown",
   "id": "755e37a6",
   "metadata": {},
   "source": [
    "## Tạo bag of word"
   ]
  },
  {
   "cell_type": "code",
   "execution_count": 130,
   "id": "a810dedb",
   "metadata": {},
   "outputs": [],
   "source": [
    "def createBagOfWord(dataset):\n",
    "    bag = []\n",
    "    for item in dataset:\n",
    "        wordList = item[0].split(' ')\n",
    "        for word in wordList:\n",
    "            word = word.lower()\n",
    "            if word != '' and word not in bag:\n",
    "                bag.append(word)\n",
    "    return bag"
   ]
  },
  {
   "cell_type": "code",
   "execution_count": 131,
   "id": "aef46cc3",
   "metadata": {},
   "outputs": [],
   "source": [
    "b = createBagOfWord(data.values)"
   ]
  },
  {
   "cell_type": "code",
   "execution_count": 132,
   "id": "c5b46426",
   "metadata": {},
   "outputs": [],
   "source": [
    "l = data[\"Reviews\"]"
   ]
  },
  {
   "cell_type": "code",
   "execution_count": 133,
   "id": "bacb6466",
   "metadata": {},
   "outputs": [
    {
     "name": "stdout",
     "output_type": "stream",
     "text": [
      "['i', 'liked', 'the', 'movie.', \"it's\", 'a', 'good', 'nice', 'story', 'songs.', 'but', 'sadly', 'boring', 'ending.', \"hero's\", 'acting', 'is', 'bad', 'heroine', 'looks', 'good.', 'overall', 'sad']\n",
      "0    Positive\n",
      "1    Positive\n",
      "2    Negative\n",
      "3    Positive\n",
      "4    Negative\n",
      "Name: Reviews, dtype: object\n"
     ]
    }
   ],
   "source": [
    "print(b)\n",
    "print(l)"
   ]
  },
  {
   "cell_type": "code",
   "execution_count": 134,
   "id": "4fd11275",
   "metadata": {},
   "outputs": [
    {
     "name": "stdout",
     "output_type": "stream",
     "text": [
      "[['I liked the movie.' 'Positive']\n",
      " [\"It's a good movie. Nice story\" 'Positive']\n",
      " ['Nice songs. But sadly boring ending.' 'Negative']\n",
      " [\"Hero's acting is bad but heroine looks good. Overall nice movie.\"\n",
      "  'Positive']\n",
      " ['Sad boring movie.' 'Negative']]\n"
     ]
    }
   ],
   "source": [
    "print(data.values)"
   ]
  },
  {
   "cell_type": "markdown",
   "id": "23b08a82",
   "metadata": {},
   "source": [
    "## Tạo ma trận thưa"
   ]
  },
  {
   "cell_type": "code",
   "execution_count": 136,
   "id": "36c1211b",
   "metadata": {},
   "outputs": [],
   "source": [
    "def createTraceWord(data):\n",
    "    dataTemp = data\n",
    "    matrix = []\n",
    "    j = 0\n",
    "    for row in dataTemp:\n",
    "        arrayWord = row[0].lower().split(\" \")\n",
    "        for word in arrayWord:\n",
    "            i = 0\n",
    "            while(i < len(b)):\n",
    "                if word == b[i]:\n",
    "                    newRow = [j,i,1]\n",
    "                    matrix.append(newRow)\n",
    "                    break\n",
    "                i += 1\n",
    "        j += 1\n",
    "    return np.array(matrix)"
   ]
  },
  {
   "cell_type": "code",
   "execution_count": 139,
   "id": "de952e6d",
   "metadata": {},
   "outputs": [],
   "source": [
    "def createTraceWordCanCount(data):\n",
    "    dataTemp = data\n",
    "    matrix = []\n",
    "    for i,row in enumerate(dataTemp):\n",
    "        arrayWord = row[0].lower().split(\" \")\n",
    "        for j,wordInBag in  enumerate(b):\n",
    "            count = 0\n",
    "            for wordInSentence in arrayWord:\n",
    "                if wordInSentence == wordInBag:\n",
    "                    count += 1\n",
    "            if(count > 0):\n",
    "                matrix.append([i,j,count])\n",
    "    return np.array(matrix)"
   ]
  },
  {
   "cell_type": "code",
   "execution_count": 140,
   "id": "0f7c8701",
   "metadata": {},
   "outputs": [],
   "source": [
    "matrix_np = createTraceWordCanCount(data.values)\n",
    "nwords = len(b)\n",
    "nsentences = 5\n",
    "rows = matrix_np[:,0] \n",
    "cols = matrix_np[:,1]\n",
    "datas = matrix_np[:,2]\n",
    "coo_data = coo_matrix((datas, (rows, cols)), shape=(nsentences, nwords)).toarray()"
   ]
  },
  {
   "cell_type": "code",
   "execution_count": 141,
   "id": "cb58a831",
   "metadata": {},
   "outputs": [
    {
     "name": "stdout",
     "output_type": "stream",
     "text": [
      "[[1 1 1 1 0 0 0 0 0 0 0 0 0 0 0 0 0 0 0 0 0 0 0]\n",
      " [0 0 0 1 1 1 1 1 1 0 0 0 0 0 0 0 0 0 0 0 0 0 0]\n",
      " [0 0 0 0 0 0 0 1 0 1 1 1 1 1 0 0 0 0 0 0 0 0 0]\n",
      " [0 0 0 1 0 0 0 1 0 0 1 0 0 0 1 1 1 1 1 1 1 1 0]\n",
      " [0 0 0 1 0 0 0 0 0 0 0 0 1 0 0 0 0 0 0 0 0 0 1]]\n"
     ]
    }
   ],
   "source": [
    "print(coo_data)"
   ]
  },
  {
   "cell_type": "markdown",
   "id": "5c8973d6",
   "metadata": {},
   "source": [
    "## Train - Test"
   ]
  },
  {
   "cell_type": "code",
   "execution_count": 142,
   "id": "c3db980b",
   "metadata": {},
   "outputs": [],
   "source": [
    "train_feature, test_feature, train_label, test_label = train_test_split(coo_data, l, test_size = 0.05, random_state=1)"
   ]
  },
  {
   "cell_type": "code",
   "execution_count": 143,
   "id": "fe4b299c",
   "metadata": {},
   "outputs": [
    {
     "data": {
      "text/plain": [
       "MultinomialNB()"
      ]
     },
     "execution_count": 143,
     "metadata": {},
     "output_type": "execute_result"
    }
   ],
   "source": [
    "MNB = MultinomialNB()\n",
    "MNB.fit(train_feature, train_label)"
   ]
  },
  {
   "cell_type": "code",
   "execution_count": 144,
   "id": "efeadd64",
   "metadata": {},
   "outputs": [
    {
     "name": "stdout",
     "output_type": "stream",
     "text": [
      "2    Negative\n",
      "Name: Reviews, dtype: object\n",
      "['Negative']\n"
     ]
    }
   ],
   "source": [
    "predict_label = MNB.predict(test_feature)\n",
    "print(test_label)\n",
    "print(predict_label)"
   ]
  },
  {
   "cell_type": "markdown",
   "id": "26aa6a93",
   "metadata": {},
   "source": [
    "# Bài 3"
   ]
  },
  {
   "cell_type": "markdown",
   "id": "45711a88",
   "metadata": {},
   "source": [
    "## Load data"
   ]
  },
  {
   "cell_type": "code",
   "execution_count": 162,
   "id": "204a3ea6",
   "metadata": {},
   "outputs": [],
   "source": [
    "data2 = pd.read_csv(\"https://raw.githubusercontent.com/DangCao1999/ML-Study/master/BaiHoc/Naive%20Bayes/MovieMoreData.csv\",sep=\";\")"
   ]
  },
  {
   "cell_type": "code",
   "execution_count": 163,
   "id": "7bb430ae",
   "metadata": {},
   "outputs": [
    {
     "data": {
      "text/html": [
       "<div>\n",
       "<style scoped>\n",
       "    .dataframe tbody tr th:only-of-type {\n",
       "        vertical-align: middle;\n",
       "    }\n",
       "\n",
       "    .dataframe tbody tr th {\n",
       "        vertical-align: top;\n",
       "    }\n",
       "\n",
       "    .dataframe thead th {\n",
       "        text-align: right;\n",
       "    }\n",
       "</style>\n",
       "<table border=\"1\" class=\"dataframe\">\n",
       "  <thead>\n",
       "    <tr style=\"text-align: right;\">\n",
       "      <th></th>\n",
       "      <th>Text</th>\n",
       "      <th>Reviews</th>\n",
       "    </tr>\n",
       "  </thead>\n",
       "  <tbody>\n",
       "    <tr>\n",
       "      <th>0</th>\n",
       "      <td>I liked the movie.</td>\n",
       "      <td>Positive</td>\n",
       "    </tr>\n",
       "    <tr>\n",
       "      <th>1</th>\n",
       "      <td>It's a good movie. Nice story</td>\n",
       "      <td>Positive</td>\n",
       "    </tr>\n",
       "    <tr>\n",
       "      <th>2</th>\n",
       "      <td>Nice songs. But sadly boring ending.</td>\n",
       "      <td>Negative</td>\n",
       "    </tr>\n",
       "    <tr>\n",
       "      <th>3</th>\n",
       "      <td>Hero's acting is bad but heroine looks good. O...</td>\n",
       "      <td>Positive</td>\n",
       "    </tr>\n",
       "    <tr>\n",
       "      <th>4</th>\n",
       "      <td>Sad boring movie.</td>\n",
       "      <td>Negative</td>\n",
       "    </tr>\n",
       "    <tr>\n",
       "      <th>5</th>\n",
       "      <td>This movie brings a fantastic scene ever.</td>\n",
       "      <td>Positive</td>\n",
       "    </tr>\n",
       "    <tr>\n",
       "      <th>6</th>\n",
       "      <td>I really enjoy the very high-qualified soundtr...</td>\n",
       "      <td>Positive</td>\n",
       "    </tr>\n",
       "    <tr>\n",
       "      <th>7</th>\n",
       "      <td>I don't understand the plot of the movie.</td>\n",
       "      <td>Negative</td>\n",
       "    </tr>\n",
       "    <tr>\n",
       "      <th>8</th>\n",
       "      <td>The movie has some unsuitable scene such as to...</td>\n",
       "      <td>Negative</td>\n",
       "    </tr>\n",
       "    <tr>\n",
       "      <th>9</th>\n",
       "      <td>There are some unacceptable subtitles.</td>\n",
       "      <td>Negative</td>\n",
       "    </tr>\n",
       "    <tr>\n",
       "      <th>10</th>\n",
       "      <td>I'm fancy with a brilliant scene in this movie.</td>\n",
       "      <td>Positive</td>\n",
       "    </tr>\n",
       "    <tr>\n",
       "      <th>11</th>\n",
       "      <td>The character is so nice. I love it.</td>\n",
       "      <td>Positive</td>\n",
       "    </tr>\n",
       "    <tr>\n",
       "      <th>12</th>\n",
       "      <td>Wow cool movie ever.</td>\n",
       "      <td>Positive</td>\n",
       "    </tr>\n",
       "    <tr>\n",
       "      <th>13</th>\n",
       "      <td>It's a must try experience.</td>\n",
       "      <td>Positive</td>\n",
       "    </tr>\n",
       "    <tr>\n",
       "      <th>14</th>\n",
       "      <td>Terrific.</td>\n",
       "      <td>Positive</td>\n",
       "    </tr>\n",
       "  </tbody>\n",
       "</table>\n",
       "</div>"
      ],
      "text/plain": [
       "                                                 Text   Reviews\n",
       "0                                  I liked the movie.  Positive\n",
       "1                       It's a good movie. Nice story  Positive\n",
       "2                Nice songs. But sadly boring ending.  Negative\n",
       "3   Hero's acting is bad but heroine looks good. O...  Positive\n",
       "4                                   Sad boring movie.  Negative\n",
       "5           This movie brings a fantastic scene ever.  Positive\n",
       "6   I really enjoy the very high-qualified soundtr...  Positive\n",
       "7          I don't understand the plot of the movie.   Negative\n",
       "8   The movie has some unsuitable scene such as to...  Negative\n",
       "9              There are some unacceptable subtitles.  Negative\n",
       "10    I'm fancy with a brilliant scene in this movie.  Positive\n",
       "11               The character is so nice. I love it.  Positive\n",
       "12                               Wow cool movie ever.  Positive\n",
       "13                        It's a must try experience.  Positive\n",
       "14                                          Terrific.  Positive"
      ]
     },
     "execution_count": 163,
     "metadata": {},
     "output_type": "execute_result"
    }
   ],
   "source": [
    "data2.head(20)"
   ]
  },
  {
   "cell_type": "markdown",
   "id": "e7788beb",
   "metadata": {},
   "source": [
    "## Tạo bag of word"
   ]
  },
  {
   "cell_type": "code",
   "execution_count": 164,
   "id": "6c072be2",
   "metadata": {},
   "outputs": [],
   "source": [
    "b2 = createBagOfWord(data2.values)"
   ]
  },
  {
   "cell_type": "code",
   "execution_count": 165,
   "id": "9cc5b38a",
   "metadata": {},
   "outputs": [],
   "source": [
    "l2 = data2[\"Reviews\"]"
   ]
  },
  {
   "cell_type": "markdown",
   "id": "f1793b82",
   "metadata": {},
   "source": [
    "## Tạo ma trận thưa"
   ]
  },
  {
   "cell_type": "code",
   "execution_count": 169,
   "id": "e1c1b14a",
   "metadata": {},
   "outputs": [],
   "source": [
    "matrix_np2 = createTraceWordCanCount(data2.values)\n",
    "nwords2 = len(b2)\n",
    "nsentences2 = data2.shape[0]\n",
    "rows2 = matrix_np2[:,0] \n",
    "cols2 = matrix_np2[:,1]\n",
    "datas2 = matrix_np2[:,2]\n",
    "coo_data2 = coo_matrix((datas2, (rows2, cols2)), shape=(nsentences2, nwords2)).toarray()"
   ]
  },
  {
   "cell_type": "code",
   "execution_count": 170,
   "id": "275aa980",
   "metadata": {},
   "outputs": [
    {
     "name": "stdout",
     "output_type": "stream",
     "text": [
      "0     Positive\n",
      "1     Positive\n",
      "2     Negative\n",
      "3     Positive\n",
      "4     Negative\n",
      "5     Positive\n",
      "6     Positive\n",
      "7     Negative\n",
      "8     Negative\n",
      "9     Negative\n",
      "10    Positive\n",
      "11    Positive\n",
      "12    Positive\n",
      "13    Positive\n",
      "14    Positive\n",
      "Name: Reviews, dtype: object\n"
     ]
    }
   ],
   "source": [
    "print(l2)"
   ]
  },
  {
   "cell_type": "markdown",
   "id": "6efa29d1",
   "metadata": {},
   "source": [
    "## Train - test"
   ]
  },
  {
   "cell_type": "code",
   "execution_count": 172,
   "id": "cb730c9c",
   "metadata": {},
   "outputs": [],
   "source": [
    "train_feature2, test_feature2, train_label2, test_label2 = train_test_split(coo_data2, l2, test_size = 0.1, random_state=123)"
   ]
  },
  {
   "cell_type": "code",
   "execution_count": 173,
   "id": "400fe4cb",
   "metadata": {},
   "outputs": [
    {
     "data": {
      "text/plain": [
       "MultinomialNB()"
      ]
     },
     "execution_count": 173,
     "metadata": {},
     "output_type": "execute_result"
    }
   ],
   "source": [
    "MNB2 = MultinomialNB()\n",
    "MNB2.fit(train_feature2, train_label2)"
   ]
  },
  {
   "cell_type": "code",
   "execution_count": 190,
   "id": "67e1467b",
   "metadata": {},
   "outputs": [
    {
     "name": "stdout",
     "output_type": "stream",
     "text": [
      "(13, 66)\n",
      "(2, 66)\n",
      "[1 0 2 1 0 0 0 0 0 0 0 0 0 0 0 0 0 0 0 0 0 0 0 0 0 0 0 0 0 0 0 0 0 0 0 0 0\n",
      " 0 0 0 0 0 0 0 0 0 0 0 0 0 0 0 0 0 0 0 0 0 0 0 0 0 0 0 0 0]\n",
      "7     Negative\n",
      "10    Positive\n",
      "Name: Reviews, dtype: object\n"
     ]
    }
   ],
   "source": [
    "print(train_feature2.shape)\n",
    "print(test_feature2.shape)\n",
    "print(test_feature2[0])\n",
    "print(test_label2)"
   ]
  },
  {
   "cell_type": "code",
   "execution_count": 192,
   "id": "b8119a1e",
   "metadata": {},
   "outputs": [
    {
     "name": "stdout",
     "output_type": "stream",
     "text": [
      "[[0.03279635 0.96720365]]\n",
      "predicting class:,  ['Positive']\n",
      "true class:,  Negative\n"
     ]
    }
   ],
   "source": [
    "print(MNB2.predict_proba([test_feature2[0]]))\n",
    "print('predicting class: ', str(MNB2.predict([test_feature2[0]])))\n",
    "print('true class: ', test_label2.iloc[0])"
   ]
  },
  {
   "cell_type": "code",
   "execution_count": null,
   "id": "7ee3cf26",
   "metadata": {},
   "outputs": [],
   "source": []
  }
 ],
 "metadata": {
  "kernelspec": {
   "display_name": "Python 3 (ipykernel)",
   "language": "python",
   "name": "python3"
  },
  "language_info": {
   "codemirror_mode": {
    "name": "ipython",
    "version": 3
   },
   "file_extension": ".py",
   "mimetype": "text/x-python",
   "name": "python",
   "nbconvert_exporter": "python",
   "pygments_lexer": "ipython3",
   "version": "3.9.6"
  }
 },
 "nbformat": 4,
 "nbformat_minor": 5
}
