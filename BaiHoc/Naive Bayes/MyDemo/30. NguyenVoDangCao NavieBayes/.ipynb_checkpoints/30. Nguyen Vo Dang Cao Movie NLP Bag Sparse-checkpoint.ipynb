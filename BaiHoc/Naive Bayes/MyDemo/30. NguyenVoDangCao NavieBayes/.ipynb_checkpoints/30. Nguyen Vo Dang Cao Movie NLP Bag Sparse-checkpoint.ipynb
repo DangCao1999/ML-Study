{
 "cells": [
  {
   "cell_type": "code",
   "execution_count": 1,
   "id": "ed508864",
   "metadata": {},
   "outputs": [],
   "source": [
    "import numpy as np\n",
    "import pandas as pd\n",
    "from scipy.sparse import coo_matrix\n",
    "from sklearn.naive_bayes import MultinomialNB, BernoulliNB\n",
    "from sklearn.metrics import accuracy_score\n",
    "from sklearn.model_selection import train_test_split"
   ]
  },
  {
   "cell_type": "markdown",
   "id": "17427a52",
   "metadata": {},
   "source": [
    "# Câu 2"
   ]
  },
  {
   "cell_type": "code",
   "execution_count": 38,
   "id": "c91841a7",
   "metadata": {},
   "outputs": [],
   "source": [
    "data = pd.read_csv(\"https://raw.githubusercontent.com/DangCao1999/ML-Study/master/BaiHoc/Naive%20Bayes/Movie.csv\",sep=\";\")"
   ]
  },
  {
   "cell_type": "code",
   "execution_count": 39,
   "id": "fdcfef58",
   "metadata": {},
   "outputs": [
    {
     "data": {
      "text/html": [
       "<div>\n",
       "<style scoped>\n",
       "    .dataframe tbody tr th:only-of-type {\n",
       "        vertical-align: middle;\n",
       "    }\n",
       "\n",
       "    .dataframe tbody tr th {\n",
       "        vertical-align: top;\n",
       "    }\n",
       "\n",
       "    .dataframe thead th {\n",
       "        text-align: right;\n",
       "    }\n",
       "</style>\n",
       "<table border=\"1\" class=\"dataframe\">\n",
       "  <thead>\n",
       "    <tr style=\"text-align: right;\">\n",
       "      <th></th>\n",
       "      <th>Text</th>\n",
       "      <th>Reviews</th>\n",
       "    </tr>\n",
       "  </thead>\n",
       "  <tbody>\n",
       "    <tr>\n",
       "      <th>0</th>\n",
       "      <td>I liked the movie.</td>\n",
       "      <td>Positive</td>\n",
       "    </tr>\n",
       "    <tr>\n",
       "      <th>1</th>\n",
       "      <td>It's a good movie. Nice story</td>\n",
       "      <td>Positive</td>\n",
       "    </tr>\n",
       "    <tr>\n",
       "      <th>2</th>\n",
       "      <td>Nice songs. But sadly boring ending.</td>\n",
       "      <td>Negative</td>\n",
       "    </tr>\n",
       "    <tr>\n",
       "      <th>3</th>\n",
       "      <td>Hero's acting is bad but heroine looks good. O...</td>\n",
       "      <td>Positive</td>\n",
       "    </tr>\n",
       "    <tr>\n",
       "      <th>4</th>\n",
       "      <td>Sad boring movie.</td>\n",
       "      <td>Negative</td>\n",
       "    </tr>\n",
       "  </tbody>\n",
       "</table>\n",
       "</div>"
      ],
      "text/plain": [
       "                                                Text   Reviews\n",
       "0                                 I liked the movie.  Positive\n",
       "1                      It's a good movie. Nice story  Positive\n",
       "2               Nice songs. But sadly boring ending.  Negative\n",
       "3  Hero's acting is bad but heroine looks good. O...  Positive\n",
       "4                                  Sad boring movie.  Negative"
      ]
     },
     "execution_count": 39,
     "metadata": {},
     "output_type": "execute_result"
    }
   ],
   "source": [
    "data.head()"
   ]
  },
  {
   "cell_type": "code",
   "execution_count": 40,
   "id": "a810dedb",
   "metadata": {},
   "outputs": [],
   "source": [
    "def createBagOfWord(dataset):\n",
    "    bag = []\n",
    "    for item in dataset:\n",
    "        wordList = item[0].split(' ')\n",
    "        for word in wordList:\n",
    "            word = word.lower()\n",
    "            if word != '' and word not in bag:\n",
    "                bag.append(word)\n",
    "    return bag"
   ]
  },
  {
   "cell_type": "code",
   "execution_count": 41,
   "id": "aef46cc3",
   "metadata": {},
   "outputs": [],
   "source": [
    "b = createBagOfWord(data.values)"
   ]
  },
  {
   "cell_type": "code",
   "execution_count": 42,
   "id": "c5b46426",
   "metadata": {},
   "outputs": [],
   "source": [
    "l = data[\"Reviews\"]"
   ]
  },
  {
   "cell_type": "code",
   "execution_count": 46,
   "id": "bacb6466",
   "metadata": {},
   "outputs": [
    {
     "name": "stdout",
     "output_type": "stream",
     "text": [
      "['i', 'liked', 'the', 'movie.', \"it's\", 'a', 'good', 'nice', 'story', 'songs.', 'but', 'sadly', 'boring', 'ending.', \"hero's\", 'acting', 'is', 'bad', 'heroine', 'looks', 'good.', 'overall', 'sad']\n",
      "0    Positive\n",
      "1    Positive\n",
      "2    Negative\n",
      "3    Positive\n",
      "4    Negative\n",
      "Name: Reviews, dtype: object\n"
     ]
    }
   ],
   "source": [
    "print(b)\n",
    "print(l)"
   ]
  },
  {
   "cell_type": "code",
   "execution_count": 44,
   "id": "4fd11275",
   "metadata": {},
   "outputs": [
    {
     "name": "stdout",
     "output_type": "stream",
     "text": [
      "[['I liked the movie.' 'Positive']\n",
      " [\"It's a good movie. Nice story\" 'Positive']\n",
      " ['Nice songs. But sadly boring ending.' 'Negative']\n",
      " [\"Hero's acting is bad but heroine looks good. Overall nice movie.\"\n",
      "  'Positive']\n",
      " ['Sad boring movie.' 'Negative']]\n"
     ]
    }
   ],
   "source": [
    "print(data.values)"
   ]
  },
  {
   "cell_type": "code",
   "execution_count": 45,
   "id": "36c1211b",
   "metadata": {},
   "outputs": [
    {
     "name": "stdout",
     "output_type": "stream",
     "text": [
      "[[0, 0, 1], [0, 1, 1], [0, 2, 1], [0, 3, 1], [1, 4, 1], [1, 5, 1], [1, 6, 1], [1, 3, 1], [1, 7, 1], [1, 8, 1], [2, 7, 1], [2, 9, 1], [2, 10, 1], [2, 11, 1], [2, 12, 1], [2, 13, 1], [3, 14, 1], [3, 15, 1], [3, 16, 1], [3, 17, 1], [3, 10, 1], [3, 18, 1], [3, 19, 1], [3, 20, 1], [3, 21, 1], [3, 7, 1], [3, 3, 1], [4, 22, 1], [4, 12, 1], [4, 3, 1]]\n"
     ]
    }
   ],
   "source": [
    "matrix = []\n",
    "dataTemp = data.values\n",
    "j = 0\n",
    "for row in dataTemp:\n",
    "    arrayWord = row[0].lower().split(\" \")\n",
    "    for word in arrayWord:\n",
    "        i = 0\n",
    "        while(i < len(b)):\n",
    "            if word == b[i]:\n",
    "                newRow = [j,i,1]\n",
    "                matrix.append(newRow)\n",
    "                break\n",
    "            i += 1\n",
    "    j += 1\n",
    "print(matrix)"
   ]
  },
  {
   "cell_type": "code",
   "execution_count": 34,
   "id": "0f7c8701",
   "metadata": {},
   "outputs": [],
   "source": [
    "matrix_np = np.array(matrix)\n",
    "nwords = 24\n",
    "nsentences = 5\n",
    "rows = matrix_np[:,0] \n",
    "cols = matrix_np[:,1]\n",
    "data = matrix_np[:,2]\n",
    "coo_data = coo_matrix((data, (rows, cols)), shape=(nsentences, nwords)).toarray()"
   ]
  },
  {
   "cell_type": "code",
   "execution_count": 35,
   "id": "cb58a831",
   "metadata": {},
   "outputs": [
    {
     "name": "stdout",
     "output_type": "stream",
     "text": [
      "[[1 1 1 1 0 0 0 0 0 0 0 0 0 0 0 0 0 0 0 0 0 0 0 0]\n",
      " [0 0 0 1 1 1 1 1 1 0 0 0 0 0 0 0 0 0 0 0 0 0 0 0]\n",
      " [0 0 0 0 0 0 0 1 0 1 1 1 1 1 0 0 0 0 0 0 0 0 0 0]\n",
      " [0 0 0 1 0 0 0 1 0 0 1 0 0 0 1 1 1 1 1 1 1 1 0 0]\n",
      " [0 0 0 1 0 0 0 0 0 0 0 0 1 0 0 0 0 0 0 0 0 0 1 0]]\n"
     ]
    }
   ],
   "source": [
    "print(coo_data)"
   ]
  },
  {
   "cell_type": "code",
   "execution_count": null,
   "id": "c3db980b",
   "metadata": {},
   "outputs": [],
   "source": [
    "train_feature, test_feature, train_label, test_label = train_test_split(coo_data, labelFilterd, test_size = 0.3, random_state=1)"
   ]
  },
  {
   "cell_type": "code",
   "execution_count": null,
   "id": "ab31862d",
   "metadata": {},
   "outputs": [],
   "source": [
    "MNB = MultinomialNB()\n",
    "MNB.fit(train_feature, train_label)"
   ]
  }
 ],
 "metadata": {
  "kernelspec": {
   "display_name": "Python 3 (ipykernel)",
   "language": "python",
   "name": "python3"
  },
  "language_info": {
   "codemirror_mode": {
    "name": "ipython",
    "version": 3
   },
   "file_extension": ".py",
   "mimetype": "text/x-python",
   "name": "python",
   "nbconvert_exporter": "python",
   "pygments_lexer": "ipython3",
   "version": "3.9.6"
  }
 },
 "nbformat": 4,
 "nbformat_minor": 5
}
