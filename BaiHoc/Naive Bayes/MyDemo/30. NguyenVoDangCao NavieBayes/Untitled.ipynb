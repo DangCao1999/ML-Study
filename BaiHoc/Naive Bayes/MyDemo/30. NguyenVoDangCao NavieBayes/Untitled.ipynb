{
 "cells": [
  {
   "cell_type": "code",
   "execution_count": null,
   "id": "2c44d002",
   "metadata": {},
   "outputs": [],
   "source": [
    "data = [\n",
    "    []\n",
    "]"
   ]
  },
  {
   "cell_type": "code",
   "execution_count": 1,
   "id": "7c4d45e6",
   "metadata": {},
   "outputs": [],
   "source": [
    "def createBagOfWord(dataset):\n",
    "  bag = []\n",
    "  labels = []\n",
    "  for item in dataset:\n",
    "    labels.append(item['category'])\n",
    "    wordList = item['short_description'].split(' ')\n",
    "    for word in wordList:\n",
    "      word = word.lower()\n",
    "      if word != '' and word not in bag:\n",
    "        bag.append(word)\n",
    "  return bag, labels"
   ]
  }
 ],
 "metadata": {
  "kernelspec": {
   "display_name": "Python 3 (ipykernel)",
   "language": "python",
   "name": "python3"
  },
  "language_info": {
   "codemirror_mode": {
    "name": "ipython",
    "version": 3
   },
   "file_extension": ".py",
   "mimetype": "text/x-python",
   "name": "python",
   "nbconvert_exporter": "python",
   "pygments_lexer": "ipython3",
   "version": "3.9.6"
  }
 },
 "nbformat": 4,
 "nbformat_minor": 5
}
