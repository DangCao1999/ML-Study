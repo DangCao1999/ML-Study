{
 "cells": [
  {
   "cell_type": "code",
   "execution_count": 2,
   "id": "88bc84a3",
   "metadata": {},
   "outputs": [],
   "source": [
    "import numpy as np\n",
    "import pandas as pd\n",
    "from scipy.sparse import coo_matrix\n",
    "from sklearn.naive_bayes import MultinomialNB, BernoulliNB\n",
    "from sklearn.metrics import accuracy_score\n",
    "from sklearn.model_selection import train_test_split\n",
    "import collection"
   ]
  },
  {
   "cell_type": "code",
   "execution_count": 33,
   "id": "d834b0c7",
   "metadata": {},
   "outputs": [],
   "source": [
    "data = pd.read_csv(\"https://raw.githubusercontent.com/DangCao1999/ML-Study/master/BaiHoc/Naive%20Bayes/Movie.csv\",sep=\";\")"
   ]
  },
  {
   "cell_type": "code",
   "execution_count": 34,
   "id": "c403cee3",
   "metadata": {},
   "outputs": [
    {
     "data": {
      "text/html": [
       "<div>\n",
       "<style scoped>\n",
       "    .dataframe tbody tr th:only-of-type {\n",
       "        vertical-align: middle;\n",
       "    }\n",
       "\n",
       "    .dataframe tbody tr th {\n",
       "        vertical-align: top;\n",
       "    }\n",
       "\n",
       "    .dataframe thead th {\n",
       "        text-align: right;\n",
       "    }\n",
       "</style>\n",
       "<table border=\"1\" class=\"dataframe\">\n",
       "  <thead>\n",
       "    <tr style=\"text-align: right;\">\n",
       "      <th></th>\n",
       "      <th>Text</th>\n",
       "      <th>Reviews</th>\n",
       "    </tr>\n",
       "  </thead>\n",
       "  <tbody>\n",
       "    <tr>\n",
       "      <th>0</th>\n",
       "      <td>I liked the movie</td>\n",
       "      <td>Positive</td>\n",
       "    </tr>\n",
       "    <tr>\n",
       "      <th>1</th>\n",
       "      <td>It's a good movie. Nice story</td>\n",
       "      <td>Positive</td>\n",
       "    </tr>\n",
       "    <tr>\n",
       "      <th>2</th>\n",
       "      <td>Nice songs. But sadly boring ending.</td>\n",
       "      <td>Negative</td>\n",
       "    </tr>\n",
       "    <tr>\n",
       "      <th>3</th>\n",
       "      <td>Hero's acting is bad but heroine looks good. O...</td>\n",
       "      <td>Positive</td>\n",
       "    </tr>\n",
       "    <tr>\n",
       "      <th>4</th>\n",
       "      <td>Sad, boring movie</td>\n",
       "      <td>Negative</td>\n",
       "    </tr>\n",
       "  </tbody>\n",
       "</table>\n",
       "</div>"
      ],
      "text/plain": [
       "                                                Text   Reviews\n",
       "0                                  I liked the movie  Positive\n",
       "1                      It's a good movie. Nice story  Positive\n",
       "2               Nice songs. But sadly boring ending.  Negative\n",
       "3  Hero's acting is bad but heroine looks good. O...  Positive\n",
       "4                                  Sad, boring movie  Negative"
      ]
     },
     "execution_count": 34,
     "metadata": {},
     "output_type": "execute_result"
    }
   ],
   "source": [
    "data.head()"
   ]
  },
  {
   "cell_type": "code",
   "execution_count": 35,
   "id": "b079b079",
   "metadata": {},
   "outputs": [],
   "source": [
    "def createBagOfWord(dataset):\n",
    "    bag = []\n",
    "    for item in dataset:\n",
    "        wordList = item[0].split(' ')\n",
    "        for word in wordList:\n",
    "            word = word.lower()\n",
    "            if word != '' and word not in bag:\n",
    "                bag.append(word)\n",
    "    return bag"
   ]
  },
  {
   "cell_type": "code",
   "execution_count": 36,
   "id": "3dc9740c",
   "metadata": {},
   "outputs": [],
   "source": [
    "b = createBagOfWord(data.values)"
   ]
  },
  {
   "cell_type": "code",
   "execution_count": 37,
   "id": "b5eb5c80",
   "metadata": {},
   "outputs": [],
   "source": [
    "l = data[\"Reviews\"]"
   ]
  },
  {
   "cell_type": "code",
   "execution_count": 38,
   "id": "b942791e",
   "metadata": {},
   "outputs": [
    {
     "name": "stdout",
     "output_type": "stream",
     "text": [
      "['i', 'liked', 'the', 'movie', \"it's\", 'a', 'good', 'movie.', 'nice', 'story', 'songs.', 'but', 'sadly', 'boring', 'ending.', \"hero's\", 'acting', 'is', 'bad', 'heroine', 'looks', 'good.', 'overall', 'sad,']\n",
      "0    Positive\n",
      "1    Positive\n",
      "2    Negative\n",
      "3    Positive\n",
      "4    Negative\n",
      "Name: Reviews, dtype: object\n"
     ]
    }
   ],
   "source": [
    "print(b)\n",
    "print(l)"
   ]
  },
  {
   "cell_type": "code",
   "execution_count": 39,
   "id": "ed83ba87",
   "metadata": {},
   "outputs": [
    {
     "name": "stdout",
     "output_type": "stream",
     "text": [
      "[['I liked the movie' 'Positive']\n",
      " [\"It's a good movie. Nice story\" 'Positive']\n",
      " ['Nice songs. But sadly boring ending.' 'Negative']\n",
      " [\"Hero's acting is bad but heroine looks good. Overall nice movie\"\n",
      "  'Positive']\n",
      " ['Sad, boring movie' 'Negative']]\n"
     ]
    }
   ],
   "source": [
    "print(data.values)"
   ]
  },
  {
   "cell_type": "code",
   "execution_count": 43,
   "id": "bfaa0145",
   "metadata": {},
   "outputs": [
    {
     "name": "stdout",
     "output_type": "stream",
     "text": [
      "['i', 'liked', 'the', 'movie']\n",
      "[\"it's\", 'a', 'good', 'movie.', 'nice', 'story']\n",
      "['nice', 'songs.', 'but', 'sadly', 'boring', 'ending.']\n",
      "[\"hero's\", 'acting', 'is', 'bad', 'but', 'heroine', 'looks', 'good.', 'overall', 'nice', 'movie']\n",
      "['sad,', 'boring', 'movie']\n"
     ]
    }
   ],
   "source": [
    "matrix = []\n",
    "dataTemp = data.values\n",
    "for row in dataTemp:\n",
    "    arrayWord = row[0].lower().split(\" \")\n",
    "    newRow = []\n",
    "    i = 0\n",
    "    #print(arrayWord)\n",
    "    while( i < len(b)):\n",
    "        if b[i] == \n",
    "        "
   ]
  },
  {
   "cell_type": "code",
   "execution_count": null,
   "id": "4184a7c4",
   "metadata": {},
   "outputs": [],
   "source": [
    "collections.Count"
   ]
  }
 ],
 "metadata": {
  "kernelspec": {
   "display_name": "Python 3 (ipykernel)",
   "language": "python",
   "name": "python3"
  },
  "language_info": {
   "codemirror_mode": {
    "name": "ipython",
    "version": 3
   },
   "file_extension": ".py",
   "mimetype": "text/x-python",
   "name": "python",
   "nbconvert_exporter": "python",
   "pygments_lexer": "ipython3",
   "version": "3.9.6"
  }
 },
 "nbformat": 4,
 "nbformat_minor": 5
}
