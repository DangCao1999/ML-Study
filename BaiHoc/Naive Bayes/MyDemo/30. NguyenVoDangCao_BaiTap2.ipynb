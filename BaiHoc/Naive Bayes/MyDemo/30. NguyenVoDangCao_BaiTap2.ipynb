{
 "cells": [
  {
   "cell_type": "code",
   "execution_count": 1,
   "id": "2a2a6ffc",
   "metadata": {},
   "outputs": [],
   "source": [
    "import numpy as np\n",
    "import pandas as pd\n",
    "from scipy.sparse import coo_matrix\n",
    "from sklearn.naive_bayes import MultinomialNB, BernoulliNB\n",
    "from sklearn.metrics import accuracy_score\n",
    "from sklearn.model_selection import train_test_split"
   ]
  },
  {
   "cell_type": "markdown",
   "id": "45e742d6",
   "metadata": {},
   "source": [
    "# Loading data"
   ]
  },
  {
   "cell_type": "code",
   "execution_count": 2,
   "id": "a249e350",
   "metadata": {
    "scrolled": true
   },
   "outputs": [
    {
     "data": {
      "text/html": [
       "<div>\n",
       "<style scoped>\n",
       "    .dataframe tbody tr th:only-of-type {\n",
       "        vertical-align: middle;\n",
       "    }\n",
       "\n",
       "    .dataframe tbody tr th {\n",
       "        vertical-align: top;\n",
       "    }\n",
       "\n",
       "    .dataframe thead th {\n",
       "        text-align: right;\n",
       "    }\n",
       "</style>\n",
       "<table border=\"1\" class=\"dataframe\">\n",
       "  <thead>\n",
       "    <tr style=\"text-align: right;\">\n",
       "      <th></th>\n",
       "      <th>0</th>\n",
       "      <th>1</th>\n",
       "      <th>2</th>\n",
       "    </tr>\n",
       "  </thead>\n",
       "  <tbody>\n",
       "    <tr>\n",
       "      <th>0</th>\n",
       "      <td>1</td>\n",
       "      <td>19</td>\n",
       "      <td>2</td>\n",
       "    </tr>\n",
       "    <tr>\n",
       "      <th>1</th>\n",
       "      <td>1</td>\n",
       "      <td>45</td>\n",
       "      <td>1</td>\n",
       "    </tr>\n",
       "    <tr>\n",
       "      <th>2</th>\n",
       "      <td>1</td>\n",
       "      <td>50</td>\n",
       "      <td>1</td>\n",
       "    </tr>\n",
       "    <tr>\n",
       "      <th>3</th>\n",
       "      <td>1</td>\n",
       "      <td>75</td>\n",
       "      <td>1</td>\n",
       "    </tr>\n",
       "    <tr>\n",
       "      <th>4</th>\n",
       "      <td>1</td>\n",
       "      <td>85</td>\n",
       "      <td>1</td>\n",
       "    </tr>\n",
       "  </tbody>\n",
       "</table>\n",
       "</div>"
      ],
      "text/plain": [
       "   0   1  2\n",
       "0  1  19  2\n",
       "1  1  45  1\n",
       "2  1  50  1\n",
       "3  1  75  1\n",
       "4  1  85  1"
      ]
     },
     "execution_count": 2,
     "metadata": {},
     "output_type": "execute_result"
    }
   ],
   "source": [
    "data_700_email = []\n",
    "data_700_email = pd.read_csv(\"https://raw.githubusercontent.com/DangCao1999/ML-Study/master/BaiHoc/Naive%20Bayes/Spam%20email%20data/train-features-700.txt\",  sep=\" \", header=None)\n",
    "data_700_email.head()"
   ]
  },
  {
   "cell_type": "code",
   "execution_count": 3,
   "id": "556e4744",
   "metadata": {},
   "outputs": [
    {
     "data": {
      "text/html": [
       "<div>\n",
       "<style scoped>\n",
       "    .dataframe tbody tr th:only-of-type {\n",
       "        vertical-align: middle;\n",
       "    }\n",
       "\n",
       "    .dataframe tbody tr th {\n",
       "        vertical-align: top;\n",
       "    }\n",
       "\n",
       "    .dataframe thead th {\n",
       "        text-align: right;\n",
       "    }\n",
       "</style>\n",
       "<table border=\"1\" class=\"dataframe\">\n",
       "  <thead>\n",
       "    <tr style=\"text-align: right;\">\n",
       "      <th></th>\n",
       "      <th>0</th>\n",
       "    </tr>\n",
       "  </thead>\n",
       "  <tbody>\n",
       "    <tr>\n",
       "      <th>0</th>\n",
       "      <td>0</td>\n",
       "    </tr>\n",
       "    <tr>\n",
       "      <th>1</th>\n",
       "      <td>0</td>\n",
       "    </tr>\n",
       "    <tr>\n",
       "      <th>2</th>\n",
       "      <td>0</td>\n",
       "    </tr>\n",
       "    <tr>\n",
       "      <th>3</th>\n",
       "      <td>0</td>\n",
       "    </tr>\n",
       "    <tr>\n",
       "      <th>4</th>\n",
       "      <td>0</td>\n",
       "    </tr>\n",
       "  </tbody>\n",
       "</table>\n",
       "</div>"
      ],
      "text/plain": [
       "   0\n",
       "0  0\n",
       "1  0\n",
       "2  0\n",
       "3  0\n",
       "4  0"
      ]
     },
     "execution_count": 3,
     "metadata": {},
     "output_type": "execute_result"
    }
   ],
   "source": [
    "label_700_email = []\n",
    "label_700_email = pd.read_csv(\"https://raw.githubusercontent.com/DangCao1999/ML-Study/master/BaiHoc/Naive%20Bayes/Spam%20email%20data/train-labels-700.txt\",  sep=\" \", header=None)\n",
    "label_700_email.head()"
   ]
  },
  {
   "cell_type": "markdown",
   "id": "5dde1d67",
   "metadata": {},
   "source": [
    "# Tiền xử lý data"
   ]
  },
  {
   "cell_type": "markdown",
   "id": "b3f70b75",
   "metadata": {},
   "source": [
    "## Find email with number nword"
   ]
  },
  {
   "cell_type": "code",
   "execution_count": 4,
   "id": "41e91c64",
   "metadata": {},
   "outputs": [],
   "source": [
    "def findEmailWithNumberNword(numberNWord):\n",
    "    data_700_email_np = data_700_email.values\n",
    "    data100Nword = []\n",
    "    data_filter = {}\n",
    "    for word in data_700_email_np:\n",
    "        if(data_filter.get((word[0])) == None):\n",
    "            data_filter[word[0]] = [word[1]]\n",
    "        else:\n",
    "            data_filter[word[0]].append(word[1])\n",
    "\n",
    "        \n",
    "    for keyEmail in data_filter:\n",
    "        find = True\n",
    "        for value in data_filter[keyEmail]:\n",
    "            if(value > numberNWord):\n",
    "                find = False\n",
    "                break\n",
    "        if(find):\n",
    "            data100Nword.append(keyEmail)\n",
    "        \n",
    "    print(data100Nword)\n",
    "    return data100Nword"
   ]
  },
  {
   "cell_type": "markdown",
   "id": "0f774432",
   "metadata": {},
   "source": [
    "**Tìm nword khác do không tìm được email nào với nword = 100 theo đề bài**"
   ]
  },
  {
   "cell_type": "code",
   "execution_count": 5,
   "id": "a99e2322",
   "metadata": {},
   "outputs": [
    {
     "name": "stdout",
     "output_type": "stream",
     "text": [
      "[]\n",
      "[]\n",
      "[73, 152, 169, 176, 255, 383, 415, 489, 524, 591, 625]\n"
     ]
    }
   ],
   "source": [
    "findEmailWithNumberNword(100)\n",
    "findEmailWithNumberNword(500)\n",
    "numberEmailFilter = findEmailWithNumberNword(1000)"
   ]
  },
  {
   "cell_type": "markdown",
   "id": "dba48b2d",
   "metadata": {},
   "source": [
    "**=> nword = 1000 sẽ có đc 11 email**"
   ]
  },
  {
   "cell_type": "code",
   "execution_count": 64,
   "id": "4c251992",
   "metadata": {},
   "outputs": [],
   "source": [
    "emailFiltered = pd.DataFrame();"
   ]
  },
  {
   "cell_type": "markdown",
   "id": "2dcf7b6c",
   "metadata": {},
   "source": [
    "**Lọc label tương ứng với email**"
   ]
  },
  {
   "cell_type": "code",
   "execution_count": 66,
   "id": "cbc00d01",
   "metadata": {},
   "outputs": [],
   "source": [
    "labelFilteredTemp = []\n",
    "i = 0\n",
    "for emailNumber in numberEmailFilter:\n",
    "    #data\n",
    "    dataFrame = data_700_email[data_700_email[0] == emailNumber]\n",
    "    dataFrame.loc[:,0] = i\n",
    "    emailFiltered = emailFiltered.append(dataFrame)\n",
    "    i += 1\n",
    "    #label\n",
    "    labelFilteredTemp.append(label_700_email.loc[emailNumber].values)"
   ]
  },
  {
   "cell_type": "code",
   "execution_count": 67,
   "id": "a09ee662",
   "metadata": {},
   "outputs": [
    {
     "name": "stdout",
     "output_type": "stream",
     "text": [
      "        0    1  2\n",
      "6037    0    4  1\n",
      "6038    0   29  1\n",
      "6039    0   35  1\n",
      "6040    0   45  3\n",
      "6041    0   56  1\n",
      "...    ..  ... ..\n",
      "72412  10  285  1\n",
      "72413  10  529  1\n",
      "72414  10  569  1\n",
      "72415  10  705  1\n",
      "72416  10  957  1\n",
      "\n",
      "[266 rows x 3 columns]\n",
      "[0 0 0 0 0 1 1 1 1 1 1]\n"
     ]
    }
   ],
   "source": [
    "print(emailFiltered)\n",
    "labelFilterd = np.array(labelFilteredTemp)\n",
    "labelFilterd = labelFilterd.reshape(11,)\n",
    "print(labelFilterd)"
   ]
  },
  {
   "cell_type": "markdown",
   "id": "3c39c51e",
   "metadata": {},
   "source": [
    "# Sparse Matrix"
   ]
  },
  {
   "cell_type": "code",
   "execution_count": 69,
   "id": "a3ea738d",
   "metadata": {},
   "outputs": [],
   "source": [
    "nwords = 1000\n",
    "nemails = 11\n",
    "rows = emailFiltered[0] \n",
    "cols = emailFiltered[1]\n",
    "data = emailFiltered[2]\n",
    "coo_data = coo_matrix((data, (rows, cols)), shape=(nemails, nwords)).toarray()"
   ]
  },
  {
   "cell_type": "code",
   "execution_count": 70,
   "id": "f697a779",
   "metadata": {},
   "outputs": [
    {
     "name": "stdout",
     "output_type": "stream",
     "text": [
      "[[0 0 0 ... 0 0 0]\n",
      " [0 0 0 ... 0 0 0]\n",
      " [0 0 0 ... 0 0 0]\n",
      " ...\n",
      " [0 0 0 ... 0 0 0]\n",
      " [0 0 0 ... 0 0 0]\n",
      " [0 0 0 ... 0 0 0]]\n"
     ]
    }
   ],
   "source": [
    "print(coo_data)"
   ]
  },
  {
   "cell_type": "markdown",
   "id": "84562e50",
   "metadata": {},
   "source": [
    "# Train - Test"
   ]
  },
  {
   "cell_type": "code",
   "execution_count": 74,
   "id": "020f6682",
   "metadata": {},
   "outputs": [],
   "source": [
    "train_feature, test_feature, train_label, test_label = train_test_split(coo_data, labelFilterd, test_size = 0.3, random_state=1)"
   ]
  },
  {
   "cell_type": "code",
   "execution_count": 75,
   "id": "a43daacd",
   "metadata": {},
   "outputs": [
    {
     "data": {
      "text/plain": [
       "MultinomialNB()"
      ]
     },
     "execution_count": 75,
     "metadata": {},
     "output_type": "execute_result"
    }
   ],
   "source": [
    "MNB = MultinomialNB()\n",
    "MNB.fit(train_feature, train_label)"
   ]
  },
  {
   "cell_type": "markdown",
   "id": "ac85c052",
   "metadata": {},
   "source": [
    "# 4. Predict - Evulation Accuracy"
   ]
  },
  {
   "cell_type": "code",
   "execution_count": 76,
   "id": "ee6fc262",
   "metadata": {},
   "outputs": [
    {
     "name": "stdout",
     "output_type": "stream",
     "text": [
      "[0 1 0 1]\n"
     ]
    }
   ],
   "source": [
    "predict_label = MNB.predict(test_feature)\n",
    "print(predict_label)"
   ]
  },
  {
   "cell_type": "code",
   "execution_count": 77,
   "id": "3d4d1021",
   "metadata": {},
   "outputs": [
    {
     "name": "stdout",
     "output_type": "stream",
     "text": [
      "Training size = 11, accuracy = 75.00%\n"
     ]
    }
   ],
   "source": [
    "print('Training size = %d, accuracy = %.2f%%' % \\\n",
    "      (coo_data.shape[0], accuracy_score(test_label, predict_label)*100))"
   ]
  }
 ],
 "metadata": {
  "kernelspec": {
   "display_name": "Python 3 (ipykernel)",
   "language": "python",
   "name": "python3"
  },
  "language_info": {
   "codemirror_mode": {
    "name": "ipython",
    "version": 3
   },
   "file_extension": ".py",
   "mimetype": "text/x-python",
   "name": "python",
   "nbconvert_exporter": "python",
   "pygments_lexer": "ipython3",
   "version": "3.9.6"
  }
 },
 "nbformat": 4,
 "nbformat_minor": 5
}
