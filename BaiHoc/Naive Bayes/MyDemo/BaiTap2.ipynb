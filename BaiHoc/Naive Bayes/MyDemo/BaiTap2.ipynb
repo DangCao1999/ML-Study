{
 "cells": [
  {
   "cell_type": "code",
   "execution_count": 1,
   "id": "b61b14c5",
   "metadata": {},
   "outputs": [],
   "source": [
    "import numpy as np\n",
    "import pandas as pd\n",
    "from scipy.sparse import coo_matrix\n",
    "from sklearn.naive_bayes import MultinomialNB, BernoulliNB\n",
    "from sklearn.metrics import accuracy_score\n",
    "from sklearn.model_selection import train_test_split"
   ]
  },
  {
   "cell_type": "markdown",
   "id": "2743fc4d",
   "metadata": {},
   "source": [
    "# Thu thập và tiền xử lý với bài tập"
   ]
  },
  {
   "cell_type": "markdown",
   "id": "8b6b4d76",
   "metadata": {},
   "source": [
    "* Lấy data:\n",
    "    * 10 email đầu lấy từ đầu tới email thứ 10\n",
    "    * 10 email tiếp theo lấy từ email thứ 700 ngược lại\n",
    "* Viết code chỉnh số thứ tự 691 - 700 thành 11-20 vào file data mới"
   ]
  },
  {
   "cell_type": "code",
   "execution_count": null,
   "id": "38c5a1ba",
   "metadata": {},
   "outputs": [],
   "source": []
  }
 ],
 "metadata": {
  "kernelspec": {
   "display_name": "Python 3 (ipykernel)",
   "language": "python",
   "name": "python3"
  },
  "language_info": {
   "codemirror_mode": {
    "name": "ipython",
    "version": 3
   },
   "file_extension": ".py",
   "mimetype": "text/x-python",
   "name": "python",
   "nbconvert_exporter": "python",
   "pygments_lexer": "ipython3",
   "version": "3.9.6"
  }
 },
 "nbformat": 4,
 "nbformat_minor": 5
}
