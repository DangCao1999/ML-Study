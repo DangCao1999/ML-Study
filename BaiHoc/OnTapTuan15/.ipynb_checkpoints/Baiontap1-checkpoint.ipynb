{
 "cells": [
  {
   "cell_type": "code",
   "execution_count": 1,
   "id": "9f292450",
   "metadata": {},
   "outputs": [],
   "source": [
    "import numpy as np\n",
    "import matplotlib.pyplot as plt\n",
    "from sklearn.linear_model import LinearRegression "
   ]
  },
  {
   "cell_type": "markdown",
   "id": "623768bd",
   "metadata": {},
   "source": [
    "# Tạo A,B và đường thẳng"
   ]
  },
  {
   "cell_type": "code",
   "execution_count": 29,
   "id": "60d8be11",
   "metadata": {},
   "outputs": [],
   "source": [
    "A = [7,15]\n",
    "B = [12,18]"
   ]
  },
  {
   "cell_type": "markdown",
   "id": "f18fd239",
   "metadata": {},
   "source": [
    "15 = 20a + b\n",
    "\n",
    "17 = 12a + b"
   ]
  },
  {
   "cell_type": "code",
   "execution_count": 42,
   "id": "81e8d352",
   "metadata": {},
   "outputs": [],
   "source": [
    "X = np.array([[7],[15]])\n",
    "Y = np.array([12,18])"
   ]
  },
  {
   "cell_type": "code",
   "execution_count": 43,
   "id": "b2cdb598",
   "metadata": {},
   "outputs": [],
   "source": [
    "lnr = LinearRegression().fit(X,Y)"
   ]
  },
  {
   "cell_type": "code",
   "execution_count": 44,
   "id": "9191d2e7",
   "metadata": {},
   "outputs": [
    {
     "name": "stdout",
     "output_type": "stream",
     "text": [
      "[0.75]\n",
      "6.750000000000002\n",
      "y = 0.7499999999999999 X + 6.750000000000002\n"
     ]
    }
   ],
   "source": [
    "print(lnr.coef_)\n",
    "print(lnr.intercept_)\n",
    "print(\"y =\",lnr.coef_[0],\"X +\",lnr.intercept_)"
   ]
  },
  {
   "cell_type": "markdown",
   "id": "63b262f6",
   "metadata": {},
   "source": [
    "# Biểu diễn đường thẳng"
   ]
  },
  {
   "cell_type": "code",
   "execution_count": 55,
   "id": "ca0d408d",
   "metadata": {},
   "outputs": [],
   "source": [
    "x = np.linspace(0, 20, 10)"
   ]
  },
  {
   "cell_type": "code",
   "execution_count": 56,
   "id": "585ef9de",
   "metadata": {},
   "outputs": [],
   "source": [
    "y = lnr.coef_[0]*x + lnr.intercept_"
   ]
  },
  {
   "cell_type": "code",
   "execution_count": 64,
   "id": "2c4547f6",
   "metadata": {},
   "outputs": [],
   "source": [
    "#y1 = lnr.predict(x.reshape(10,1))"
   ]
  },
  {
   "cell_type": "code",
   "execution_count": 62,
   "id": "19fb43c4",
   "metadata": {},
   "outputs": [
    {
     "name": "stdout",
     "output_type": "stream",
     "text": [
      "[ 0.          2.22222222  4.44444444  6.66666667  8.88888889 11.11111111\n",
      " 13.33333333 15.55555556 17.77777778 20.        ]\n"
     ]
    }
   ],
   "source": [
    "print(x)"
   ]
  },
  {
   "cell_type": "code",
   "execution_count": 66,
   "id": "39f00030",
   "metadata": {
    "scrolled": true
   },
   "outputs": [
    {
     "data": {
      "image/png": "[encoded data removed]",
      "text/plain": [
       "<Figure size 432x288 with 1 Axes>"
      ]
     },
     "metadata": {
      "needs_background": "light"
     },
     "output_type": "display_data"
    }
   ],
   "source": [
    "plt.plot(x,y)\n",
    "plt.scatter(X,Y)\n",
    "plt.show()"
   ]
  },
  {
   "cell_type": "code",
   "execution_count": 61,
   "id": "f52ef923",
   "metadata": {},
   "outputs": [
    {
     "data": {
      "image/png": "[encoded data removed]",
      "text/plain": [
       "<Figure size 432x288 with 1 Axes>"
      ]
     },
     "metadata": {
      "needs_background": "light"
     },
     "output_type": "display_data"
    }
   ],
   "source": [
    "plt.plot(x[:2],y[:2], color=\"green\")\n",
    "plt.plot(x[2:4],y[2:4], color=\"red\")\n",
    "plt.plot(x[2:],y[2:], color=\"blue\")\n",
    "plt.show()"
   ]
  },
  {
   "cell_type": "code",
   "execution_count": null,
   "id": "eb0bbc4b",
   "metadata": {},
   "outputs": [],
   "source": []
  }
 ],
 "metadata": {
  "kernelspec": {
   "display_name": "Python 3 (ipykernel)",
   "language": "python",
   "name": "python3"
  },
  "language_info": {
   "codemirror_mode": {
    "name": "ipython",
    "version": 3
   },
   "file_extension": ".py",
   "mimetype": "text/x-python",
   "name": "python",
   "nbconvert_exporter": "python",
   "pygments_lexer": "ipython3",
   "version": "3.8.3"
  }
 },
 "nbformat": 4,
 "nbformat_minor": 5
}
