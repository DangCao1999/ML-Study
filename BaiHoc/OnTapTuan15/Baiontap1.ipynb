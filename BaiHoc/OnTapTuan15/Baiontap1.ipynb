{
 "cells": [
  {
   "cell_type": "code",
   "execution_count": 1,
   "id": "c4c5aaec",
   "metadata": {},
   "outputs": [],
   "source": [
    "import numpy as np\n",
    "import matplotlib.pyplot as plt\n",
    "from sklearn.linear_model import LinearRegression "
   ]
  },
  {
   "cell_type": "markdown",
   "id": "d18fce40",
   "metadata": {},
   "source": [
    "# Tạo A,B và đường thẳng"
   ]
  },
  {
   "cell_type": "code",
   "execution_count": 29,
   "id": "666ba29e",
   "metadata": {},
   "outputs": [],
   "source": [
    "A = [7,15]\n",
    "B = [12,18]"
   ]
  },
  {
   "cell_type": "markdown",
   "id": "f4b4c1bc",
   "metadata": {},
   "source": [
    "15 = 20a + b\n",
    "\n",
    "17 = 12a + b"
   ]
  },
  {
   "cell_type": "code",
   "execution_count": 42,
   "id": "f6d72d90",
   "metadata": {},
   "outputs": [],
   "source": [
    "X = np.array([[7],[15]])\n",
    "Y = np.array([12,18])"
   ]
  },
  {
   "cell_type": "code",
   "execution_count": 43,
   "id": "e0c0f8df",
   "metadata": {},
   "outputs": [],
   "source": [
    "lnr = LinearRegression().fit(X,Y)"
   ]
  },
  {
   "cell_type": "code",
   "execution_count": 44,
   "id": "8fdad981",
   "metadata": {},
   "outputs": [
    {
     "name": "stdout",
     "output_type": "stream",
     "text": [
      "[0.75]\n",
      "6.750000000000002\n",
      "y = 0.7499999999999999 X + 6.750000000000002\n"
     ]
    }
   ],
   "source": [
    "print(lnr.coef_)\n",
    "print(lnr.intercept_)\n",
    "print(\"y =\",lnr.coef_[0],\"X +\",lnr.intercept_)"
   ]
  },
  {
   "cell_type": "markdown",
   "id": "f664e4c2",
   "metadata": {},
   "source": [
    "# Biểu diễn đường thẳng"
   ]
  },
  {
   "cell_type": "code",
   "execution_count": 114,
   "id": "37babc4f",
   "metadata": {},
   "outputs": [],
   "source": [
    "x = np.linspace(0, 20,20, dtype=int)"
   ]
  },
  {
   "cell_type": "code",
   "execution_count": 115,
   "id": "90240742",
   "metadata": {},
   "outputs": [],
   "source": [
    "y = lnr.coef_[0]*x + lnr.intercept_"
   ]
  },
  {
   "cell_type": "code",
   "execution_count": 116,
   "id": "126a0517",
   "metadata": {},
   "outputs": [],
   "source": [
    "#y1 = lnr.predict(x.reshape(10,1))"
   ]
  },
  {
   "cell_type": "code",
   "execution_count": 117,
   "id": "c3ada135",
   "metadata": {},
   "outputs": [
    {
     "name": "stdout",
     "output_type": "stream",
     "text": [
      "[ 0  1  2  3  4  5  6  7  8  9 10 11 12 13 14 15 16 17 18 20]\n"
     ]
    }
   ],
   "source": [
    "print(x)"
   ]
  },
  {
   "cell_type": "code",
   "execution_count": 98,
   "id": "7a6e9464",
   "metadata": {
    "scrolled": true
   },
   "outputs": [
    {
     "data": {
      "image/png": "[encoded data removed]",
      "text/plain": [
       "<Figure size 432x288 with 1 Axes>"
      ]
     },
     "metadata": {
      "needs_background": "light"
     },
     "output_type": "display_data"
    }
   ],
   "source": [
    "plt.plot(x,y)\n",
    "plt.scatter(X,Y)\n",
    "plt.show()"
   ]
  },
  {
   "cell_type": "markdown",
   "id": "c0c39109",
   "metadata": {},
   "source": [
    "# Vẽ đứt đoạn theo màu"
   ]
  },
  {
   "cell_type": "code",
   "execution_count": 125,
   "id": "612e30eb",
   "metadata": {},
   "outputs": [
    {
     "data": {
      "image/png": "[encoded data removed]",
      "text/plain": [
       "<Figure size 432x288 with 1 Axes>"
      ]
     },
     "metadata": {
      "needs_background": "light"
     },
     "output_type": "display_data"
    }
   ],
   "source": [
    "plt.plot(x[:8],y[:8], color=\"green\")\n",
    "plt.plot(x[7:16],y[7:16], color=\"red\")\n",
    "plt.plot(x[15:],y[15:], color=\"blue\")\n",
    "plt.scatter(X,Y)\n",
    "plt.show()"
   ]
  },
  {
   "cell_type": "markdown",
   "id": "945749cc",
   "metadata": {},
   "source": [
    "# Vẽ đứt đoạn theo điểm"
   ]
  },
  {
   "cell_type": "code",
   "execution_count": 127,
   "id": "c9604303",
   "metadata": {},
   "outputs": [
    {
     "data": {
      "text/plain": [
       "[<matplotlib.lines.Line2D at 0x1bcc1e9fa60>]"
      ]
     },
     "execution_count": 127,
     "metadata": {},
     "output_type": "execute_result"
    },
    {
     "data": {
      "image/png": "[encoded data removed]",
      "text/plain": [
       "<Figure size 432x288 with 1 Axes>"
      ]
     },
     "metadata": {
      "needs_background": "light"
     },
     "output_type": "display_data"
    }
   ],
   "source": [
    "plt.plot(0,y[0])\n",
    "plt.plot()"
   ]
  },
  {
   "cell_type": "code",
   "execution_count": null,
   "id": "c06804ed",
   "metadata": {},
   "outputs": [],
   "source": [
    "# "
   ]
  },
  {
   "cell_type": "code",
   "execution_count": null,
   "id": "da85f694",
   "metadata": {},
   "outputs": [],
   "source": []
  }
 ],
 "metadata": {
  "kernelspec": {
   "display_name": "Python 3 (ipykernel)",
   "language": "python",
   "name": "python3"
  },
  "language_info": {
   "codemirror_mode": {
    "name": "ipython",
    "version": 3
   },
   "file_extension": ".py",
   "mimetype": "text/x-python",
   "name": "python",
   "nbconvert_exporter": "python",
   "pygments_lexer": "ipython3",
   "version": "3.8.3"
  }
 },
 "nbformat": 4,
 "nbformat_minor": 5
}
