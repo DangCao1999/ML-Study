{
 "cells": [
  {
   "cell_type": "code",
   "execution_count": 16,
   "id": "4beeafac",
   "metadata": {},
   "outputs": [],
   "source": [
    "import pandas as pd\n",
    "import numpy as np\n",
    "import matplotlib.pyplot as plt\n",
    "from sklearn.linear_model import LinearRegression "
   ]
  },
  {
   "cell_type": "markdown",
   "id": "56a05bd0",
   "metadata": {},
   "source": [
    "# Đọc file"
   ]
  },
  {
   "cell_type": "code",
   "execution_count": 2,
   "id": "06f19f74",
   "metadata": {},
   "outputs": [
    {
     "data": {
      "text/html": [
       "<div>\n",
       "<style scoped>\n",
       "    .dataframe tbody tr th:only-of-type {\n",
       "        vertical-align: middle;\n",
       "    }\n",
       "\n",
       "    .dataframe tbody tr th {\n",
       "        vertical-align: top;\n",
       "    }\n",
       "\n",
       "    .dataframe thead th {\n",
       "        text-align: right;\n",
       "    }\n",
       "</style>\n",
       "<table border=\"1\" class=\"dataframe\">\n",
       "  <thead>\n",
       "    <tr style=\"text-align: right;\">\n",
       "      <th></th>\n",
       "      <th>DiemGK</th>\n",
       "      <th>DiemCK</th>\n",
       "    </tr>\n",
       "  </thead>\n",
       "  <tbody>\n",
       "    <tr>\n",
       "      <th>0</th>\n",
       "      <td>6.3</td>\n",
       "      <td>7.0</td>\n",
       "    </tr>\n",
       "    <tr>\n",
       "      <th>1</th>\n",
       "      <td>6.7</td>\n",
       "      <td>7.0</td>\n",
       "    </tr>\n",
       "    <tr>\n",
       "      <th>2</th>\n",
       "      <td>6.0</td>\n",
       "      <td>7.5</td>\n",
       "    </tr>\n",
       "    <tr>\n",
       "      <th>3</th>\n",
       "      <td>7.8</td>\n",
       "      <td>7.0</td>\n",
       "    </tr>\n",
       "    <tr>\n",
       "      <th>4</th>\n",
       "      <td>9.5</td>\n",
       "      <td>8.5</td>\n",
       "    </tr>\n",
       "  </tbody>\n",
       "</table>\n",
       "</div>"
      ],
      "text/plain": [
       "   DiemGK  DiemCK\n",
       "0     6.3     7.0\n",
       "1     6.7     7.0\n",
       "2     6.0     7.5\n",
       "3     7.8     7.0\n",
       "4     9.5     8.5"
      ]
     },
     "execution_count": 2,
     "metadata": {},
     "output_type": "execute_result"
    }
   ],
   "source": [
    "data = pd.read_csv(\"https://raw.githubusercontent.com/DangCao1999/ML-Study/master/BaiHoc/OnTapTuan15/data_OOP.csv\")\n",
    "data.head()"
   ]
  },
  {
   "cell_type": "code",
   "execution_count": 9,
   "id": "f5edc6ac",
   "metadata": {},
   "outputs": [
    {
     "data": {
      "text/plain": [
       "0     6.3\n",
       "1     6.7\n",
       "2     6.0\n",
       "3     7.8\n",
       "4     9.5\n",
       "5     8.5\n",
       "6     8.5\n",
       "7     8.3\n",
       "8     9.0\n",
       "9     8.5\n",
       "10    8.7\n",
       "11    9.3\n",
       "12    7.2\n",
       "13    8.7\n",
       "14    8.8\n",
       "15    8.3\n",
       "16    9.3\n",
       "17    7.7\n",
       "18    7.0\n",
       "19    8.0\n",
       "20    7.8\n",
       "Name: DiemGK, dtype: float64"
      ]
     },
     "execution_count": 9,
     "metadata": {},
     "output_type": "execute_result"
    }
   ],
   "source": [
    "data.iloc[:,0]"
   ]
  },
  {
   "cell_type": "code",
   "execution_count": 46,
   "id": "c9f1ff19",
   "metadata": {},
   "outputs": [
    {
     "name": "stdout",
     "output_type": "stream",
     "text": [
      "Empty DataFrame\n",
      "Columns: [DiemGK, DiemCK]\n",
      "Index: []\n"
     ]
    }
   ],
   "source": [
    "print(data.loc[data.DiemGK < 6])"
   ]
  },
  {
   "cell_type": "code",
   "execution_count": 57,
   "id": "1f2ef636",
   "metadata": {},
   "outputs": [
    {
     "data": {
      "text/html": [
       "<div>\n",
       "<style scoped>\n",
       "    .dataframe tbody tr th:only-of-type {\n",
       "        vertical-align: middle;\n",
       "    }\n",
       "\n",
       "    .dataframe tbody tr th {\n",
       "        vertical-align: top;\n",
       "    }\n",
       "\n",
       "    .dataframe thead th {\n",
       "        text-align: right;\n",
       "    }\n",
       "</style>\n",
       "<table border=\"1\" class=\"dataframe\">\n",
       "  <thead>\n",
       "    <tr style=\"text-align: right;\">\n",
       "      <th></th>\n",
       "      <th>DiemGK</th>\n",
       "      <th>DiemCK</th>\n",
       "    </tr>\n",
       "  </thead>\n",
       "  <tbody>\n",
       "    <tr>\n",
       "      <th>3</th>\n",
       "      <td>7.8</td>\n",
       "      <td>7.0</td>\n",
       "    </tr>\n",
       "    <tr>\n",
       "      <th>12</th>\n",
       "      <td>7.2</td>\n",
       "      <td>6.0</td>\n",
       "    </tr>\n",
       "    <tr>\n",
       "      <th>17</th>\n",
       "      <td>7.7</td>\n",
       "      <td>9.0</td>\n",
       "    </tr>\n",
       "    <tr>\n",
       "      <th>20</th>\n",
       "      <td>7.8</td>\n",
       "      <td>6.0</td>\n",
       "    </tr>\n",
       "  </tbody>\n",
       "</table>\n",
       "</div>"
      ],
      "text/plain": [
       "    DiemGK  DiemCK\n",
       "3      7.8     7.0\n",
       "12     7.2     6.0\n",
       "17     7.7     9.0\n",
       "20     7.8     6.0"
      ]
     },
     "execution_count": 57,
     "metadata": {},
     "output_type": "execute_result"
    }
   ],
   "source": [
    "data[(data.DiemGK > 7) & (data.DiemGK < 8)]"
   ]
  },
  {
   "cell_type": "markdown",
   "id": "d0547e87",
   "metadata": {},
   "source": [
    "# Vẽ đồ thị"
   ]
  },
  {
   "cell_type": "code",
   "execution_count": 60,
   "id": "01b6dcf8",
   "metadata": {},
   "outputs": [
    {
     "data": {
      "image/png": "[encoded data removed]",
      "text/plain": [
       "<Figure size 432x288 with 1 Axes>"
      ]
     },
     "metadata": {
      "needs_background": "light"
     },
     "output_type": "display_data"
    }
   ],
   "source": [
    "plt.scatter(data[data.DiemGK < 7].iloc[:,0], data[data.DiemGK < 7].iloc[:,1], color=\"red\")\n",
    "plt.scatter(data[(data.DiemGK >= 7) & (data.DiemGK < 8)].iloc[:,0], data[(data.DiemGK >= 7) & (data.DiemGK < 8)].iloc[:,1], color=\"yellow\")\n",
    "plt.scatter(data[data.DiemGK >= 8].iloc[:,0],data[data.DiemGK >= 8].iloc[:,1])\n",
    "plt.show()"
   ]
  },
  {
   "cell_type": "code",
   "execution_count": 32,
   "id": "3b036b51",
   "metadata": {},
   "outputs": [],
   "source": [
    "train = data.tail(15).values\n",
    "test = data.head(5).values"
   ]
  },
  {
   "cell_type": "code",
   "execution_count": 41,
   "id": "793df294",
   "metadata": {},
   "outputs": [
    {
     "name": "stdout",
     "output_type": "stream",
     "text": [
      "(15, 2)\n"
     ]
    }
   ],
   "source": [
    "print(train.shape)\n",
    "train_X = train[:,0].reshape(15,1)\n",
    "train_y = train[:,1].reshape(15,1)"
   ]
  },
  {
   "cell_type": "code",
   "execution_count": 42,
   "id": "27bcaf5a",
   "metadata": {},
   "outputs": [],
   "source": [
    "lr = LinearRegression().fit(train_X, train_y)"
   ]
  },
  {
   "cell_type": "code",
   "execution_count": null,
   "id": "637d7610",
   "metadata": {},
   "outputs": [],
   "source": []
  }
 ],
 "metadata": {
  "kernelspec": {
   "display_name": "Python 3 (ipykernel)",
   "language": "python",
   "name": "python3"
  },
  "language_info": {
   "codemirror_mode": {
    "name": "ipython",
    "version": 3
   },
   "file_extension": ".py",
   "mimetype": "text/x-python",
   "name": "python",
   "nbconvert_exporter": "python",
   "pygments_lexer": "ipython3",
   "version": "3.8.3"
  }
 },
 "nbformat": 4,
 "nbformat_minor": 5
}
