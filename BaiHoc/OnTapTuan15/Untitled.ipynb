{
 "cells": [
  {
   "cell_type": "code",
   "execution_count": 1,
   "id": "e6f67c35",
   "metadata": {},
   "outputs": [],
   "source": [
    "import pandas as pd\n",
    "import numpy as np\n",
    "import matplotlib.pyplot as plt\n",
    "# from sklearn import svm"
   ]
  },
  {
   "cell_type": "markdown",
   "id": "475c81ea",
   "metadata": {},
   "source": [
    "# Đọc file"
   ]
  },
  {
   "cell_type": "code",
   "execution_count": null,
   "id": "609a2ae9",
   "metadata": {},
   "outputs": [],
   "source": [
    "data = n"
   ]
  }
 ],
 "metadata": {
  "kernelspec": {
   "display_name": "Python 3 (ipykernel)",
   "language": "python",
   "name": "python3"
  },
  "language_info": {
   "codemirror_mode": {
    "name": "ipython",
    "version": 3
   },
   "file_extension": ".py",
   "mimetype": "text/x-python",
   "name": "python",
   "nbconvert_exporter": "python",
   "pygments_lexer": "ipython3",
   "version": "3.8.3"
  }
 },
 "nbformat": 4,
 "nbformat_minor": 5
}
