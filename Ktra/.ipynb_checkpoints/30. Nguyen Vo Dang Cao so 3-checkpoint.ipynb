{
 "cells": [
  {
   "cell_type": "markdown",
   "id": "material-greene",
   "metadata": {},
   "source": [
    "## Bài 1: Viết hàm có 2 tham số a và b. Hàm trả về số lớn nhất"
   ]
  },
  {
   "cell_type": "code",
   "execution_count": 1,
   "id": "decreased-bride",
   "metadata": {},
   "outputs": [
    {
     "data": {
      "text/plain": [
       "6"
      ]
     },
     "execution_count": 1,
     "metadata": {},
     "output_type": "execute_result"
    }
   ],
   "source": [
    "def findMax(a,b):    \n",
    "    if a>b: \n",
    "        return a\n",
    "    else:\n",
    "        return b    \n",
    "    \n",
    "findMax(5,6)                                                                                        "
   ]
  },
  {
   "cell_type": "markdown",
   "id": "sorted-frost",
   "metadata": {},
   "source": [
    "## Bài 2: Nhập vào 3 số a, b và c bất kỳ. Xuất ra số lớn nhất sử dụng hàm của Bài 1"
   ]
  },
  {
   "cell_type": "code",
   "execution_count": 2,
   "id": "available-shirt",
   "metadata": {},
   "outputs": [
    {
     "name": "stdout",
     "output_type": "stream",
     "text": [
      "Nhap so a: 1\n",
      "Nhap so b: 2\n",
      "Nhap so c: 3\n",
      "So lon nhat: 3\n"
     ]
    }
   ],
   "source": [
    "a = input(\"Nhap so a: \")\n",
    "b = input(\"Nhap so b: \")\n",
    "c = input(\"Nhap so c: \")\n",
    "\n",
    "max = findMax(a,b)\n",
    "max = findMax(max,c)\n",
    "\n",
    "print('So lon nhat:',max)"
   ]
  },
  {
   "cell_type": "markdown",
   "id": "reported-attraction",
   "metadata": {},
   "source": [
    "## Bài 3: Viết hàm có 1 tham số n. Hàm xuất ra bảng cửu chương n.<br> Sử dụng hàm xuất ra bảng cửu chương 9\n"
   ]
  },
  {
   "cell_type": "code",
   "execution_count": 3,
   "id": "interim-mount",
   "metadata": {},
   "outputs": [
    {
     "name": "stdout",
     "output_type": "stream",
     "text": [
      "9 x 1 = 9\n",
      "9 x 2 = 18\n",
      "9 x 3 = 27\n",
      "9 x 4 = 36\n",
      "9 x 5 = 45\n",
      "9 x 6 = 54\n",
      "9 x 7 = 63\n",
      "9 x 8 = 72\n",
      "9 x 9 = 81\n",
      "9 x 10 = 90\n"
     ]
    }
   ],
   "source": [
    "def printBangCuuChuong(n):\n",
    "    for i in range(1,11):\n",
    "        print (n,'x',i,\"=\", int(n)*i)\n",
    "\n",
    "printBangCuuChuong(9)"
   ]
  },
  {
   "cell_type": "markdown",
   "id": "plain-initial",
   "metadata": {},
   "source": [
    "## Bài 4: Viết hàm có 1 tham số n. Hàm xuất ra tất cả các ước số của n. <br> Sử dụng hàm xuất ra tất cả các ước của 30"
   ]
  },
  {
   "cell_type": "code",
   "execution_count": 4,
   "id": "religious-patient",
   "metadata": {},
   "outputs": [
    {
     "data": {
      "text/plain": [
       "[1, 2, 3, 5, 6, 10, 15, 30]"
      ]
     },
     "execution_count": 4,
     "metadata": {},
     "output_type": "execute_result"
    }
   ],
   "source": [
    "def findUS(n):\n",
    "    usn = []\n",
    "    for i in range(1,n+1):\n",
    "        if(n%i == 0):\n",
    "            usn.append(i)\n",
    "    return usn\n",
    "    \n",
    "findUS(30)"
   ]
  },
  {
   "cell_type": "markdown",
   "id": "operational-voltage",
   "metadata": {},
   "source": [
    "## Bài 5: Tạo list gồm n số nguyên/số thực ngẫu nhiên. Tính tổng các số chẵn của list. Xuất ra tất cả các ước của tổng sử dụng hàm của Bài 4"
   ]
  },
  {
   "cell_type": "code",
   "execution_count": 6,
   "id": "lesser-functionality",
   "metadata": {},
   "outputs": [
    {
     "name": "stdout",
     "output_type": "stream",
     "text": [
      "List la: [62, 12, 38, 37, 37, 24, 15, 97, 93, 14]\n",
      "Tong la: 150\n",
      "Uoc so cua 150 la: [1, 2, 3, 5, 6, 10, 15, 25, 30, 50, 75, 150]\n"
     ]
    }
   ],
   "source": [
    "import random\n",
    "\n",
    "def createListRandom(n):\n",
    "    listRandom = []\n",
    "    for i in range(n):\n",
    "        listRandom.append(random.randrange(1,100))\n",
    "    return listRandom\n",
    "\n",
    "def sumEvenNumber(arr):\n",
    "    sum = 0;\n",
    "    for number in arr:\n",
    "        if number%2 == 0:\n",
    "            sum += number\n",
    "    return sum\n",
    "\n",
    "list = createListRandom(10)\n",
    "sum = sumEvenNumber(list)\n",
    "print('List la:', list)\n",
    "print('Tong la:',sum)\n",
    "print('Uoc so cua',sum, 'la:' ,findUS(sum))\n"
   ]
  },
  {
   "cell_type": "code",
   "execution_count": null,
   "id": "3caede18",
   "metadata": {},
   "outputs": [],
   "source": []
  }
 ],
 "metadata": {
  "kernelspec": {
   "display_name": "Python 3 (ipykernel)",
   "language": "python",
   "name": "python3"
  },
  "language_info": {
   "codemirror_mode": {
    "name": "ipython",
    "version": 3
   },
   "file_extension": ".py",
   "mimetype": "text/x-python",
   "name": "python",
   "nbconvert_exporter": "python",
   "pygments_lexer": "ipython3",
   "version": "3.9.6"
  }
 },
 "nbformat": 4,
 "nbformat_minor": 5
}
