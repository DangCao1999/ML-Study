{
 "cells": [
  {
   "cell_type": "markdown",
   "id": "material-greene",
   "metadata": {},
   "source": [
    "## Bài 1: Nhập vào 2 số a và b bất kỳ. Xuất ra số lớn nhất"
   ]
  },
  {
   "cell_type": "code",
   "execution_count": 3,
   "id": "decreased-bride",
   "metadata": {},
   "outputs": [
    {
     "name": "stdout",
     "output_type": "stream",
     "text": [
      "Nhap so a: 13\n",
      "Nhap so b: 11\n",
      "so lon nhat la: 13\n"
     ]
    }
   ],
   "source": [
    "a = input(\"Nhap so a: \")\n",
    "b = input(\"Nhap so b: \")\n",
    "if a>b: \n",
    "    print(\"so lon nhat la:\", a)\n",
    "else:\n",
    "    print(\"so lon nhat la:\", b)"
   ]
  },
  {
   "cell_type": "markdown",
   "id": "sorted-frost",
   "metadata": {},
   "source": [
    "## Bài 2: Nhập vào 3 số a, b và c bất kỳ. Xuất ra số bé nhất"
   ]
  },
  {
   "cell_type": "code",
   "execution_count": null,
   "id": "available-shirt",
   "metadata": {},
   "outputs": [],
   "source": [
    "a = input(\"Nhap so a: \")\n",
    "b = input(\"Nhap so b: \")\n",
    "c = input(\"Nhap so c: \")\n",
    "\n",
    "max = a;\n",
    "if(max < b)\n",
    "    max = b\n",
    "\n",
    "if(max < c):\n",
    "    max = c\n",
    "\n",
    "    \n",
    "print(\"so lon nhat la: \", max)\n",
    "    \n",
    "\n",
    "    "
   ]
  },
  {
   "cell_type": "markdown",
   "id": "reported-attraction",
   "metadata": {},
   "source": [
    "## Bài 3: Nhập vào số tự nhiên n. Xuất ra bảng cửu chương n"
   ]
  },
  {
   "cell_type": "code",
   "execution_count": 6,
   "id": "interim-mount",
   "metadata": {},
   "outputs": [
    {
     "name": "stdout",
     "output_type": "stream",
     "text": [
      "nhap so n:5\n",
      "5 x 1 = 5\n",
      "5 x 2 = 10\n",
      "5 x 3 = 15\n",
      "5 x 4 = 20\n",
      "5 x 5 = 25\n",
      "5 x 6 = 30\n",
      "5 x 7 = 35\n",
      "5 x 8 = 40\n",
      "5 x 9 = 45\n",
      "5 x 10 = 50\n"
     ]
    }
   ],
   "source": [
    "n = input(\"nhap so n:\")\n",
    "\n",
    "for i in range(1,11):\n",
    "    print (n,'x',i,\"=\", int(n)*i)\n"
   ]
  },
  {
   "cell_type": "markdown",
   "id": "plain-initial",
   "metadata": {},
   "source": [
    "## Bài 4: Nhập vào số tự nhiên n. Xuất ra tất cả các ước số của n"
   ]
  },
  {
   "cell_type": "code",
   "execution_count": 8,
   "id": "religious-patient",
   "metadata": {},
   "outputs": [
    {
     "name": "stdout",
     "output_type": "stream",
     "text": [
      "nhap so n:5\n",
      "1\n",
      "5\n"
     ]
    }
   ],
   "source": [
    "n = int(input(\"nhap so n:\"))\n",
    "for i in range(1, n+1):\n",
    "    if (n % i == 0):\n",
    "        print(i)"
   ]
  },
  {
   "cell_type": "markdown",
   "id": "beautiful-monroe",
   "metadata": {},
   "source": [
    "## Bài 5: Nhập vào số dương n. Nếu nhập sai yêu cầu nhập lại cho đến khi nhập đúng. Tính tổng các số chẵn nhỏ hơn n"
   ]
  },
  {
   "cell_type": "code",
   "execution_count": 12,
   "id": "lesser-wilson",
   "metadata": {},
   "outputs": [
    {
     "name": "stdout",
     "output_type": "stream",
     "text": [
      "nhap n: 5\n",
      "6\n"
     ]
    }
   ],
   "source": [
    "n = int(input(\"nhap n: \"))\n",
    "while(n<=0):\n",
    "    n = int(input(\"nhap lai n: \"))\n",
    "\n",
    "i = 0\n",
    "tong = 0\n",
    "while(i<=n):\n",
    "    tong += i\n",
    "    i += 2;\n",
    "print(tong)"
   ]
  },
  {
   "cell_type": "code",
   "execution_count": null,
   "id": "903e476d",
   "metadata": {},
   "outputs": [],
   "source": []
  },
  {
   "cell_type": "code",
   "execution_count": null,
   "id": "7cb144c3",
   "metadata": {},
   "outputs": [],
   "source": []
  }
 ],
 "metadata": {
  "kernelspec": {
   "display_name": "Python 3 (ipykernel)",
   "language": "python",
   "name": "python3"
  },
  "language_info": {
   "codemirror_mode": {
    "name": "ipython",
    "version": 3
   },
   "file_extension": ".py",
   "mimetype": "text/x-python",
   "name": "python",
   "nbconvert_exporter": "python",
   "pygments_lexer": "ipython3",
   "version": "3.9.6"
  }
 },
 "nbformat": 4,
 "nbformat_minor": 5
}
