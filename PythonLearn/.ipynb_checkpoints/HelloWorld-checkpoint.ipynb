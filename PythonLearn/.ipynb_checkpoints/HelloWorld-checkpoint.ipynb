{
 "cells": [
  {
   "cell_type": "markdown",
   "id": "28bf7ed5",
   "metadata": {},
   "source": [
    "# Một số phím tắt cần nhớ"
   ]
  },
  {
   "cell_type": "markdown",
   "id": "4e373617",
   "metadata": {},
   "source": [
    "Shift + Enter: Thực thi cell <br>\n",
    "Enter: Edit cell <br>\n",
    "Ctrl + /: Comment hoặc Uncomment <br>\n",
    "Ctrl + x: Cắt một dòng vào clipboard <br>"
   ]
  },
  {
   "cell_type": "code",
   "execution_count": 1,
   "id": "dc5c4e72",
   "metadata": {},
   "outputs": [
    {
     "name": "stdout",
     "output_type": "stream",
     "text": [
      "Hello World0\n"
     ]
    }
   ],
   "source": [
    "print('Hello World0')"
   ]
  },
  {
   "cell_type": "code",
   "execution_count": 2,
   "id": "f58ef9d1",
   "metadata": {},
   "outputs": [
    {
     "name": "stdout",
     "output_type": "stream",
     "text": [
      "Hello World10\n",
      "Hello World20\n",
      "Hello World30\n"
     ]
    }
   ],
   "source": [
    "print('Hello World10')\n",
    "print('Hello World20')\n",
    "print('Hello World30')"
   ]
  },
  {
   "cell_type": "markdown",
   "id": "9a0840a9",
   "metadata": {},
   "source": [
    "# 1.Kiểu dữ liệu: int, float, string, boolean"
   ]
  },
  {
   "cell_type": "code",
   "execution_count": 3,
   "id": "215e3f3d",
   "metadata": {},
   "outputs": [
    {
     "name": "stdout",
     "output_type": "stream",
     "text": [
      "10\n"
     ]
    }
   ],
   "source": [
    "n = 10\n",
    "print(n)"
   ]
  },
  {
   "cell_type": "markdown",
   "id": "dec49091",
   "metadata": {},
   "source": [
    "## 1.1 Cast (ép kiểu)"
   ]
  },
  {
   "cell_type": "code",
   "execution_count": 4,
   "id": "1ae8ae03",
   "metadata": {},
   "outputs": [
    {
     "name": "stdout",
     "output_type": "stream",
     "text": [
      "Vui long cho biet ten: Cao\n",
      "Hello Cao\n"
     ]
    }
   ],
   "source": [
    "name = input('Vui long cho biet ten: ')\n",
    "print('Hello',name)"
   ]
  },
  {
   "cell_type": "code",
   "execution_count": 5,
   "id": "7b5e7639",
   "metadata": {},
   "outputs": [
    {
     "name": "stdout",
     "output_type": "stream",
     "text": [
      "Vui long cho biet nam sinh: 1998\n",
      "Tuoi cua ban la: 23\n"
     ]
    }
   ],
   "source": [
    "namsinh = input('Vui long cho biet nam sinh: ')\n",
    "tuoi = 2021 - int(namsinh) #ep kieu tai day\n",
    "print('Tuoi cua ban la:', tuoi)"
   ]
  },
  {
   "cell_type": "markdown",
   "id": "76bce740",
   "metadata": {},
   "source": [
    "# 2. Toán tử: "
   ]
  },
  {
   "cell_type": "markdown",
   "id": "46f51453",
   "metadata": {},
   "source": [
    "## 2.1 Toán tử bình thường: +, -, *, /, // (chia lấy phần nguyên), % (chia lấy dư), ** (phép mũ)"
   ]
  },
  {
   "cell_type": "code",
   "execution_count": 6,
   "id": "930ca056",
   "metadata": {},
   "outputs": [
    {
     "name": "stdout",
     "output_type": "stream",
     "text": [
      "7.5\n"
     ]
    }
   ],
   "source": [
    "print(15/2)"
   ]
  },
  {
   "cell_type": "code",
   "execution_count": 7,
   "id": "d35edfcc",
   "metadata": {},
   "outputs": [
    {
     "name": "stdout",
     "output_type": "stream",
     "text": [
      "7\n"
     ]
    }
   ],
   "source": [
    "print(15//2)"
   ]
  },
  {
   "cell_type": "code",
   "execution_count": 8,
   "id": "f75ea1fc",
   "metadata": {},
   "outputs": [
    {
     "name": "stdout",
     "output_type": "stream",
     "text": [
      "1\n"
     ]
    }
   ],
   "source": [
    "print(15%2)"
   ]
  },
  {
   "cell_type": "code",
   "execution_count": 9,
   "id": "f4cd1506",
   "metadata": {},
   "outputs": [
    {
     "name": "stdout",
     "output_type": "stream",
     "text": [
      "100\n"
     ]
    }
   ],
   "source": [
    "print(10**2)"
   ]
  },
  {
   "cell_type": "code",
   "execution_count": 10,
   "id": "0ce757c1",
   "metadata": {},
   "outputs": [
    {
     "name": "stdout",
     "output_type": "stream",
     "text": [
      "1024\n"
     ]
    }
   ],
   "source": [
    "print(2**10)"
   ]
  },
  {
   "cell_type": "markdown",
   "id": "2fcf92a7",
   "metadata": {},
   "source": [
    "## 2.2 Toán tử luận lý: and, or, not"
   ]
  },
  {
   "cell_type": "code",
   "execution_count": 11,
   "id": "fcb4358f",
   "metadata": {},
   "outputs": [
    {
     "name": "stdout",
     "output_type": "stream",
     "text": [
      "False\n",
      "True\n"
     ]
    }
   ],
   "source": [
    "print(1>2)\n",
    "print(1<2)"
   ]
  },
  {
   "cell_type": "code",
   "execution_count": 12,
   "id": "dbe86b23",
   "metadata": {},
   "outputs": [
    {
     "name": "stdout",
     "output_type": "stream",
     "text": [
      "False\n",
      "True\n"
     ]
    }
   ],
   "source": [
    "print(1>2 and 1<2)\n",
    "print(3>2 and 1<2)"
   ]
  },
  {
   "cell_type": "code",
   "execution_count": 13,
   "id": "3c900b9c",
   "metadata": {},
   "outputs": [
    {
     "name": "stdout",
     "output_type": "stream",
     "text": [
      "True\n"
     ]
    }
   ],
   "source": [
    "print(not 1>2)"
   ]
  },
  {
   "cell_type": "markdown",
   "id": "85545e8a",
   "metadata": {},
   "source": [
    "# 3. Statements"
   ]
  },
  {
   "cell_type": "markdown",
   "id": "fb554d66",
   "metadata": {},
   "source": [
    "## 3.1 if statements"
   ]
  },
  {
   "cell_type": "code",
   "execution_count": 14,
   "id": "119cd509",
   "metadata": {},
   "outputs": [
    {
     "name": "stdout",
     "output_type": "stream",
     "text": [
      "24\n"
     ]
    }
   ],
   "source": [
    "#Không sử dụng dấu () và {khối lệnh}\n",
    "n = 25\n",
    "if n>5 and n<20:\n",
    "    n += 1 #tăng n lên 1, không sử dụng n++\n",
    "    print(n)\n",
    "elif n <30 and n >=20:\n",
    "    n -= 1 \n",
    "    print(n)\n",
    "else:\n",
    "    print(n)"
   ]
  },
  {
   "cell_type": "markdown",
   "id": "0423cc9f",
   "metadata": {},
   "source": [
    "## 3.2 for statements"
   ]
  },
  {
   "cell_type": "code",
   "execution_count": 1,
   "id": "bd9ebe3a",
   "metadata": {},
   "outputs": [
    {
     "name": "stdout",
     "output_type": "stream",
     "text": [
      "Chữ cái hiện tại: n\n",
      "Chữ cái hiện tại: g\n",
      "Chữ cái hiện tại: u\n",
      "Chữ cái hiện tại: y\n",
      "Chữ cái hiện tại: e\n",
      "Chữ cái hiện tại: n\n",
      "Chữ cái hiện tại: v\n",
      "Chữ cái hiện tại: o\n",
      "Chữ cái hiện tại: d\n",
      "Chữ cái hiện tại: a\n",
      "Chữ cái hiện tại: n\n",
      "Chữ cái hiện tại: g\n",
      "Chữ cái hiện tại: c\n",
      "Chữ cái hiện tại: a\n",
      "Chữ cái hiện tại: o\n",
      "nguyen\n",
      "vo\n",
      "dang\n",
      "cao\n"
     ]
    }
   ],
   "source": [
    "# a. sử dụng for i in [list]\n",
    "# b. sử dụng for i in range(begin, end, [step])\n",
    "\n",
    "for chu in 'nguyenvodangcao':\n",
    "    print('Chữ cái hiện tại:', chu)\n",
    "\n",
    "chuoi = ['nguyen','vo','dang', 'cao']\n",
    "for tu in chuoi:\n",
    "    print(tu)"
   ]
  },
  {
   "cell_type": "markdown",
   "id": "eab51564",
   "metadata": {},
   "source": [
    "## 3.3 while statements"
   ]
  },
  {
   "cell_type": "code",
   "execution_count": 2,
   "id": "5f9a3a55",
   "metadata": {},
   "outputs": [
    {
     "name": "stdout",
     "output_type": "stream",
     "text": [
      "Số thứ 0  là: 0\n",
      "Số thứ 1  là: 1\n",
      "Số thứ 2  là: 2\n",
      "Số thứ 3  là: 3\n",
      "Số thứ 4  là: 4\n",
      "Số thứ 5  là: 5\n",
      "Số thứ 6  là: 6\n",
      "Số thứ 7  là: 7\n"
     ]
    }
   ],
   "source": [
    "count = 0\n",
    "n = 0\n",
    "while (count < 8):\n",
    "      print ('Số thứ', n,' là:', count)\n",
    "      n = n + 1\n",
    "      count = count + 1"
   ]
  },
  {
   "cell_type": "code",
   "execution_count": 3,
   "id": "8dda4d82",
   "metadata": {},
   "outputs": [
    {
     "name": "stdout",
     "output_type": "stream",
     "text": [
      "Nhập n: 15\n",
      "Tổng là 120\n"
     ]
    }
   ],
   "source": [
    "n = int(input(\"Nhập n: \")) #Nhập số n tùy ý\n",
    "tong = 0 #khai báo và gán giá trị cho tong\n",
    "i = 1 #khai báo và gán giá trị cho biến đếm i\n",
    "\n",
    "while i <= n:\n",
    "    tong = tong + i\n",
    "    i = i+1 # cập nhật biến đếm\n",
    "\n",
    "print(\"Tổng là\", tong)"
   ]
  },
  {
   "cell_type": "markdown",
   "id": "d6268214",
   "metadata": {},
   "source": [
    "# Lưu ý: Không có phát biểu switch và do"
   ]
  }
 ],
 "metadata": {
  "kernelspec": {
   "display_name": "Python 3 (ipykernel)",
   "language": "python",
   "name": "python3"
  },
  "language_info": {
   "codemirror_mode": {
    "name": "ipython",
    "version": 3
   },
   "file_extension": ".py",
   "mimetype": "text/x-python",
   "name": "python",
   "nbconvert_exporter": "python",
   "pygments_lexer": "ipython3",
   "version": "3.9.6"
  }
 },
 "nbformat": 4,
 "nbformat_minor": 5
}
