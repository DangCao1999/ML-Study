{
 "cells": [
  {
   "cell_type": "markdown",
   "id": "04d1d43a",
   "metadata": {},
   "source": [
    "# 1. Hàm không tham số"
   ]
  },
  {
   "cell_type": "code",
   "execution_count": 2,
   "id": "a495ceb2",
   "metadata": {},
   "outputs": [
    {
     "name": "stdout",
     "output_type": "stream",
     "text": [
      "hello world\n"
     ]
    }
   ],
   "source": [
    "def hello():\n",
    "    print(\"hello world\")\n",
    "\n",
    "hello()"
   ]
  },
  {
   "cell_type": "markdown",
   "id": "f2c397b0",
   "metadata": {},
   "source": [
    "# 2. Hàm có tham số, không có kiểu trả về"
   ]
  },
  {
   "cell_type": "code",
   "execution_count": 5,
   "id": "6749e31e",
   "metadata": {},
   "outputs": [
    {
     "name": "stdout",
     "output_type": "stream",
     "text": [
      "Hello Cao\n"
     ]
    }
   ],
   "source": [
    "def helloWithName(name):\n",
    "    print('Hello', name)\n",
    "\n",
    "helloWithName('Cao')"
   ]
  },
  {
   "cell_type": "code",
   "execution_count": 8,
   "id": "65968d68",
   "metadata": {},
   "outputs": [
    {
     "name": "stdout",
     "output_type": "stream",
     "text": [
      "Tong 2 so a va b la: 30\n",
      "Tong 2 so a va b la: 600\n"
     ]
    }
   ],
   "source": [
    "def printSum(a,b):\n",
    "    print('Tong 2 so a va b la:', a+b)\n",
    "\n",
    "sumab(10,20)\n",
    "sumab(500,100)"
   ]
  },
  {
   "cell_type": "markdown",
   "id": "445e8009",
   "metadata": {},
   "source": [
    "#  3. Hàm có tham số, có kiểu trả về"
   ]
  },
  {
   "cell_type": "code",
   "execution_count": 13,
   "id": "63450081",
   "metadata": {},
   "outputs": [
    {
     "name": "stdout",
     "output_type": "stream",
     "text": [
      "Tong so la: 140\n"
     ]
    }
   ],
   "source": [
    "def sum(a,b):\n",
    "    return a+b\n",
    "\n",
    "print('Tong so la:', sum(50,90))"
   ]
  },
  {
   "cell_type": "code",
   "execution_count": 15,
   "id": "19f853c2",
   "metadata": {},
   "outputs": [
    {
     "name": "stdout",
     "output_type": "stream",
     "text": [
      "Vui long nhap ten:Cao\n",
      "Hello Cao\n"
     ]
    }
   ],
   "source": [
    "def getName():\n",
    "    name=input('Vui long nhap ten:')\n",
    "    return name\n",
    "\n",
    "ten=getName()\n",
    "\n",
    "helloWithName(ten)"
   ]
  },
  {
   "cell_type": "code",
   "execution_count": null,
   "id": "4aad1648",
   "metadata": {},
   "outputs": [],
   "source": []
  }
 ],
 "metadata": {
  "kernelspec": {
   "display_name": "Python 3 (ipykernel)",
   "language": "python",
   "name": "python3"
  },
  "language_info": {
   "codemirror_mode": {
    "name": "ipython",
    "version": 3
   },
   "file_extension": ".py",
   "mimetype": "text/x-python",
   "name": "python",
   "nbconvert_exporter": "python",
   "pygments_lexer": "ipython3",
   "version": "3.9.6"
  }
 },
 "nbformat": 4,
 "nbformat_minor": 5
}
